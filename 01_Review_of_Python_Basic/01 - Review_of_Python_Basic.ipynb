{
 "metadata": {
  "language_info": {
   "codemirror_mode": {
    "name": "ipython",
    "version": 3
   },
   "file_extension": ".py",
   "mimetype": "text/x-python",
   "name": "python",
   "nbconvert_exporter": "python",
   "pygments_lexer": "ipython3",
   "version": 3
  },
  "orig_nbformat": 2
 },
 "nbformat": 4,
 "nbformat_minor": 2,
 "cells": [
  {
   "source": [
    "***\n",
    "# Chapter 1: Review of Python Basics\n",
    "***\n",
    "\n",
    "\n",
    "## 1.1 INTRODUCTION\n",
    "Python is an interpreted language as its programs are executed by an **interpreter**. Thus, Python interpreter should be installed on the computer system to write and run Python programs. Python IDLE (Integrated Development and Learning Environment) provides two working modes-interactive mode (popularly known as Python shell) and script mode.\n",
    "\n",
    "## 1.2 STRUCTURE OF A PYTHON PROGRAM\n",
    "A Python program constitues several elemenets such a statements, expression, functions, comments, etc., which are synchronized as in the manner as shown below.\n",
    "\n",
    "![Alt text](Figure_1_2_1.jpeg)\n",
    "\n",
    "\n",
    "\n",
    "\n",
    "## Several Components that a Python program holds are:\n",
    "- Expressions: An expression represents something, like a number, a string, or an element. Any value is an expression.\n",
    "\n",
    "- Statements: Anything that does something is a statement. Any assignment to a variable or function call is a statement. Any value contained in that statement is an expression. \n",
    "\n",
    "- Comments: Comments are the additional information provided against a statement or a chunk of code for the better clarity of the code. Interpreter ignores the comments and does not count them in commands.\n",
    "\n",
    "    Symbols used for writing comments include `Hash (#)` or `Triple Double Quotation marks` ('''). Hash (#) is used in writing single-line comments that do not span multiple lines. `Triple Quotation Marks` (\"\" or \"n\") are used to write multiple-line comments. Three triple quotation marks to start the comment and again three quotation marks to end the comment. Functions: Function is a set of instructions defined under a particular name, which once written can be called whenever and wherever required.\n",
    "\n",
    "- Block(s): A block refers to a group of statements which are part of another statement or function. All statements inside a block are indented at the same level.\n",
    "\n",
    "    ![Alt text](Figure_1_2_2.jpeg)\n"
   ],
   "cell_type": "markdown",
   "metadata": {}
  },
  {
   "cell_type": "code",
   "execution_count": null,
   "metadata": {},
   "outputs": [],
   "source": []
  },
  {
   "source": [],
   "cell_type": "markdown",
   "metadata": {}
  },
  {
   "source": [
    "\n"
   ],
   "cell_type": "markdown",
   "metadata": {}
  },
  {
   "source": [],
   "cell_type": "markdown",
   "metadata": {}
  }
 ]
}