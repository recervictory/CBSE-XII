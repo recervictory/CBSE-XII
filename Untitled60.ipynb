{
  "nbformat": 4,
  "nbformat_minor": 0,
  "metadata": {
    "colab": {
      "name": "Untitled60.ipynb",
      "provenance": [],
      "authorship_tag": "ABX9TyO5+R1Y616O7E8Z2SIApKL+",
      "include_colab_link": true
    },
    "kernelspec": {
      "name": "python3",
      "display_name": "Python 3"
    },
    "language_info": {
      "name": "python"
    }
  },
  "cells": [
    {
      "cell_type": "markdown",
      "metadata": {
        "id": "view-in-github",
        "colab_type": "text"
      },
      "source": [
        "<a href=\"https://colab.research.google.com/github/recervictory/CBSE-XII/blob/main/Untitled60.ipynb\" target=\"_parent\"><img src=\"https://colab.research.google.com/assets/colab-badge.svg\" alt=\"Open In Colab\"/></a>"
      ]
    },
    {
      "cell_type": "code",
      "execution_count": null,
      "metadata": {
        "colab": {
          "base_uri": "https://localhost:8080/"
        },
        "id": "Co5cB9fmWZpy",
        "outputId": "4af5743a-f249-4d5f-f3ac-0e577ad78f62"
      },
      "outputs": [
        {
          "output_type": "stream",
          "name": "stdout",
          "text": [
            "Enter the Year: 2000\n",
            "2000 is a leap year\n"
          ]
        }
      ],
      "source": [
        "# 1) WAP which will accept a year as an input and check it is a leap year or not.\n",
        "\n",
        "year = int(input(\"Enter the Year: \"))\n",
        "\n",
        "if (year % 400 == 0) and (year % 100 == 0):\n",
        "  print(\"{0} is a leap year\".format(year))\n",
        "elif (year % 4 ==0) and (year % 100 != 0):\n",
        "  print(\"{0} is a leap year\".format(year))\n",
        "else:\n",
        "  print(\"{0} is not a leap year\".format(year))"
      ]
    },
    {
      "cell_type": "code",
      "source": [
        "# 2) WAP which will accept a student’s name and marks of five subjects, then calculate total marks and average marks and find out the grade with the following rule:\n",
        "\n",
        "name = input(\"Enter Name: \")\n",
        "total = 0\n",
        "\n",
        "for i in range(5):\n",
        "  total  += float(input(\"Enter the {0} subject marks: \".format(i + 1)))\n",
        "\n",
        "print(\"Name: \",name)\n",
        "print(\"Total Marks: \", total)\n",
        "avg = total / 5\n",
        "print(\"Average Marks: \", avg)\n",
        "\n",
        "if avg >= 90:\n",
        "  grade = \"A\"\n",
        "elif avg >= 80 and avg < 90:\n",
        "  grade = \"B+\"\n",
        "elif avg >= 70 and avg < 80:\n",
        "  grade = \"B+\"\n",
        "elif avg >= 60 and avg < 70:\n",
        "  grade = \"B+\"\n",
        "elif avg >= 50 and avg < 60:\n",
        "  grade = \"B+\"\n",
        "elif avg < 50:\n",
        "  grade = \"Not Satisfactory\"\n",
        "print(\"Grade: \",grade)"
      ],
      "metadata": {
        "colab": {
          "base_uri": "https://localhost:8080/"
        },
        "id": "R2oMms7yXEWX",
        "outputId": "77fdb481-40d3-4b0c-e8f5-c4f2e851bc7f"
      },
      "execution_count": null,
      "outputs": [
        {
          "output_type": "stream",
          "name": "stdout",
          "text": [
            "Enter Name: Vic\n",
            "Enter the 1 subject marks: 90\n",
            "Enter the 2 subject marks: 89\n",
            "Enter the 3 subject marks: 78\n",
            "Enter the 4 subject marks: 78\n",
            "Enter the 5 subject marks: 89\n",
            "Total Marks:  424.0\n",
            "Average Marks:  84.8\n",
            "Grade:  B+\n"
          ]
        }
      ]
    },
    {
      "cell_type": "code",
      "source": [
        "## 3) WAP which will accept the units consumed and calculate the electric bill as follows:\n",
        "\n",
        "units = int(input(\"Enter the units of consumption: \"))\n",
        "rate = 100\n",
        "\n",
        "if units >= 200:\n",
        "  rate += units * 8.5\n",
        "elif units <= 50:\n",
        "   rate += units * 5\n",
        "elif units > 50 and units < 100:\n",
        "   rate += units * 6\n",
        "elif units > 100 and units < 200:\n",
        "   rate += units * 6\n",
        "\n",
        "print(\"Electric Bill\", rate)"
      ],
      "metadata": {
        "colab": {
          "base_uri": "https://localhost:8080/"
        },
        "id": "u1HAA31rYZpy",
        "outputId": "ea4b6efc-557e-4d84-847e-7f452f06807c"
      },
      "execution_count": null,
      "outputs": [
        {
          "output_type": "stream",
          "name": "stdout",
          "text": [
            "Enter the units of conxumption: 110\n",
            "Electric Bill 760\n"
          ]
        }
      ]
    },
    {
      "cell_type": "code",
      "source": [
        "# 4) WAP which will take a no. as input and check whether it is palindrome no. or not.\n",
        "\n",
        "num = int(input(\"Enter a number: \"))\n",
        "rev = 0\n",
        "temp = num\n",
        "\n",
        "while temp > 0:\n",
        "  last = temp % 10\n",
        "  rev = rev * 10 + last\n",
        "  temp = temp // 10\n",
        "\n",
        "if num == rev:\n",
        "  print(\"{0} is a palindrome number\".format(num))\n",
        "else:\n",
        "  print(\"{0} is a not palindrome number\".format(num))"
      ],
      "metadata": {
        "colab": {
          "base_uri": "https://localhost:8080/"
        },
        "id": "D242V1u4cbm1",
        "outputId": "04c3ee6f-27b3-42e9-f762-9ce38344c5e8"
      },
      "execution_count": null,
      "outputs": [
        {
          "output_type": "stream",
          "name": "stdout",
          "text": [
            "Enter a number: 121\n",
            "121 is a palindrome number\n"
          ]
        }
      ]
    },
    {
      "cell_type": "code",
      "source": [
        "# 5) WAP which will accept a range and find out all the perfect numbers within the range.\n",
        "\n",
        "start = int(input(\"Enter a fisrt number: \"))\n",
        "end = int(input(\"Enter a last number: \"))\n",
        "\n",
        "for i in range(start,end +1):\n",
        "  print(i)"
      ],
      "metadata": {
        "colab": {
          "base_uri": "https://localhost:8080/"
        },
        "id": "8onM9Qlydh9f",
        "outputId": "aeb42eab-5371-4092-a179-2e5b7824bb5f"
      },
      "execution_count": null,
      "outputs": [
        {
          "output_type": "stream",
          "name": "stdout",
          "text": [
            "Enter a fisrt number: 10\n",
            "Enter a last number: 20\n",
            "10\n",
            "11\n",
            "12\n",
            "13\n",
            "14\n",
            "15\n",
            "16\n",
            "17\n",
            "18\n",
            "19\n",
            "20\n"
          ]
        }
      ]
    },
    {
      "cell_type": "code",
      "source": [
        "## 6) WAP which will take your email id as input and it will check whether it is a valid email id or not. \n",
        "# (Criteria for a valid email: there should be one “@” sign and one “.” Sign)\n",
        "\n",
        "email = input(\"Enter Email is: \")\n",
        "\n",
        "if email.count(\"@\") == 1 and email.count(\".\") == 1:\n",
        "  print(\"Valid Mail...\")\n",
        "else:\n",
        "  print(\"Invalid Mail...\")"
      ],
      "metadata": {
        "colab": {
          "base_uri": "https://localhost:8080/"
        },
        "id": "BAjyEWXKeWl9",
        "outputId": "91733aeb-3086-4667-edf6-19f025b0858a"
      },
      "execution_count": null,
      "outputs": [
        {
          "output_type": "stream",
          "name": "stdout",
          "text": [
            "Enter Email is: recervictory@gmail.com\n",
            "Valid Mail...\n"
          ]
        }
      ]
    },
    {
      "cell_type": "code",
      "source": [
        "## 7) WAP which will accept two numbers and swap the values without using third variable.\n",
        "\n",
        "\n",
        "num1 = int(input(\"Enter a first number : \"))\n",
        "num2 = int(input(\"Enter a second number: \"))\n",
        "\n",
        "num1 , num2 = num2, num1\n",
        "\n",
        "print(\"First Num:{0} ,Second Num:{1}\".format(num1,num2))"
      ],
      "metadata": {
        "colab": {
          "base_uri": "https://localhost:8080/"
        },
        "id": "8fZ7DemjfH-n",
        "outputId": "075e3c90-6cf0-4543-fdfe-29b3c547a0b0"
      },
      "execution_count": null,
      "outputs": [
        {
          "output_type": "stream",
          "name": "stdout",
          "text": [
            "Enter a fisrt number : 10\n",
            "Enter a second number: 20\n",
            "First Num:20 ,Second Num:10\n"
          ]
        }
      ]
    },
    {
      "cell_type": "code",
      "source": [
        "## 9) WAP which will accept your name as an input and print in the following  way:\n",
        "\n",
        "name = input(\"Enter Name: \")\n",
        "name_lst = name.split()\n",
        "surname = name_lst.pop()\n",
        "short = \"\"\n",
        "for text in name_lst:\n",
        "  short  += text[0] + \".\"\n",
        "print(short + surname)"
      ],
      "metadata": {
        "colab": {
          "base_uri": "https://localhost:8080/"
        },
        "id": "ZhFEOc8vf7jf",
        "outputId": "34022a4c-3b7f-4788-aa45-91c3fdbf44da"
      },
      "execution_count": null,
      "outputs": [
        {
          "output_type": "stream",
          "name": "stdout",
          "text": [
            "Enter Name: Subhash Chandra\n",
            "S.Chandra\n"
          ]
        }
      ]
    },
    {
      "cell_type": "code",
      "source": [
        "## 10) WAP which will accept two strings and it will form a new string made of first two characters from 1st string and last 2 characters from 2nd string.\n",
        "\n",
        "text1 = input(\"Enter a first string : \")\n",
        "text2 = input(\"Enter a second string: \")\n",
        "\n",
        "new = text1[:2] + text2[-2:]\n",
        "print(new)"
      ],
      "metadata": {
        "colab": {
          "base_uri": "https://localhost:8080/"
        },
        "id": "865619r3gote",
        "outputId": "bcc1c00f-143b-4716-d902-02f848211ee5"
      },
      "execution_count": null,
      "outputs": [
        {
          "output_type": "stream",
          "name": "stdout",
          "text": [
            "Enter a first string : 000\n",
            "Enter a second string: 123\n",
            "0023\n"
          ]
        }
      ]
    },
    {
      "cell_type": "code",
      "source": [
        "## 12) WAP to print sum of the given series: S=1-2/3!+3/4!-4/5!..... upto nth terms.\n",
        "\n",
        "sum = 1\n",
        "\n",
        "num = int(input(\"Enter a number: \"))\n",
        "\n",
        "for i in range(2,num +1):\n",
        "  fact = 1\n",
        "  for j in range(1,i +2):\n",
        "    fact *= j\n",
        "  if i % 2 == 0:\n",
        "    sum -= i/fact\n",
        "  else:\n",
        "    sum -= i/fact\n",
        "\n",
        "print(sum)"
      ],
      "metadata": {
        "colab": {
          "base_uri": "https://localhost:8080/"
        },
        "id": "b3GmwiNQi1oS",
        "outputId": "104c386c-2de2-42bf-e29b-c7dafcdac860"
      },
      "execution_count": null,
      "outputs": [
        {
          "output_type": "stream",
          "name": "stdout",
          "text": [
            "Enter a number: 4\n",
            "0.5083333333333334\n"
          ]
        }
      ]
    },
    {
      "cell_type": "code",
      "source": [
        "# 13) WAP in which you have to form a list of integers and search for a no. whether it is in the list or not.\n",
        "\n",
        "lst = [1,2,3,4,5]\n",
        "\n",
        "num = int(input(\"Enter a number: \"))\n",
        "\n",
        "if num in lst:\n",
        "  print(\"{0} is in the list\".format(num))\n",
        "else:\n",
        "  print(\"{0} is not in the list\".format(num))"
      ],
      "metadata": {
        "colab": {
          "base_uri": "https://localhost:8080/"
        },
        "id": "g6_DKWgMl0xa",
        "outputId": "eec768d4-ba4a-4d6d-fd38-c56f0b94acab"
      },
      "execution_count": null,
      "outputs": [
        {
          "output_type": "stream",
          "name": "stdout",
          "text": [
            "Enter a number: 4\n",
            "4 is in the list\n"
          ]
        }
      ]
    },
    {
      "cell_type": "code",
      "source": [
        "## 14) WAP in which you have to form a list and then sort the elements either in ascending or descending order.\n",
        "\n",
        "lst = [7,6,2,3,4,5]\n",
        "\n",
        "lst.sort() # asending\n",
        "print(\"Ascending : \",lst)\n",
        "lst.sort(reverse=True) # descending\n",
        "print(\"Descending: \",lst)"
      ],
      "metadata": {
        "colab": {
          "base_uri": "https://localhost:8080/"
        },
        "id": "keQUe3BSmVzC",
        "outputId": "ac6aba77-2f62-48e5-8dc0-c963eeb66bf3"
      },
      "execution_count": null,
      "outputs": [
        {
          "output_type": "stream",
          "name": "stdout",
          "text": [
            "Ascending :  [2, 3, 4, 5, 6, 7]\n",
            "Descending:  [7, 6, 5, 4, 3, 2]\n"
          ]
        }
      ]
    },
    {
      "cell_type": "code",
      "source": [
        "## 15) WAP to create two lists and display the common elements from those two lists.\n",
        "\n",
        "lst1 = [7,6,2,3,4,5]\n",
        "lst2 = [1,2,3,4,5,9,10]\n",
        "\n",
        "common = list(set(lst1).intersection(set(lst2)))\n",
        "\n",
        "print(common)"
      ],
      "metadata": {
        "colab": {
          "base_uri": "https://localhost:8080/"
        },
        "id": "zJ6zoPmEmzjm",
        "outputId": "4e1a4a40-9a58-4ce3-9df3-58e5ab3987b4"
      },
      "execution_count": null,
      "outputs": [
        {
          "output_type": "stream",
          "name": "stdout",
          "text": [
            "[2, 3, 4, 5]\n"
          ]
        }
      ]
    },
    {
      "cell_type": "code",
      "source": [
        "## 17) WAP to convert dictionary to list of tuple.\n",
        "\n",
        "dic = {1:\"A\",2:\"B\",3:\"C\"}\n",
        "lst =[]\n",
        "for key,value in dic.items():\n",
        "  lst.append((key,value))\n",
        "\n",
        "print(lst)"
      ],
      "metadata": {
        "colab": {
          "base_uri": "https://localhost:8080/"
        },
        "id": "iEWxBjARoEwo",
        "outputId": "06887b23-56cd-4756-afcf-c7b54c50fe4c"
      },
      "execution_count": null,
      "outputs": [
        {
          "output_type": "stream",
          "name": "stdout",
          "text": [
            "[(1, 'A'), (2, 'B'), (3, 'C')]\n"
          ]
        }
      ]
    },
    {
      "cell_type": "code",
      "source": [
        "### 18) WAP to count the frequency in a list using dictionary.\n",
        "\n",
        "lst = [1,1,2,2,2,3,3,4,4,4]\n",
        "dic = {}\n",
        "for item in lst:\n",
        "  if item in dic:\n",
        "    dic[item] += 1\n",
        "  else:\n",
        "    dic[item] = 1\n",
        "\n",
        "print(dic)"
      ],
      "metadata": {
        "colab": {
          "base_uri": "https://localhost:8080/"
        },
        "id": "Ts3XOa0mpbJ9",
        "outputId": "cb8abe8b-94e4-428f-c662-a3b929ece32c"
      },
      "execution_count": null,
      "outputs": [
        {
          "output_type": "stream",
          "name": "stdout",
          "text": [
            "{1: 2, 2: 3, 3: 2, 4: 3}\n"
          ]
        }
      ]
    },
    {
      "cell_type": "code",
      "source": [
        "### 19) WAP to find out the maximum and minimum elements in a touple.\n",
        "\n",
        "tup = (1,1,2,2,2,3,3,4,4,4)\n",
        "print(\"Max: \",max(tup))\n",
        "print(\"Min: \",min(tup))"
      ],
      "metadata": {
        "colab": {
          "base_uri": "https://localhost:8080/"
        },
        "id": "vNikRUBoqeUk",
        "outputId": "4da61dd5-56e4-4338-dd32-f393fc1274e2"
      },
      "execution_count": null,
      "outputs": [
        {
          "output_type": "stream",
          "name": "stdout",
          "text": [
            "Max:  4\n",
            "Min:  1\n"
          ]
        }
      ]
    },
    {
      "cell_type": "code",
      "source": [
        "## 20) WAP which will count the no. of positive and negative numbers available in a touple.\n",
        "tup = (1,1,2,-2,-2,3,3,-4,4,4)\n",
        "pos, neg = 0,0\n",
        "for i in tup:\n",
        "  if i >= 0:\n",
        "    pos += 1\n",
        "  else:\n",
        "    neg += 1\n",
        "\n",
        "print(pos,neg)"
      ],
      "metadata": {
        "colab": {
          "base_uri": "https://localhost:8080/"
        },
        "id": "hIaEVzBVq3SB",
        "outputId": "e527e125-17ff-4205-97b5-98c65f7f240d"
      },
      "execution_count": null,
      "outputs": [
        {
          "output_type": "stream",
          "name": "stdout",
          "text": [
            "7 3\n"
          ]
        }
      ]
    },
    {
      "cell_type": "code",
      "source": [
        ""
      ],
      "metadata": {
        "id": "EQf2kGl-roqB"
      },
      "execution_count": null,
      "outputs": []
    }
  ]
}