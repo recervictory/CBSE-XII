{
  "nbformat": 4,
  "nbformat_minor": 0,
  "metadata": {
    "language_info": {
      "codemirror_mode": {
        "name": "ipython",
        "version": 3
      },
      "file_extension": ".py",
      "mimetype": "text/x-python",
      "name": "python",
      "nbconvert_exporter": "python",
      "pygments_lexer": "ipython3",
      "version": "3.7.4-final"
    },
    "orig_nbformat": 2,
    "kernelspec": {
      "name": "Python 3.7.4 64-bit ('base': conda)",
      "display_name": "Python 3.7.4 64-bit ('base': conda)",
      "metadata": {
        "interpreter": {
          "hash": "7dae6437c12b1d87f00e0e10a4bd22be66a3b8ec05fb1161d95372f28c39fa9e"
        }
      }
    },
    "colab": {
      "name": "4.1 Introduction.ipynb",
      "provenance": [],
      "include_colab_link": true
    }
  },
  "cells": [
    {
      "cell_type": "markdown",
      "metadata": {
        "id": "view-in-github",
        "colab_type": "text"
      },
      "source": [
        "<a href=\"https://colab.research.google.com/github/recervictory/CBSE-XII/blob/main/04_Data_File_Handling/04_Data_File_Handling.ipynb\" target=\"_parent\"><img src=\"https://colab.research.google.com/assets/colab-badge.svg\" alt=\"Open In Colab\"/></a>"
      ]
    },
    {
      "cell_type": "markdown",
      "metadata": {
        "id": "jKmnV9J3cB_L"
      },
      "source": [
        "# 0.0 Importing Essential Libraries [Run this part of code]"
      ]
    },
    {
      "cell_type": "code",
      "metadata": {
        "tags": [],
        "id": "aXVisoc-cB_L",
        "outputId": "94a1ee9c-3fc0-4f68-d543-606a9006a65b",
        "colab": {
          "base_uri": "https://localhost:8080/",
          "height": 101
        }
      },
      "source": [
        "\n",
        "import os\n",
        "import urllib.request as download\n",
        "\n",
        "def filexists(file_name):\n",
        "    '''Check if file exists and show file size'''\n",
        "    if(os.path.exists(file_name)):\n",
        "        print(file_name, \" already exists, [Size\", os.path.getsize(file_name),\"bytes]\")\n",
        "        return True\n",
        "    else:\n",
        "        print(file_name, \"- File Does not exist!\")\n",
        "        return False\n",
        "\n",
        "def displayfile(file_name):\n",
        "    '''Display data of a file if file exits'''\n",
        "    if(os.path.exists(file_name)):\n",
        "        fh = open(file_name,'r')\n",
        "        data = fh.read()\n",
        "        print(\"\\n\")\n",
        "        print(file_name,\" - Output: \\n\")\n",
        "        print(data)\n",
        "        fh.close\n",
        "    else:\n",
        "        print(file_name, \"- File Does not exist!\")\n",
        "\n",
        "download.urlretrieve('https://raw.githubusercontent.com/recervictory/public/master/CBSE-XII/data/zen.txt', 'zen.txt')\n",
        "download.urlretrieve('https://raw.githubusercontent.com/recervictory/public/master/CBSE-XII/data/student.csv','student.csv')\n",
        "with open('test.dat','wb') as fh:\n",
        "    pass\n",
        "if(filexists('zen.txt') and filexists('student.csv') and filexists('test.dat')):\n",
        "    print('\\n**Everything Fine! System is Ready...**')\n",
        "else:\n",
        "    print('Something is Wrong! Call V!')\n"
      ],
      "execution_count": 34,
      "outputs": [
        {
          "output_type": "stream",
          "text": [
            "zen.txt  already exists, [Size 856 bytes]\n",
            "student.csv  already exists, [Size 135 bytes]\n",
            "test.dat  already exists, [Size 0 bytes]\n",
            "\n",
            "**Everything Fine! System is Ready...**\n"
          ],
          "name": "stdout"
        }
      ]
    },
    {
      "cell_type": "markdown",
      "metadata": {
        "id": "qf2fMf-sQsnY"
      },
      "source": [
        "# Chapter 4: Data File handling \n",
        "![Enigma Machine](https://raw.githubusercontent.com/recervictory/public/master/CBSE-XII/images/0401_enigmaMachine.jpg)"
      ]
    },
    {
      "cell_type": "markdown",
      "metadata": {
        "id": "bKkavim5QsnZ"
      },
      "source": [
        "## 4.1: Introduction\n",
        "- Computer Program needs to process different types for files.\n",
        "- These files stored information or data in the permanent location in the Computer and serve different purpose in computer application\n",
        "    - For Word Processer, we use Document files(*.doc/,*.docx).\n",
        "    - Database program has its own types of file system (*.db).\n",
        "    - Complier program use source files to generate executable file.\n",
        "- Programs that are used in day-to-day business operations rely extensively on files. \n"
      ]
    },
    {
      "cell_type": "markdown",
      "metadata": {
        "id": "zxwN2U3_QsnZ"
      },
      "source": [
        "<div class=\"alert alert-block alert-info\">\n",
        "<h3>Info:</h3>\n",
        "<p style=\"color:lime; font-weight:bold\">A file in itself is a bunch of bytes stored on some storage devie like hard-disk, pen-drive. It  a document or the data stored on a permanent storage device which can be read,written or rewritten according to requirement. In other words, data is packaged up on the storagedevice as data structures called Files.</p> \n",
        "</div>"
      ]
    },
    {
      "cell_type": "markdown",
      "metadata": {
        "id": "hLCHcZDHQsna"
      },
      "source": [
        "## 4.2: Data Files\n",
        "A data files are the files that store data pretraining to a specific application, for later use. The data files can be stored in two ways :\n",
        "- Text Files\n",
        "- Binary Files\n",
        "***\n",
        "1. **Text Files**: A text files stores information in *ASCII or UniCode* characters. In the text files, each lines is terminated,(delimited) with a special characters known known as **EOF(End of Line)** character. In the text files, some internal translations take places when this EOL character is read or written. In Python, by default, this EOL character is newline character ('\\n') or carriage-return, newline combination('\\r\\n').\n",
        "2. **Binary Files**: A binary files is just that contains information in same format in which the information is held in memory. i.e., the files content that return to you is raw format (with no translations or specific encoding). In binary files, there is no delimited for lines. Also no translations occurs in binary files. As a result, binary files are faster and easier for a program to read and write in compare with a text files. As long as the people or need to be ported to different type of system, binary files are the best way to store program.\n",
        "\n",
        "    ![Binary File Example](https://raw.githubusercontent.com/recervictory/public/master/CBSE-XII/images/0402_binary_file.png)\n",
        "***"
      ]
    },
    {
      "cell_type": "markdown",
      "metadata": {
        "id": "D6kENaETQsna"
      },
      "source": [
        "## 4.3 Data File Operations\n",
        "In python file data file operations a strict rule needed to be follow. **After performing desirable operation, it needs to be close so that resources that are tied with the file are freed**.\n",
        "Thus, python file handling takes place in the following order:\n",
        "\n",
        "    1. Opening a file.\n",
        "    2. Performing operation (read, write, etc.) or processing data.\n",
        "    3. Closing the File."
      ]
    },
    {
      "cell_type": "markdown",
      "metadata": {
        "id": "w5ILHFHrQsnb"
      },
      "source": [
        "## 4.4 Opening and Closing Files\n",
        "To handle data files in Python, we need to have a `file variable or file object or file handle`. Object can be created by using `open()` function and `file()` function.  To work with file we need to open it. This is done by using the build in `open()` function.\n",
        "***\n",
        "- **Opening a File -- open():** When we want to read or write from storage devices, we must first open the file. When we open a file, the file must stored on the same folder  that we are start the python. `open()` function takes the **name** of the file (i.e data.txt) as first argument. The second argument indicates the **mode of accessing** the file. This is an optional parameter the default mode is **read mode** or `\"r\"`.\n",
        "    - **Modes for Opening a File :**\n",
        "      - Read (`\"r\"`): to read file,\n",
        "      - Write(`\"w\"`): to write to the file,\n",
        "      - append(`\"a\"`): to write a file in append mode (write at the end of file)\n",
        "\n",
        "    ![File Modes](https://raw.githubusercontent.com/recervictory/public/master/CBSE-XII/images/0403_fileModesPython.png)\n",
        "- **Syntax:**\n",
        "    > file_object = open(file_name,access_mode)\n",
        "- **Example:**\n",
        "    > file_handler = open(\"zen.txt\",mode=\"r\")\n",
        "***\n",
        "\n",
        "<div class=\"alert alert-block alert-danger\">\n",
        "<h3>Important:</h3>\n",
        "<p style=\"color:tomato;font-weight:bold\">When opening a file in read, the given file name must exit in the folder, otherwise Python raise <span style=\"color:lime; font-weight:bold\">`FileNotFoundError`</span> .</p> \n",
        "</div>"
      ]
    },
    {
      "cell_type": "code",
      "metadata": {
        "tags": [],
        "id": "z9MgvaEoQsnc",
        "outputId": "ab8517f2-f9c0-41d2-adb6-6fbe281826a2",
        "colab": {
          "base_uri": "https://localhost:8080/",
          "height": 34
        }
      },
      "source": [
        "file_handler = open(\"zen.txt\",mode=\"r\") # Opening a file name \"zen.txt\" in Read mode\n",
        "print(file_handler) "
      ],
      "execution_count": 2,
      "outputs": [
        {
          "output_type": "stream",
          "text": [
            "<_io.TextIOWrapper name='zen.txt' mode='r' encoding='UTF-8'>\n"
          ],
          "name": "stdout"
        }
      ]
    },
    {
      "cell_type": "markdown",
      "metadata": {
        "id": "8A_K7owHcB_U"
      },
      "source": [
        "***\n",
        "- **Closing a File -- close():** The close me method of a file object flushes any unwritten information and closes the file object, after  which no more writing can be done. Python automatically closes a file references when  the references object of a file reassigned to another file. It is good practice to use close method to close a file. A `close()` function breaks the link of the file object and on the disk. After Closing a file (using `close()`), no tasks can be performed with on that file through the file object.\n",
        "- **Syntax:**\n",
        "    > file_object.close()\n",
        "- **Example:**\n",
        "    > file_handler.close()\n",
        "***"
      ]
    },
    {
      "cell_type": "code",
      "metadata": {
        "id": "IMMAtb2ocB_V"
      },
      "source": [
        "file_handler.close() # this will close the file handler object."
      ],
      "execution_count": 3,
      "outputs": []
    },
    {
      "cell_type": "markdown",
      "metadata": {
        "id": "yvwMT-ogcB_X"
      },
      "source": [
        "***\n",
        "**Important properties of File Object :**\n",
        "After opening a file through the `file handler` object, various details releated to file can be retrieve using associated properties/methods.\n",
        "- `.name` : Name of the opened file.\n",
        "- `.mode` : Mode in which the file get opened.\n",
        "- `.closed` : return *Boolean value*, which indicates weather a file closed or not.\n",
        "- `.readable()` : return *Boolean value*, which indicate, weather a file is readable or not.\n",
        "***"
      ]
    },
    {
      "cell_type": "code",
      "metadata": {
        "tags": [],
        "id": "p3AOHSPKcB_X",
        "outputId": "4409acb6-6b34-4906-dbb3-a156e23fdeec",
        "colab": {
          "base_uri": "https://localhost:8080/",
          "height": 118
        }
      },
      "source": [
        "# Show various properties of a file\n",
        "file_handler = open('zen.txt','r')\n",
        "\n",
        "print(\"File Name :\", file_handler.name)\n",
        "print(\"File Mode :\", file_handler.mode)\n",
        "print(\"Is file Readable :\", file_handler.readable())\n",
        "print(\"Is file Closed :\", file_handler.closed)\n",
        "\n",
        "file_handler.close() # Close the file\n",
        "print(\"\\nIs file Closed :\", file_handler.closed)"
      ],
      "execution_count": 4,
      "outputs": [
        {
          "output_type": "stream",
          "text": [
            "File Name : zen.txt\n",
            "File Mode : r\n",
            "Is file Readable : True\n",
            "Is file Closed : False\n",
            "\n",
            "Is file Closed : True\n"
          ],
          "name": "stdout"
        }
      ]
    },
    {
      "cell_type": "markdown",
      "metadata": {
        "id": "9hC-0uRNcB_a"
      },
      "source": [
        "### **Exercise 1:** *Create a python function `handlerProperties` that takes a file object and if file is not closed yet 1. print the file name, file mode and with suitable  message 2. print if file is readable  'Readable' else ' Not readable' and show  or not*.\n",
        "\n",
        "{Time: 10 min}"
      ]
    },
    {
      "cell_type": "code",
      "metadata": {
        "tags": [],
        "id": "4z3MGPuzcB_a",
        "outputId": "79eeffb7-fc71-408c-96d4-fd4fc99a10d0",
        "colab": {
          "base_uri": "https://localhost:8080/",
          "height": 101
        }
      },
      "source": [
        "# Exercise 1: \n",
        "# Create a python function handlerProperties that takes a file object\n",
        "# and print the file name, file mode and with suitable message and if file is readable \n",
        "# print 'Readable' else ' Not readable' and show if file is closed or not.\n",
        "\n",
        "file_handler = open('zen.txt','r+') # creating a file_object\n",
        "\n",
        "# Creating handlerProperties\n",
        "def handlerProperties(fh):\n",
        "    '''Show importnat properties of file Object.'''\n",
        "    if(not fh.closed):\n",
        "        print(\"Name :\", fh.name)\n",
        "        print(\"File Mode :\", fh.mode)\n",
        "        if(fh.readable()):\n",
        "            print(\"File is Readable.\")\n",
        "        else:\n",
        "            print(\"Not Readable.\")\n",
        "    else:\n",
        "        print('\\n**The file is Closed**')\n",
        "# Calling the Function\n",
        "handlerProperties(file_handler)\n",
        "\n",
        "#Closing the file:\n",
        "file_handler.close()\n",
        "\n",
        "# Calling the Function\n",
        "handlerProperties(file_handler)"
      ],
      "execution_count": 5,
      "outputs": [
        {
          "output_type": "stream",
          "text": [
            "Name : zen.txt\n",
            "File Mode : r+\n",
            "File is Readable.\n",
            "\n",
            "**The file is Closed**\n"
          ],
          "name": "stdout"
        }
      ]
    },
    {
      "cell_type": "markdown",
      "metadata": {
        "id": "4XuQxa88cB_d"
      },
      "source": [
        "## 4.5 Reading From a File\n",
        "Python provides various methods for reading data from files. We can read data *by character or by lines* using following `read` methods:\n",
        "***\n",
        "- `.read()` : To read the entire data from the file as string(`str`); starts reading from the `cursor` up to the **end of file** (EOF).\n",
        "- **Syntax:**\n",
        "> file_object.read()\n",
        "- `.read(n)` :To read 'n' number of characters from the file, starting from the `cursor`; if file holds fewer than 'n' characters, it will read until **end of file** (EOF).\n",
        "- **Syntax:**\n",
        "> file_object.read(n) # n must be a int type\n",
        "- `.readline()`: To read *only one line* at time from the file; starts reading from the `cursor` up to the **end of line** (EOL).\n",
        "- **Syntax:**\n",
        "> file_object.readline()\n",
        "- `.readlines()`: To read all the file into a `list`; starts reading from the `cursor` up to the end of file (EOF) and returns a list of lines.\n",
        "- **Syntax:**\n",
        "> file_object.readlines()\n",
        "***"
      ]
    },
    {
      "cell_type": "code",
      "metadata": {
        "tags": [],
        "id": "tAW_eDj2cB_d",
        "outputId": "6cb16ffd-f08b-4c8d-ffce-2556fbdb1ad3",
        "colab": {
          "base_uri": "https://localhost:8080/",
          "height": 403
        }
      },
      "source": [
        "# Code 4.5.1 .read() method\n",
        "file_handler = open('zen.txt','r') # open file in read mode\n",
        "\n",
        "zen = file_handler.read() # Read all the data \n",
        "print(\"Data Type :\",type(zen),end=\"\\n\\n\")\n",
        "\n",
        "print(zen)\n",
        "file_handler.close() # this will close the file handler object."
      ],
      "execution_count": 6,
      "outputs": [
        {
          "output_type": "stream",
          "text": [
            "Data Type : <class 'str'>\n",
            "\n",
            "The Zen of Python, by Tim Peters\n",
            "\n",
            "Beautiful is better than ugly.\n",
            "Explicit is better than implicit.\n",
            "Simple is better than complex.\n",
            "Complex is better than complicated.\n",
            "Flat is better than nested.\n",
            "Sparse is better than dense.\n",
            "Readability counts.\n",
            "Special cases aren't special enough to break the rules.\n",
            "Although practicality beats purity.\n",
            "Errors should never pass silently.\n",
            "Unless explicitly silenced.\n",
            "In the face of ambiguity, refuse the temptation to guess.\n",
            "There should be one-- and preferably only one --obvious way to do it.\n",
            "Although that way may not be obvious at first unless you're Dutch.\n",
            "Now is better than never.\n",
            "Although never is often better than *right* now.\n",
            "If the implementation is hard to explain, it's a bad idea.\n",
            "If the implementation is easy to explain, it may be a good idea.\n",
            "Namespaces are one honking great idea -- let's do more of those!\n"
          ],
          "name": "stdout"
        }
      ]
    },
    {
      "cell_type": "code",
      "metadata": {
        "tags": [],
        "id": "i2SgdA-EcB_g",
        "outputId": "0a06209b-bf46-4d09-858a-4a47530ec4bb",
        "colab": {
          "base_uri": "https://localhost:8080/",
          "height": 67
        }
      },
      "source": [
        "# Code 4.5.2 .read(n) method\n",
        "file_handler = open('zen.txt','r') # open file in read mode\n",
        "zen = file_handler.read(32) # Read all the data [change the value n in the read(n)]\n",
        "print(\"Data Type :\",type(zen),end=\"\\n\\n\")\n",
        "\n",
        "print(zen)\n",
        "file_handler.close() # this will close the file handler object."
      ],
      "execution_count": 7,
      "outputs": [
        {
          "output_type": "stream",
          "text": [
            "Data Type : <class 'str'>\n",
            "\n",
            "The Zen of Python, by Tim Peters\n"
          ],
          "name": "stdout"
        }
      ]
    },
    {
      "cell_type": "code",
      "metadata": {
        "tags": [],
        "id": "c5W72S5PcB_i",
        "outputId": "76e36567-bd29-4107-ccdd-465da394b902",
        "colab": {
          "base_uri": "https://localhost:8080/",
          "height": 84
        }
      },
      "source": [
        "# Code 4.5.3 .readline() method\n",
        "file_handler = open('zen.txt','r') # open file in read mode\n",
        "zen = file_handler.readline() # Read all the data [change the value n in the read(n)]\n",
        "print(\"Data Type :\",type(zen),end=\"\\n\\n\")\n",
        "\n",
        "print(zen)\n",
        "file_handler.close() # this will close the file handler object."
      ],
      "execution_count": 8,
      "outputs": [
        {
          "output_type": "stream",
          "text": [
            "Data Type : <class 'str'>\n",
            "\n",
            "The Zen of Python, by Tim Peters\n",
            "\n"
          ],
          "name": "stdout"
        }
      ]
    },
    {
      "cell_type": "markdown",
      "metadata": {
        "id": "5HaVhY07cB_k"
      },
      "source": [
        "## 4.6 Removing Whitespaces After Reading a File\n",
        "The `.read()`, `.readline()` and `.readline()` method read leading and trailing whitespaces (i.e., spaces, tabs or newline characters), to remove this whitespaces following string `.strip()` methods are used.\n",
        "- `.strip()` : removes the given character from both side.\n",
        "- `.rstrip()` : removes the given character from trailing end (i.e., right side).\n",
        "- `.lstrip()` : removes the given character from lead end (i.e., left side).\n",
        "\n",
        "<div class=\"alert alert-block alert-info\">\n",
        "<h3>Info:</h3>\n",
        "<p style=\"color:lime;\">For reading an entire file using <span style=\"color:tomato; font-weight:bold\">.readline().</span> method we have to loop over <span style=\"color:tomato; font-weight:bold\">file object</span>. This is efficient and fast way of reading file. But printing using readline causes new problem as two line break to solve this issue we use <span style=\"color:tomato; font-weight:bold\">.strip() </span> string method.</p> \n",
        "</div>"
      ]
    },
    {
      "cell_type": "code",
      "metadata": {
        "tags": [],
        "id": "DxzPibLucB_k",
        "outputId": "41edf2a5-6883-4c16-f6bc-872a7a31cb48",
        "colab": {
          "base_uri": "https://localhost:8080/",
          "height": 706
        }
      },
      "source": [
        "# Code 4.5.3I .readlines() method\n",
        "file_handler = open('zen.txt','r') # open file in read mode\n",
        "for line in file_handler:\n",
        "    print(line) # Use print(line.strip()) instead of print(line) or use print(line, end=\"\")"
      ],
      "execution_count": 9,
      "outputs": [
        {
          "output_type": "stream",
          "text": [
            "The Zen of Python, by Tim Peters\n",
            "\n",
            "\n",
            "\n",
            "Beautiful is better than ugly.\n",
            "\n",
            "Explicit is better than implicit.\n",
            "\n",
            "Simple is better than complex.\n",
            "\n",
            "Complex is better than complicated.\n",
            "\n",
            "Flat is better than nested.\n",
            "\n",
            "Sparse is better than dense.\n",
            "\n",
            "Readability counts.\n",
            "\n",
            "Special cases aren't special enough to break the rules.\n",
            "\n",
            "Although practicality beats purity.\n",
            "\n",
            "Errors should never pass silently.\n",
            "\n",
            "Unless explicitly silenced.\n",
            "\n",
            "In the face of ambiguity, refuse the temptation to guess.\n",
            "\n",
            "There should be one-- and preferably only one --obvious way to do it.\n",
            "\n",
            "Although that way may not be obvious at first unless you're Dutch.\n",
            "\n",
            "Now is better than never.\n",
            "\n",
            "Although never is often better than *right* now.\n",
            "\n",
            "If the implementation is hard to explain, it's a bad idea.\n",
            "\n",
            "If the implementation is easy to explain, it may be a good idea.\n",
            "\n",
            "Namespaces are one honking great idea -- let's do more of those!\n"
          ],
          "name": "stdout"
        }
      ]
    },
    {
      "cell_type": "code",
      "metadata": {
        "tags": [],
        "id": "mCv1tCeycB_n",
        "outputId": "df84614b-c5ed-4c71-c6ec-385dbef272a2",
        "colab": {
          "base_uri": "https://localhost:8080/",
          "height": 87
        }
      },
      "source": [
        "# Code 4.5.4 .readlines() method\n",
        "file_handler = open('zen.txt','r') # open file in read mode\n",
        "zen = file_handler.readlines() # Read all the data [change the value n in the read(n)]\n",
        "print(\"Data Type :\",type(zen),end=\"\\n\\n\")\n",
        "\n",
        "print(zen)\n",
        "file_handler.close() # this will close the file handler object."
      ],
      "execution_count": 10,
      "outputs": [
        {
          "output_type": "stream",
          "text": [
            "Data Type : <class 'list'>\n",
            "\n",
            "['The Zen of Python, by Tim Peters\\n', '\\n', 'Beautiful is better than ugly.\\n', 'Explicit is better than implicit.\\n', 'Simple is better than complex.\\n', 'Complex is better than complicated.\\n', 'Flat is better than nested.\\n', 'Sparse is better than dense.\\n', 'Readability counts.\\n', \"Special cases aren't special enough to break the rules.\\n\", 'Although practicality beats purity.\\n', 'Errors should never pass silently.\\n', 'Unless explicitly silenced.\\n', 'In the face of ambiguity, refuse the temptation to guess.\\n', 'There should be one-- and preferably only one --obvious way to do it.\\n', \"Although that way may not be obvious at first unless you're Dutch.\\n\", 'Now is better than never.\\n', 'Although never is often better than *right* now.\\n', \"If the implementation is hard to explain, it's a bad idea.\\n\", 'If the implementation is easy to explain, it may be a good idea.\\n', \"Namespaces are one honking great idea -- let's do more of those!\"]\n"
          ],
          "name": "stdout"
        }
      ]
    },
    {
      "cell_type": "markdown",
      "metadata": {
        "id": "nem-bcnVcB_p"
      },
      "source": [
        "## 4.7 Writing to File\n",
        "We can write character data into a file by using following two methods:\n",
        "***\n",
        "- `.write()` : This method take `string` as parameter and writes write it in the file. To include **end of line** (EOL) character, we will have to add `\\n` character to the end of `string`. \n",
        "- **Syntax:**\n",
        "    > file_object.write(str + \"\\n\") \n",
        "\n",
        "- `.writelines()` : For writing a `string` in `list` of lines we use `.writelines()` methods; other data types like `list`,`tuple`, etc. can't be used for writing into the files. Also to be noted that `.writelines()` method does not add add any **end of line** (EOL) character, we will have to add `\\n` character to the end of `string`. \n",
        "- **Syntax:**\n",
        "    > file_object.writelines(list) \n",
        "***\n",
        "<div class=\"alert alert-block alert-danger\">\n",
        "<h3>Important:</h3>\n",
        "<p style=\"color:tomato;font-weight:bold\">Write method takes `string` as an argument, for storing a other data types like numeric values,we first need to <span style=\"color:lime; font-weight:bold\">convert it to string </span>before writing to a file.</p> \n",
        "</div>"
      ]
    },
    {
      "cell_type": "code",
      "metadata": {
        "tags": [],
        "id": "OukarxDKcB_p",
        "outputId": "2833abf3-0987-4c48-df96-529113a4bee0",
        "colab": {
          "base_uri": "https://localhost:8080/",
          "height": 286
        }
      },
      "source": [
        "# 4.7.1: Program to write data to a file using .write() method\n",
        "filexists('poem.txt')\n",
        "file_handler = open('poem.txt','w') # open file in write mode\n",
        "filexists('poem.txt')\n",
        "\n",
        "file_handler.write('The Road Not Taken\\n')\n",
        "file_handler.write('BY ROBERT FROST\\n')\n",
        "file_handler.write('\\n')\n",
        "file_handler.write('Two roads diverged in a yellow wood,\\n')\n",
        "file_handler.write('And sorry I could not travel both\\n')\n",
        "file_handler.write('And be one traveler, long I stood\\n')\n",
        "file_handler.write('And looked down one as far as I could\\n')\n",
        "file_handler.write('To where it bent in the undergrowth;\\n')\n",
        "\n",
        "file_handler.close() # this will close the file handler object.\n",
        "filexists('poem.txt')\n",
        "displayfile('poem.txt')"
      ],
      "execution_count": 11,
      "outputs": [
        {
          "output_type": "stream",
          "text": [
            "poem.txt - File Does not exist!\n",
            "poem.txt  already exists, [Size 0 bytes]\n",
            "poem.txt  already exists, [Size 216 bytes]\n",
            "\n",
            "\n",
            "poem.txt  - Output: \n",
            "\n",
            "The Road Not Taken\n",
            "BY ROBERT FROST\n",
            "\n",
            "Two roads diverged in a yellow wood,\n",
            "And sorry I could not travel both\n",
            "And be one traveler, long I stood\n",
            "And looked down one as far as I could\n",
            "To where it bent in the undergrowth;\n",
            "\n"
          ],
          "name": "stdout"
        }
      ]
    },
    {
      "cell_type": "code",
      "metadata": {
        "tags": [],
        "id": "irUxuT6NcB_s",
        "outputId": "582a43ab-d94d-482d-e587-8c9732acd861",
        "colab": {
          "base_uri": "https://localhost:8080/",
          "height": 118
        }
      },
      "source": [
        "# 4.7.2: Program to write student deatils\n",
        "file_handler = open('song.txt','w') # open file in write mode\n",
        "\n",
        "# Student Details from the user\n",
        "to = \"Bela Bose\"\n",
        "phoneno = 2441139\n",
        "message = \"Chakrita Ami Pey Gechi Belo Suncho\"\n",
        "by = \"Anjan Dutt\"\n",
        " \n",
        "\n",
        "# Writing to File\n",
        "file_handler.write(to + \"\\n\")\n",
        "#file_handler.write(phoneno) # resolve the TypeError: write() argument must be str, not int\n",
        "file_handler.write(message)\n",
        "file_handler.write(by)\n",
        " \n",
        "file_handler.close() # this will close the file handler object.\n",
        "displayfile('song.txt')"
      ],
      "execution_count": 12,
      "outputs": [
        {
          "output_type": "stream",
          "text": [
            "\n",
            "\n",
            "song.txt  - Output: \n",
            "\n",
            "Bela Bose\n",
            "Chakrita Ami Pey Gechi Belo SunchoAnjan Dutt\n"
          ],
          "name": "stdout"
        }
      ]
    },
    {
      "cell_type": "code",
      "metadata": {
        "tags": [],
        "id": "wlzAjSOQcB_u",
        "outputId": "c91a6e6b-796a-4a24-bb5d-6d47ef7bbf1e",
        "colab": {
          "base_uri": "https://localhost:8080/",
          "height": 538
        }
      },
      "source": [
        "# 4.7.3: Program to write data to a file using .writelines() method\n",
        "file_handler = open('alphabet.txt','w') # open file in write mode\n",
        "\n",
        "alphabet = list(map(lambda x: chr(x) + \" = \" + chr(x+32) + \"\\n\", range(65, 91)))\n",
        "#print(alphabet)\n",
        "file_handler.writelines(alphabet)\n",
        "\n",
        "file_handler.close() # this will close the file handler object.\n",
        "displayfile('alphabet.txt')"
      ],
      "execution_count": 13,
      "outputs": [
        {
          "output_type": "stream",
          "text": [
            "\n",
            "\n",
            "alphabet.txt  - Output: \n",
            "\n",
            "A = a\n",
            "B = b\n",
            "C = c\n",
            "D = d\n",
            "E = e\n",
            "F = f\n",
            "G = g\n",
            "H = h\n",
            "I = i\n",
            "J = j\n",
            "K = k\n",
            "L = l\n",
            "M = m\n",
            "N = n\n",
            "O = o\n",
            "P = p\n",
            "Q = q\n",
            "R = r\n",
            "S = s\n",
            "T = t\n",
            "U = u\n",
            "V = v\n",
            "W = w\n",
            "X = x\n",
            "Y = y\n",
            "Z = z\n",
            "\n"
          ],
          "name": "stdout"
        }
      ]
    },
    {
      "cell_type": "markdown",
      "metadata": {
        "id": "Z5ICiGEacB_w"
      },
      "source": [
        "## 4.8 Appending to File\n",
        "Append means 'to add to'; so if we want to add more data to a file which already has some data in it, we will be appending data. In such a case, use the access_mode `a`, which means:\n",
        "**Opening for writing, and if it exists, then append data to the end of the file.**\n",
        "In Python, we can use the `a` mode to open an output file in append mode. This means that:\n",
        "- If the file already exists, it will not be overwritten. If the file does not exist,it will be created.\n",
        "- When data is written to the file, it will be written at the end of the file's current contents.\n",
        "- **Syntax:**\n",
        "     > file_object = open(file_name,'a')\n",
        "- **Example:**\n",
        "     >file_handler = open(\"data.txt\",'a')\n",
        "\n",
        "We can write character data into a file in **append mode** by using following two methods:\n",
        "***\n",
        "- `.write()` : This method take `string` as parameter and writes write it in the file. To include **end of line** (EOL) character, we will have to add `\\n` character to the end of `string`. \n",
        "- **Syntax:**\n",
        "    > file_object.write(str + \"\\n\") \n",
        "\n",
        "- `.writelines()` : For writing a `string` in `list` of lines we use `.writelines()` methods; other data types like `list`,`tuple`, etc. can't be used for writing into the files. Also to be noted that `.writelines()` method does not add add any **end of line** (EOL) character, we will have to add `\\n` character to the end of `string`. \n",
        "- **Syntax:**\n",
        "    > file_object.writelines(list) \n",
        "***"
      ]
    },
    {
      "cell_type": "code",
      "metadata": {
        "tags": [],
        "id": "9X8bJ18pcB_w",
        "outputId": "9ef07b48-86be-40d0-b5a3-74dc8af4348f",
        "colab": {
          "base_uri": "https://localhost:8080/",
          "height": 538
        }
      },
      "source": [
        "# 4.8.1: Program to append data to a file using .write() method\n",
        "filexists('poem.txt')\n",
        "file_handler = open('poem.txt','a') # open file in Append mode\n",
        "\n",
        "# Using File write method\n",
        "file_handler.write('Then took the other, as just as fair,\\n')\n",
        "file_handler.write('And having perhaps the better claim,\\n')\n",
        "file_handler.write('Because it was grassy and wanted wear;\\n')\n",
        "file_handler.write('Though as for that the passing there\\n')\n",
        "file_handler.write('Had worn them really about the same,\\n')\n",
        "\n",
        "# Using File WriteLines method\n",
        "file_handler.writelines([\n",
        "'And both that morning equally lay\\n',\n",
        "'In leaves no step had trodden black.\\n',\n",
        "'Oh, I kept the first for another day!\\n',\n",
        "'Yet knowing how way leads on to way,\\n',\n",
        "'I doubted if I should ever come back.\\n',\n",
        "])\n",
        "# creating list with string poem lines\n",
        "poemlines = [\n",
        "'I shall be telling this with a sigh\\n'\n",
        "'Somewhere ages and ages hence:\\n'\n",
        "'Two roads diverged in a wood, and I—\\n'\n",
        "'I took the one less traveled by,\\n'\n",
        "'And that has made all the difference.\\n'\n",
        "]\n",
        "file_handler.writelines(poemlines)\n",
        "\n",
        "file_handler.close() # this will close the file handler object.\n",
        "\n",
        "displayfile('poem.txt')\n",
        "filexists('poem.txt')"
      ],
      "execution_count": 14,
      "outputs": [
        {
          "output_type": "stream",
          "text": [
            "poem.txt  already exists, [Size 216 bytes]\n",
            "\n",
            "\n",
            "poem.txt  - Output: \n",
            "\n",
            "The Road Not Taken\n",
            "BY ROBERT FROST\n",
            "\n",
            "Two roads diverged in a yellow wood,\n",
            "And sorry I could not travel both\n",
            "And be one traveler, long I stood\n",
            "And looked down one as far as I could\n",
            "To where it bent in the undergrowth;\n",
            "Then took the other, as just as fair,\n",
            "And having perhaps the better claim,\n",
            "Because it was grassy and wanted wear;\n",
            "Though as for that the passing there\n",
            "Had worn them really about the same,\n",
            "And both that morning equally lay\n",
            "In leaves no step had trodden black.\n",
            "Oh, I kept the first for another day!\n",
            "Yet knowing how way leads on to way,\n",
            "I doubted if I should ever come back.\n",
            "I shall be telling this with a sigh\n",
            "Somewhere ages and ages hence:\n",
            "Two roads diverged in a wood, and I—\n",
            "I took the one less traveled by,\n",
            "And that has made all the difference.\n",
            "\n",
            "poem.txt  already exists, [Size 765 bytes]\n"
          ],
          "name": "stdout"
        },
        {
          "output_type": "execute_result",
          "data": {
            "text/plain": [
              "True"
            ]
          },
          "metadata": {
            "tags": []
          },
          "execution_count": 14
        }
      ]
    },
    {
      "cell_type": "markdown",
      "metadata": {
        "id": "Lq_6hOtvcB_z"
      },
      "source": [
        "## 4.9 File Handling using 'with' Statement [Important]\n",
        "Apart form using `open()` for file creation methods, `with` statement can also be used for some purpose. We can use this statement to group file operation statement within a block. Using `with` statement unsure that all resources allocated to the file object get deallocated automatically once we stop using the file.\n",
        "\n",
        "- **Syntax:**\n",
        "    ```\n",
        "    with open(file_name,mode) as file_object:\n",
        "        file manipulation statements\n",
        "    ```\n",
        "- **Example:**\n",
        "    ```\n",
        "    with open(\"data.txt\",\"w\") as file_handler:\n",
        "        filehandler.write(\"Some text\")\n",
        "    ```"
      ]
    },
    {
      "cell_type": "code",
      "metadata": {
        "tags": [],
        "id": "TtBBB0W3cB_z",
        "outputId": "e38c53e4-7819-433f-ed47-45c97239c249",
        "colab": {
          "base_uri": "https://localhost:8080/",
          "height": 403
        }
      },
      "source": [
        "# 4.9.1: Reading file using with statemet\n",
        "with open(\"zen.txt\",'r') as file_handler:\n",
        "   zen = file_handler.read()\n",
        "   print(zen)\n",
        "#check if file is closed or not\n",
        "handlerProperties(file_handler)"
      ],
      "execution_count": 15,
      "outputs": [
        {
          "output_type": "stream",
          "text": [
            "The Zen of Python, by Tim Peters\n",
            "\n",
            "Beautiful is better than ugly.\n",
            "Explicit is better than implicit.\n",
            "Simple is better than complex.\n",
            "Complex is better than complicated.\n",
            "Flat is better than nested.\n",
            "Sparse is better than dense.\n",
            "Readability counts.\n",
            "Special cases aren't special enough to break the rules.\n",
            "Although practicality beats purity.\n",
            "Errors should never pass silently.\n",
            "Unless explicitly silenced.\n",
            "In the face of ambiguity, refuse the temptation to guess.\n",
            "There should be one-- and preferably only one --obvious way to do it.\n",
            "Although that way may not be obvious at first unless you're Dutch.\n",
            "Now is better than never.\n",
            "Although never is often better than *right* now.\n",
            "If the implementation is hard to explain, it's a bad idea.\n",
            "If the implementation is easy to explain, it may be a good idea.\n",
            "Namespaces are one honking great idea -- let's do more of those!\n",
            "\n",
            "**The file is Closed**\n"
          ],
          "name": "stdout"
        }
      ]
    },
    {
      "cell_type": "code",
      "metadata": {
        "tags": [],
        "id": "YC4wns6ccB_1",
        "outputId": "b6a02dd1-ed0a-402a-bb11-49570743ed43",
        "colab": {
          "base_uri": "https://localhost:8080/",
          "height": 151
        }
      },
      "source": [
        "# 4.9.1: Writing file using with statemet\n",
        "with open(\"quotation.txt\",'a') as file_handler:\n",
        "   file_handler.write(\"Good Programmers Are Lazy and Dumb.\\n\")\n",
        "#check if file is closed or not\n",
        "handlerProperties(file_handler)\n",
        "\n",
        "displayfile('quotation.txt')"
      ],
      "execution_count": 16,
      "outputs": [
        {
          "output_type": "stream",
          "text": [
            "\n",
            "**The file is Closed**\n",
            "\n",
            "\n",
            "quotation.txt  - Output: \n",
            "\n",
            "Good Programmers Are Lazy and Dumb.\n",
            "\n"
          ],
          "name": "stdout"
        }
      ]
    },
    {
      "cell_type": "markdown",
      "metadata": {
        "id": "-VwcUw8DcB_3"
      },
      "source": [
        "### **Exercise 2:** *Create a python function that take two arguments(source,destination) and copy content from source to destination file*.\n",
        "\n",
        "{Time: 15 min}"
      ]
    },
    {
      "cell_type": "code",
      "metadata": {
        "tags": [],
        "id": "-bIo97cQcB_3"
      },
      "source": [
        "# Your Excercise code should be here\n",
        "def fileCopy(source,dest=None):\n",
        "    dest = (\"copy-\" + source) if dest is None else dest\n",
        "    sfh = open(source,'r')\n",
        "    dfh = open(dest, 'w')\n",
        "\n",
        "    line = sfh.readline()\n",
        "    while line:\n",
        "        dfh.write(line)\n",
        "        line = sfh.readline()\n",
        "    sfh.close\n",
        "    dfh.close"
      ],
      "execution_count": 17,
      "outputs": []
    },
    {
      "cell_type": "code",
      "metadata": {
        "id": "YwJ6OXuYcB_9",
        "outputId": "cf47f6d2-c206-469d-a192-858d0372b61a",
        "colab": {
          "base_uri": "https://localhost:8080/",
          "height": 487
        }
      },
      "source": [
        "#call the function\n",
        "fileCopy('poem.txt')\n",
        "displayfile('copy-poem.txt')"
      ],
      "execution_count": 18,
      "outputs": [
        {
          "output_type": "stream",
          "text": [
            "\n",
            "\n",
            "copy-poem.txt  - Output: \n",
            "\n",
            "The Road Not Taken\n",
            "BY ROBERT FROST\n",
            "\n",
            "Two roads diverged in a yellow wood,\n",
            "And sorry I could not travel both\n",
            "And be one traveler, long I stood\n",
            "And looked down one as far as I could\n",
            "To where it bent in the undergrowth;\n",
            "Then took the other, as just as fair,\n",
            "And having perhaps the better claim,\n",
            "Because it was grassy and wanted wear;\n",
            "Though as for that the passing there\n",
            "Had worn them really about the same,\n",
            "And both that morning equally lay\n",
            "In leaves no step had trodden black.\n",
            "Oh, I kept the first for another day!\n",
            "Yet knowing how way leads on to way,\n",
            "I doubted if I should ever come back.\n",
            "I shall be telling this with a sigh\n",
            "Somewhere ages and ages hence:\n",
            "Two roads diverged in a wood, and I—\n",
            "I took the one less traveled by,\n",
            "And that has made all the difference.\n",
            "\n"
          ],
          "name": "stdout"
        }
      ]
    },
    {
      "cell_type": "markdown",
      "metadata": {
        "id": "f4ucqGUgcB__"
      },
      "source": [
        "### **Exercise 3:** *Create a python function that take two arguments(source,destination) and copy content by `Reversing` each line from source to destination file*.\n",
        "\n",
        "{Time: 15 min}"
      ]
    },
    {
      "cell_type": "code",
      "metadata": {
        "id": "2y7oydtKcB__"
      },
      "source": [
        "def fileRevCopy(source,dest=None):\n",
        "    dest = (\"rev-\" + source) if dest is None else dest\n",
        "    sfh = open(source,'r')\n",
        "    dfh = open(dest,'w')\n",
        "    line = sfh.readline()\n",
        "    while line:\n",
        "        rline = line.strip()[::-1] + '\\n'\n",
        "        dfh.write(rline)\n",
        "        line = sfh.readline()\n",
        "    sfh.close\n",
        "    dfh.close"
      ],
      "execution_count": 19,
      "outputs": []
    },
    {
      "cell_type": "code",
      "metadata": {
        "tags": [],
        "id": "ur4oHbM_cCAB",
        "outputId": "142f4ae8-03e2-4f93-8cff-2f68db31d78e",
        "colab": {
          "base_uri": "https://localhost:8080/",
          "height": 0
        }
      },
      "source": [
        "#call the function\n",
        "fileRevCopy('poem.txt')\n",
        "displayfile('rev-poem.txt')"
      ],
      "execution_count": 20,
      "outputs": [
        {
          "output_type": "stream",
          "text": [
            "\n",
            "\n",
            "rev-poem.txt  - Output: \n",
            "\n",
            "nekaT toN daoR ehT\n",
            "TSORF TREBOR YB\n",
            "\n",
            ",doow wolley a ni degrevid sdaor owT\n",
            "htob levart ton dluoc I yrros dnA\n",
            "doots I gnol ,relevart eno eb dnA\n",
            "dluoc I sa raf sa eno nwod dekool dnA\n",
            ";htworgrednu eht ni tneb ti erehw oT\n",
            ",riaf sa tsuj sa ,rehto eht koot nehT\n",
            ",mialc retteb eht spahrep gnivah dnA\n",
            ";raew detnaw dna yssarg saw ti esuaceB\n",
            "ereht gnissap eht taht rof sa hguohT\n",
            ",emas eht tuoba yllaer meht nrow daH\n",
            "yal yllauqe gninrom taht htob dnA\n",
            ".kcalb neddort dah pets on sevael nI\n",
            "!yad rehtona rof tsrif eht tpek I ,hO\n",
            ",yaw ot no sdael yaw woh gniwonk teY\n",
            ".kcab emoc reve dluohs I fi detbuod I\n",
            "hgis a htiw siht gnillet eb llahs I\n",
            ":ecneh sega dna sega erehwemoS\n",
            "—I dna ,doow a ni degrevid sdaor owT\n",
            ",yb delevart ssel eno eht koot I\n",
            ".ecnereffid eht lla edam sah taht dnA\n",
            "\n"
          ],
          "name": "stdout"
        }
      ]
    },
    {
      "cell_type": "markdown",
      "metadata": {
        "id": "eirXkAErcCAD"
      },
      "source": [
        "### **Exercise 4:** *Create a python function that take two arguments(source,destination) and copy content by `Reversing` all line from source to destination file*.\n",
        "\n",
        "{Time: 15 min}"
      ]
    },
    {
      "cell_type": "code",
      "metadata": {
        "id": "wnABOmZOcCAE"
      },
      "source": [
        "def fileLineRev(source,dest=None):\n",
        "    dest = (\"lineRev-\" + source) if dest is None else dest\n",
        "    sfh = open(source,'r')\n",
        "    dfh = open(dest,'w')\n",
        "    lines = sfh.readlines()\n",
        "    dfh.writelines(lines[::-1])\n",
        "    sfh.close\n",
        "    dfh.close"
      ],
      "execution_count": 21,
      "outputs": []
    },
    {
      "cell_type": "code",
      "metadata": {
        "id": "U9oQeahHcCAG"
      },
      "source": [
        "def fileLineRev(source,dest=None):\n",
        "    dest = (\"lineRev-\" + source) if dest is None else dest\n",
        "    sfh = open(source,'r')\n",
        "    dfh = open(dest,'w')\n",
        "    for line in reversed(sfh.readlines()):\n",
        "        dfh.write(line)\n",
        "    sfh.close\n",
        "    dfh.close"
      ],
      "execution_count": 22,
      "outputs": []
    },
    {
      "cell_type": "code",
      "metadata": {
        "id": "qamno0bIcCAJ",
        "outputId": "a39ee049-0a08-4237-bf43-f9febc7a7771",
        "colab": {
          "base_uri": "https://localhost:8080/",
          "height": 487
        }
      },
      "source": [
        "#call the function\n",
        "fileLineRev('poem.txt')\n",
        "displayfile('lineRev-poem.txt')"
      ],
      "execution_count": 23,
      "outputs": [
        {
          "output_type": "stream",
          "text": [
            "\n",
            "\n",
            "lineRev-poem.txt  - Output: \n",
            "\n",
            "And that has made all the difference.\n",
            "I took the one less traveled by,\n",
            "Two roads diverged in a wood, and I—\n",
            "Somewhere ages and ages hence:\n",
            "I shall be telling this with a sigh\n",
            "I doubted if I should ever come back.\n",
            "Yet knowing how way leads on to way,\n",
            "Oh, I kept the first for another day!\n",
            "In leaves no step had trodden black.\n",
            "And both that morning equally lay\n",
            "Had worn them really about the same,\n",
            "Though as for that the passing there\n",
            "Because it was grassy and wanted wear;\n",
            "And having perhaps the better claim,\n",
            "Then took the other, as just as fair,\n",
            "To where it bent in the undergrowth;\n",
            "And looked down one as far as I could\n",
            "And be one traveler, long I stood\n",
            "And sorry I could not travel both\n",
            "Two roads diverged in a yellow wood,\n",
            "\n",
            "BY ROBERT FROST\n",
            "The Road Not Taken\n",
            "\n"
          ],
          "name": "stdout"
        }
      ]
    },
    {
      "cell_type": "markdown",
      "metadata": {
        "id": "zJVR5cgucCAL"
      },
      "source": [
        "## 4.9 Binary Files Operations\n",
        "In python, you can use binary files to not only data but also store the data structures (list or dictionary) also. This is particularly useful for storing python data structures as their original structures. To retrieve data structures from a binary file we need a special python module called `pickle`. By using word **`Pickling`** we refers to a process of covering the python data structure to byte stream before writing to a file. While reading the contents of the file, a reverse process called **`UnPickling`** is used to convert the byte stream to the original data structure.\n",
        "As we previously know that methods provided for reading/writing a file with `string` data types. So when we want to work with the binary file format, conversion of data at the time of reading/writing is required. Pickle module can be used to store any kind of object maintaining their original data structure format.\n",
        "***\n",
        "Before using the module, first we need to `import pickle` in our python environment. The pickle module provides two main function - \n",
        "- `pickle.load()` : to read the `python object` from a binary `file Object`.\n",
        "  - **Syntax:**\n",
        "     > pickle.load(python_object,file_object)\n",
        "  - **Example:**\n",
        "     > pickle.load(student_list,file_handler)\n",
        "\n",
        "- `pickle.dump()` : to write the `python object` to a binary `file Object`.\n",
        "  - **Syntax:**\n",
        "     > pickle.dump(file_object)\n",
        "  - **Example:**\n",
        "     > pickle.dump(file_handler)\n",
        "***\n",
        "Python Object: list, dictionary etc."
      ]
    },
    {
      "cell_type": "code",
      "metadata": {
        "tags": [],
        "id": "TElOh2NhcCAM",
        "outputId": "58d45ffc-43da-4123-8917-6ecbee9553f2",
        "colab": {
          "base_uri": "https://localhost:8080/",
          "height": 50
        }
      },
      "source": [
        "# 4.9.1: Writing to Binary File\n",
        "\n",
        "# Complex Data Structure\n",
        "einstein = {\n",
        "    'name' : 'Albert Einstein',\n",
        "    'born' : '14 March 1879',\n",
        "    'Known for' : ['General relativity','Special relativity','Photoelectric effect'],\n",
        "    'Fields' : ('Physics', 'philosophy'),\n",
        "    'Awards' : {\n",
        "        1920 : 'Barnard Medal',\n",
        "        1921 : 'Nobel Prize in Physics'\n",
        "    }\n",
        "}\n",
        "\n",
        "import pickle # importing pickle\n",
        "\n",
        "# Opening binary file in writing mode\n",
        "file_handler = open('physicist.dat','wb')\n",
        "\n",
        "pickle.dump(einstein, file_handler)\n",
        "file_handler.close()\n",
        "\n",
        "del(einstein)\n",
        "filexists('physicist.dat')"
      ],
      "execution_count": 24,
      "outputs": [
        {
          "output_type": "stream",
          "text": [
            "physicist.dat  already exists, [Size 290 bytes]\n"
          ],
          "name": "stdout"
        },
        {
          "output_type": "execute_result",
          "data": {
            "text/plain": [
              "True"
            ]
          },
          "metadata": {
            "tags": []
          },
          "execution_count": 24
        }
      ]
    },
    {
      "cell_type": "code",
      "metadata": {
        "tags": [],
        "id": "wHgSOIMmcCAN",
        "outputId": "1dd49fa1-6e28-44fd-e6cc-dafe178ab151",
        "colab": {
          "base_uri": "https://localhost:8080/",
          "height": 118
        }
      },
      "source": [
        "# 4.9.2: Reading From Binary File\n",
        "\n",
        "import pickle # importing pickle\n",
        "\n",
        "file_handler = open('physicist.dat','rb')\n",
        "einstein = pickle.load(file_handler)\n",
        "file_handler.close()\n",
        "\n",
        "print(\"Data Type: \", type(einstein))\n",
        "for key in einstein:\n",
        "    print(key,type(einstein[key]),einstein[key], sep='  | ')"
      ],
      "execution_count": 25,
      "outputs": [
        {
          "output_type": "stream",
          "text": [
            "Data Type:  <class 'dict'>\n",
            "name  | <class 'str'>  | Albert Einstein\n",
            "born  | <class 'str'>  | 14 March 1879\n",
            "Known for  | <class 'list'>  | ['General relativity', 'Special relativity', 'Photoelectric effect']\n",
            "Fields  | <class 'tuple'>  | ('Physics', 'philosophy')\n",
            "Awards  | <class 'dict'>  | {1920: 'Barnard Medal', 1921: 'Nobel Prize in Physics'}\n"
          ],
          "name": "stdout"
        }
      ]
    },
    {
      "cell_type": "markdown",
      "metadata": {
        "id": "KBunWw_AcCAP"
      },
      "source": [
        "### Example 1:"
      ]
    },
    {
      "cell_type": "code",
      "metadata": {
        "tags": [],
        "id": "0Yw0_pUNcCAQ",
        "outputId": "cf8fd9b2-bf04-4c5a-8a20-e4dc967000ad",
        "colab": {
          "base_uri": "https://localhost:8080/",
          "height": 84
        }
      },
      "source": [
        "# 4.9.3: Reading From Binary File\n",
        "import pickle\n",
        "file_handler = open('student.dat','ab')\n",
        "\n",
        "records = {} # Record as dict\n",
        "\n",
        "# Insert students data\n",
        "while True:\n",
        "    # Input from user\n",
        "    roll_no = int(input(\"Enter student Roll No. :\"))\n",
        "    name = input(\"Enter student Name :\")\n",
        "    marks = int(input(\"Enter student Total No. :\"))\n",
        "    \n",
        "    # Adding to data Structure\n",
        "    entry = (roll_no, name, marks)\n",
        "    records[roll_no] = entry\n",
        "    # Another Entry\n",
        "    ch = input(\"Do you want to enter another student data (Y/N) :\")\n",
        "    if ch.upper() == 'N' : break \n",
        "\n",
        "# Store the Record to storage file\n",
        "pickle.dump(records, file_handler)\n",
        "\n",
        "# close and del all variable\n",
        "file_handler.close()\n",
        "del(records,entry)\n"
      ],
      "execution_count": 26,
      "outputs": [
        {
          "output_type": "stream",
          "text": [
            "Enter student Roll No. :10\n",
            "Enter student Name :Victor\n",
            "Enter student Total No. :900\n",
            "Do you want to enter another student data (Y/N) :N\n"
          ],
          "name": "stdout"
        }
      ]
    },
    {
      "cell_type": "code",
      "metadata": {
        "tags": [],
        "id": "8yJ91CgccCAR",
        "outputId": "8acdeab3-aab6-41bd-80c4-622717b55853",
        "colab": {
          "base_uri": "https://localhost:8080/",
          "height": 67
        }
      },
      "source": [
        "import pickle\n",
        "# Check filexists\n",
        "filexists('student.dat')\n",
        "# Display Student Data\n",
        "file_handler = open('student.dat','rb')\n",
        "records = pickle.load(file_handler)\n",
        "#records = pickle.load(file_handler)\n",
        "\n",
        "print('Roll_No','Name','Marks',sep='\\t')\n",
        "for entry in records:\n",
        "    roll_no, name, marks = records[entry]\n",
        "    print(roll_no, name, marks,sep='\\t')\n",
        "file_handler.close()"
      ],
      "execution_count": 27,
      "outputs": [
        {
          "output_type": "stream",
          "text": [
            "student.dat  already exists, [Size 30 bytes]\n",
            "Roll_No\tName\tMarks\n",
            "10\tVictor\t900\n"
          ],
          "name": "stdout"
        }
      ]
    },
    {
      "cell_type": "markdown",
      "metadata": {
        "id": "SU_fkvXzcCAU"
      },
      "source": [
        "### Important : An EOFError is raised when a function do not read any data before encountering the end of their input stream. The file methods like read() return an empty string at the end of the file."
      ]
    },
    {
      "cell_type": "code",
      "metadata": {
        "tags": [],
        "id": "9IUFBwb9cCAU",
        "outputId": "1535afb8-1c50-446e-c420-0d417a6eb6b9",
        "colab": {
          "base_uri": "https://localhost:8080/",
          "height": 195
        }
      },
      "source": [
        "# 4.9.3: EOFError - Reading From empty binary file\n",
        "import pickle\n",
        "with open('test.dat','rb') as fh:\n",
        "    data = pickle.load(fh)"
      ],
      "execution_count": 35,
      "outputs": [
        {
          "output_type": "error",
          "ename": "EOFError",
          "evalue": "ignored",
          "traceback": [
            "\u001b[0;31m---------------------------------------------------------------------------\u001b[0m",
            "\u001b[0;31mEOFError\u001b[0m                                  Traceback (most recent call last)",
            "\u001b[0;32m<ipython-input-35-29c533123d8d>\u001b[0m in \u001b[0;36m<module>\u001b[0;34m()\u001b[0m\n\u001b[1;32m      2\u001b[0m \u001b[0;32mimport\u001b[0m \u001b[0mpickle\u001b[0m\u001b[0;34m\u001b[0m\u001b[0;34m\u001b[0m\u001b[0m\n\u001b[1;32m      3\u001b[0m \u001b[0;32mwith\u001b[0m \u001b[0mopen\u001b[0m\u001b[0;34m(\u001b[0m\u001b[0;34m'test.dat'\u001b[0m\u001b[0;34m,\u001b[0m\u001b[0;34m'rb'\u001b[0m\u001b[0;34m)\u001b[0m \u001b[0;32mas\u001b[0m \u001b[0mfh\u001b[0m\u001b[0;34m:\u001b[0m\u001b[0;34m\u001b[0m\u001b[0;34m\u001b[0m\u001b[0m\n\u001b[0;32m----> 4\u001b[0;31m     \u001b[0mdata\u001b[0m \u001b[0;34m=\u001b[0m \u001b[0mpickle\u001b[0m\u001b[0;34m.\u001b[0m\u001b[0mload\u001b[0m\u001b[0;34m(\u001b[0m\u001b[0mfh\u001b[0m\u001b[0;34m)\u001b[0m\u001b[0;34m\u001b[0m\u001b[0;34m\u001b[0m\u001b[0m\n\u001b[0m",
            "\u001b[0;31mEOFError\u001b[0m: Ran out of input"
          ]
        }
      ]
    },
    {
      "cell_type": "code",
      "metadata": {
        "tags": [],
        "id": "lYnK447ncCAW",
        "outputId": "0fa48f09-1c5c-4fa6-8c13-093d60a34398",
        "colab": {
          "base_uri": "https://localhost:8080/",
          "height": 34
        }
      },
      "source": [
        "# 4.9.3: EOFError - Reading From empty binary file [solved]\n",
        "import pickle\n",
        "with open('test.dat','rb') as fh:\n",
        "    try:\n",
        "        data = pickle.load(fh)\n",
        "    except EOFError as error:\n",
        "        print(\"EOFError :\", error)"
      ],
      "execution_count": 36,
      "outputs": [
        {
          "output_type": "stream",
          "text": [
            "EOFError : Ran out of input\n"
          ],
          "name": "stdout"
        }
      ]
    },
    {
      "cell_type": "markdown",
      "metadata": {
        "id": "E2w9sbhjcCAY"
      },
      "source": [
        "### **Exercise 3:** *Create a python function that insert/appned a record in a binary file 'student.dat' in appned mode and display the data on screen*.\n",
        "Reading From Binary File\n",
        "{Time: 15 min}"
      ]
    },
    {
      "cell_type": "code",
      "metadata": {
        "id": "KQwDBdEfcCAY"
      },
      "source": [
        "## Your Excercise code should be here\n",
        "import pickle\n",
        "\n",
        "def insert(roll_no,name,marks):\n",
        "    entry = (roll_no,name,marks)\n",
        "    with open('student.db','ab') as file_handler:\n",
        "        pickle.dump(entry,file_handler)\n",
        "        print('> 1 Entry Added to Database')\n",
        "\n",
        "def display(file_name):\n",
        "    fh = open(file_name,'rb')\n",
        "    try:\n",
        "        while True:\n",
        "            entry = pickle.load(fh)\n",
        "            print(entry)\n",
        "    except EOFError:\n",
        "        pass\n",
        "    fh.close()"
      ],
      "execution_count": 40,
      "outputs": []
    },
    {
      "cell_type": "code",
      "metadata": {
        "tags": [],
        "id": "zt1j0j8lcCAa",
        "outputId": "4551610a-a2ef-4fb4-dc49-16913d613da3",
        "colab": {
          "base_uri": "https://localhost:8080/",
          "height": 67
        }
      },
      "source": [
        "insert(1,'Victor',88)\n",
        "insert(2,'Jiya',65)\n",
        "insert(3,'Dev',57)"
      ],
      "execution_count": 41,
      "outputs": [
        {
          "output_type": "stream",
          "text": [
            "> 1 Entry Added to Database\n",
            "> 1 Entry Added to Database\n",
            "> 1 Entry Added to Database\n"
          ],
          "name": "stdout"
        }
      ]
    },
    {
      "cell_type": "code",
      "metadata": {
        "tags": [],
        "id": "SlxMIKMIcCAc",
        "outputId": "78eaa076-5e91-41e8-b57a-412f3b9eeaf9",
        "colab": {
          "base_uri": "https://localhost:8080/",
          "height": 84
        }
      },
      "source": [
        "display('student.db')"
      ],
      "execution_count": 42,
      "outputs": [
        {
          "output_type": "stream",
          "text": [
            "(3, 'Dev', 57)\n",
            "(1, 'Victor', 88)\n",
            "(2, 'Jiya', 65)\n",
            "(3, 'Dev', 57)\n"
          ],
          "name": "stdout"
        }
      ]
    },
    {
      "cell_type": "markdown",
      "metadata": {
        "id": "gwh708mzcCAd"
      },
      "source": [
        "## 4.10 File Modes:\n",
        "The access mode of second parameter of `open()` function the main mode either read(`r`), write(`w`) or append(`a`). These three modes can further derived into following table by the different modes of utilization.\n",
        "***\n",
        "1. Reading Mode:\n",
        "   - `r` : Opens a file for reading only. The file pointer is placed at the beginning of the file. This is the default mode. If the specified file does not exist, it will raise `FileNotFoundError`.\n",
        "   - `rb` : Opens a file for reading only in binary format. The file pointer is placed at the end of the file.\n",
        "   - `r+` : Opens a file in both reading and writing. The file pointer is placed at the beginning of the file.\n",
        "   - `rb+` : Opens a file in both reading and writing in binary format. The file pointer is placed at the at beginning of the file.\n",
        "2. Writing Mode:\n",
        "   - `w` : Opening a file for writing only.If File is already exist then Overwrite the all data of the file. If the file does not exist, it will create a new file for writing.\n",
        "   - `wb` : Opening a file for writing only in binary mode. If File is already exist then Overwrite the all data of the file. If the file does not exist a new binary file will be created for writing.\n",
        "   - `w+` : Open a file for both reading and writing. Overwrite the all data of the file. If the file does not exist create a new file for writing.\n",
        "   - `wb+`: Open a file for both reading and writing in binary mode. If File is already exist then Overwrite the all data of the file. If the file does not exist create a new binary file for writing.\n",
        "3. Append Mode:\n",
        "   - `a` : Opens a file appending new data in *text format*. The file pointer is at the end of the file if the file exists (append mode).If the file does not exist it create a new file for writing.\n",
        "   - `ab`: Opens a file appending new data in *binary formal*. The file pointer is at the end of the file if the file exists. If the file does not exist create a new binary file for writing.\n",
        "   - `a+`: Opens a file for both reading and appending. The file pointer is placed at the end of the file. If the file does not exist create a new binary file for reading and writing.\n",
        "   - `ab+`: Opens a file appending and reading new data in *binary formal*. The file pointer is at the end of the file if the file exists. If the file does not exist create a new binary file for writing.\n",
        "***"
      ]
    },
    {
      "cell_type": "markdown",
      "metadata": {
        "id": "xQIvmHZ9cCAe"
      },
      "source": [
        "## 4.11 Relative and Absolute Paths:\n",
        "Every running program has a `current directory`, which is the default directory for most operations. For example, while opening a file in any access mode Python first looks for the file in current directory if the path is not specified.\n",
        "The `os` module provides function for working with files and directories (**'os' stands for operating system.**). `os.getcwd()` returns the name of the current directory.\n",
        "```\n",
        "import os\n",
        "print(os.getcwd())\n",
        "```\n",
        "*A **relative path** starts from the current directory, where as an **absolute path** starts from the top most directory of the file system.*"
      ]
    },
    {
      "cell_type": "code",
      "metadata": {
        "tags": [],
        "id": "0Zrw7SaIcCAe",
        "outputId": "587bcae8-9d8b-49ce-cea7-d04784c30e6c",
        "colab": {
          "base_uri": "https://localhost:8080/",
          "height": 34
        }
      },
      "source": [
        "# 4.11 Relative and Absolute Paths:\n",
        "import os\n",
        "cwd = os.getcwd() # cwd stands for Current Working Directory\n",
        "print(cwd)"
      ],
      "execution_count": 43,
      "outputs": [
        {
          "output_type": "stream",
          "text": [
            "/content\n"
          ],
          "name": "stdout"
        }
      ]
    },
    {
      "cell_type": "code",
      "metadata": {
        "tags": [],
        "id": "CX3t8-9ucCAg",
        "outputId": "92ae5a9e-6027-4458-ed75-f533a2f1521e",
        "colab": {
          "base_uri": "https://localhost:8080/",
          "height": 538
        }
      },
      "source": [
        "# 4.11 Working with Relative and Absolute Paths:\n",
        "os.mkdir('data') # this will create a folder/directory in cwd\n",
        "\n",
        "#Program to write data to a file using .writelines() method\n",
        "file_handler = open('./data/alphabet.txt','w') # open file in write mode\n",
        "\n",
        "alphabet = list(map(lambda x: chr(x) + \" = \" + chr(x+32) + \"\\n\", range(65, 91)))\n",
        "#print(alphabet)\n",
        "file_handler.writelines(alphabet)\n",
        "\n",
        "file_handler.close() # this will close the file handler object.\n",
        "displayfile('./data/alphabet.txt')\n"
      ],
      "execution_count": 44,
      "outputs": [
        {
          "output_type": "stream",
          "text": [
            "\n",
            "\n",
            "./data/alphabet.txt  - Output: \n",
            "\n",
            "A = a\n",
            "B = b\n",
            "C = c\n",
            "D = d\n",
            "E = e\n",
            "F = f\n",
            "G = g\n",
            "H = h\n",
            "I = i\n",
            "J = j\n",
            "K = k\n",
            "L = l\n",
            "M = m\n",
            "N = n\n",
            "O = o\n",
            "P = p\n",
            "Q = q\n",
            "R = r\n",
            "S = s\n",
            "T = t\n",
            "U = u\n",
            "V = v\n",
            "W = w\n",
            "X = x\n",
            "Y = y\n",
            "Z = z\n",
            "\n"
          ],
          "name": "stdout"
        }
      ]
    },
    {
      "cell_type": "code",
      "metadata": {
        "id": "ICI-ku4pcCAi"
      },
      "source": [
        "# Remove directory\n",
        "os.remove('./data/alphabet.txt')\n",
        "os.rmdir('data')"
      ],
      "execution_count": 45,
      "outputs": []
    },
    {
      "cell_type": "markdown",
      "metadata": {
        "id": "ERGhpHVRcCAj"
      },
      "source": [
        "## 4.12: Standard File Stream\n",
        "The way a File object(s) perform a action with a data file; the standard I/O devices is also work in a similar way to perform using  Standard I/O stream object. We don not require to explicitly use I/O stream objects, as high-level function for performing input/output through keyboard/monitoring already available, such as `eval()`, `input()` and `print()` statements.\n",
        "The standard streams available in Python are:\n",
        "- **Standard Input Stream** (`sys.stdin`): When a stream reads from standard input.\n",
        "- **Standard Output Stream** (`sys.stdout`): Data written to standard output typically appears on your screen, but can be linked to another program with pipe.\n",
        "- **Standard Error Stream** (`sys.stderr`): Error messages are written to standard error."
      ]
    },
    {
      "cell_type": "code",
      "metadata": {
        "tags": [],
        "id": "Z6zCJjg-cCAk",
        "outputId": "7a767952-1513-4407-95b6-a4926c4fcec8",
        "colab": {
          "base_uri": "https://localhost:8080/",
          "height": 34
        }
      },
      "source": [
        "import sys\n",
        "with open('zen.txt') as fh:\n",
        "    line = fh.readline()\n",
        "    sys.stdout.write(line)"
      ],
      "execution_count": 46,
      "outputs": [
        {
          "output_type": "stream",
          "text": [
            "The Zen of Python, by Tim Peters\n"
          ],
          "name": "stdout"
        }
      ]
    },
    {
      "cell_type": "markdown",
      "metadata": {
        "id": "wf8L25PGcCAn"
      },
      "source": [
        "## 4.12 Accessing Specific Position of Files Using TELL() and SEEK()\n",
        "Till now we only can access a file either from start or from end. But files in Python allow specific location access using Built-in methods `seek()` and `tell()`.\n",
        "***\n",
        "- `.seek()` method : used to change the position of position of the `cursor` (file pointer) to a given special location. File pointer is work in a similar way to cursor, which define from where data has to be read or written in the file. Python file method `seek()` takes two arguments **offset and from_where**. The reference point is defined by second argument(**from where**). It can have any of the following three values-\n",
        "  - `0` : set reference point at the beginning of file (**default**).\n",
        "  - `1` : set reference point at the current position.\n",
        "  - `2` : set reference point at the end of the file.\n",
        "- **Syntax:**\n",
        "    > file_handler.seek(offset,from_where)\n",
        "- **Example:**\n",
        "  - from beginning of file, move 10 bytes forward.\n",
        "    > file_handler.seek(10)\n",
        "  - from current position, move 10 bytes backward.\n",
        "    > file_handler.seek(-10,1)\n",
        "  - from end of file, move 10 bytes backward.\n",
        "    > file_handler.seek(-10,2)\n",
        "    ### Important : `seek()` negative offset support only on the python 3.X opened in binary mode.\n",
        "\n",
        "- `.tell()` method : this method returns the current position of the file pointer `cursor` within the file.\n",
        "- **Syntax:**\n",
        "    > file_handler.tell()\n",
        "***\n"
      ]
    },
    {
      "cell_type": "code",
      "metadata": {
        "tags": [],
        "id": "SMy5MyivcCAn",
        "outputId": "792d15c5-47fa-4a07-b7e6-e151266c96be",
        "colab": {
          "base_uri": "https://localhost:8080/",
          "height": 437
        }
      },
      "source": [
        "# 4.12.1: Program to undersatnd seek and tell method\n",
        "\n",
        "file_handler = open('zen.txt','r') # change the access mode to append see what happen\n",
        "\n",
        "print(\"Current Cursor position : \",file_handler.tell())\n",
        "zen = file_handler.read() # Read all document\n",
        "print(\"Current Cursor position : \",file_handler.tell())\n",
        "file_handler.seek(0) # Move the cursor at beginning of the file\n",
        "print(\"Current Cursor position : \",file_handler.tell())\n",
        "\n",
        "print(\"---------------------------------------\")\n",
        "line = file_handler.readline()\n",
        "while line:\n",
        "    print(line.strip(),\" \",file_handler.tell())\n",
        "    line = file_handler.readline()\n",
        "#closing the file\n",
        "file_handler.close()"
      ],
      "execution_count": 47,
      "outputs": [
        {
          "output_type": "stream",
          "text": [
            "Current Cursor position :  0\n",
            "Current Cursor position :  856\n",
            "Current Cursor position :  0\n",
            "---------------------------------------\n",
            "The Zen of Python, by Tim Peters   33\n",
            "   34\n",
            "Beautiful is better than ugly.   65\n",
            "Explicit is better than implicit.   99\n",
            "Simple is better than complex.   130\n",
            "Complex is better than complicated.   166\n",
            "Flat is better than nested.   194\n",
            "Sparse is better than dense.   223\n",
            "Readability counts.   243\n",
            "Special cases aren't special enough to break the rules.   299\n",
            "Although practicality beats purity.   335\n",
            "Errors should never pass silently.   370\n",
            "Unless explicitly silenced.   398\n",
            "In the face of ambiguity, refuse the temptation to guess.   456\n",
            "There should be one-- and preferably only one --obvious way to do it.   526\n",
            "Although that way may not be obvious at first unless you're Dutch.   593\n",
            "Now is better than never.   619\n",
            "Although never is often better than *right* now.   668\n",
            "If the implementation is hard to explain, it's a bad idea.   727\n",
            "If the implementation is easy to explain, it may be a good idea.   792\n",
            "Namespaces are one honking great idea -- let's do more of those!   856\n"
          ],
          "name": "stdout"
        }
      ]
    },
    {
      "cell_type": "markdown",
      "metadata": {
        "id": "LNhGue4ycCAp"
      },
      "source": [
        "## 4.13 Introduction to CSV\n",
        "Comma separated values (CSV) file is a simple flat in a **human readable** format which extensively used to store tabular data, in a spreadsheet or database. A CSV file stores data (text and numbers) in plain text format. Files in the CSV format can be import to and exported from various program that stores data in tabular format, like MS Excel or Open Office Calc.\n",
        "CSV uses `comma` as a delimiter to separate values stored in files. \n",
        "***\n",
        "The structure of CSV files is as follows:\n",
        "- Each line in a file is known as `data/record`.\n",
        "- Each record consists of one or more fields, separated by `commas`.\n",
        "- The tabular data stored as `text` format in a CSV file.\n",
        "***\n",
        "### Advantage of CSV:\n",
        "- Human readable and editable text format.\n",
        "- Smaller in size.\n",
        "- Faster to handle.\n",
        "- Easily import and export onto other database and spreadsheet.\n",
        "- Simple to implement and parse.\n",
        "- Widely used and processed by all most all existing applications.\n",
        "***"
      ]
    },
    {
      "cell_type": "markdown",
      "metadata": {
        "id": "A9U0XmR6cCAq"
      },
      "source": [
        "## 4.14 CSV File Handling \n",
        "For working with CSV files we need to a built in python module called **CSV**. It is used to read and write tabular data in CSV format. Therefore, to perform read and write operations with CSV files, we must import **CSV Module**.The other operations with CSV files are similar to basic file operations we discussed earlier.\n",
        "\n",
        "**Syntax:**\n",
        "> import csv\n",
        "\n",
        "### 4.14.1 Reading from a CSV File\n",
        "Reading from a CSV file is done using reader object. The CSV file is  opened as a text file with Python's built-in `open()` function, which returns a file object. This is create a special type of object to access the CSV file (**reader object**), using the `reader()` method.\n",
        "\n",
        "The **reader object** is an iterable that gives us access to each line of the CSV file as a list of fields. You can also use `next()` directory on it to read the next line of the file, or you can treat it like a list in a for loop to read all lines of the file (as list of the file's fields).\n",
        "In general, the separator character is called a delimiter, and the comma is not the only one used. Other than comma, popular delimiters include the tab (\\t), colon(:) and semicolon(;) characters.\n",
        "\n",
        "**Syntax:**\n",
        "\n",
        "    import csv\n",
        "    file_object = open(file_name,mode='r')\n",
        "    csv_reader = csv.reader(file_object)\n",
        "    # fie operations \n",
        "    file_object.close()\n"
      ]
    },
    {
      "cell_type": "code",
      "metadata": {
        "id": "hwO85M2gcCAq",
        "outputId": "28087bd0-4faa-482d-f436-2df8671ef301",
        "colab": {
          "base_uri": "https://localhost:8080/",
          "height": 218
        }
      },
      "source": [
        "# 4.14.1 Reading From CSV file\n",
        "import csv \n",
        "file_handler = open('student.csv','r')\n",
        "csv_reader = csv.reader(file_handler)\n",
        "print(\"Reader Class Type: \",type(csv_reader),\"\\n\")\n",
        "for row in csv_reader:\n",
        "    print(row,type(row))\n",
        "\n",
        "file_handler.close()"
      ],
      "execution_count": 48,
      "outputs": [
        {
          "output_type": "stream",
          "text": [
            "Reader Class Type:  <class '_csv.reader'> \n",
            "\n",
            "['Name', 'RollNo', 'Marks'] <class 'list'>\n",
            "['Dev', '101', '90'] <class 'list'>\n",
            "['Priya', '102', '98'] <class 'list'>\n",
            "['Trisha', '103', '76'] <class 'list'>\n",
            "['Pinaki', '104', '84'] <class 'list'>\n",
            "['Shreya', '105', '78'] <class 'list'>\n",
            "['Nisha', '106', '99'] <class 'list'>\n",
            "['Sonam', '107', '66'] <class 'list'>\n",
            "['Diya', '108', '77'] <class 'list'>\n",
            "['Mohan', '109', '88'] <class 'list'>\n"
          ],
          "name": "stdout"
        }
      ]
    },
    {
      "cell_type": "code",
      "metadata": {
        "id": "W06NITsIcCAt",
        "outputId": "ff81c3d2-e9cb-4046-f3ac-830d4732ed45",
        "colab": {
          "base_uri": "https://localhost:8080/",
          "height": 70
        }
      },
      "source": [
        "# Implement reading form CSV using 'with Open()' statement\n",
        "import csv\n",
        "with open('student.csv','r') as file_handler:\n",
        "    reader = csv.reader(file_handler)\n",
        "    records = []\n",
        "    for record in reader: #Interte over rows\n",
        "        records.append(record)\n",
        "print(records)\n",
        "type(records)"
      ],
      "execution_count": 49,
      "outputs": [
        {
          "output_type": "stream",
          "text": [
            "[['Name', 'RollNo', 'Marks'], ['Dev', '101', '90'], ['Priya', '102', '98'], ['Trisha', '103', '76'], ['Pinaki', '104', '84'], ['Shreya', '105', '78'], ['Nisha', '106', '99'], ['Sonam', '107', '66'], ['Diya', '108', '77'], ['Mohan', '109', '88']]\n"
          ],
          "name": "stdout"
        },
        {
          "output_type": "execute_result",
          "data": {
            "text/plain": [
              "list"
            ]
          },
          "metadata": {
            "tags": []
          },
          "execution_count": 49
        }
      ]
    },
    {
      "cell_type": "markdown",
      "metadata": {
        "id": "BR_Rz72qcCAv"
      },
      "source": [
        "### 4.14.2 Writing to a CSV file\n",
        "To write to a CSV file in Python, we use the `csv.writer()` function. The `csv.writer()` function returns a object that converts the user's data into a `delimited string`. The string can later be used to write into a CSV file the `writerow()` function.\n",
        "\n",
        "In order to write to a CSV file, we create a special type of object to write to the csv file called `writer object`, which  in the CSV defined in the CSV module, and which we create using the `csv.writer()` function. \n",
        "The  `writerow()` method allow us to write a list of fields to the csv file. The fields can be **string** or **numbers** or both.Also, while using `writerow()`, we don't need to add `EOL indicators` character to indicate End of line.\n",
        "\n",
        "**Syntax:**\n",
        "```\n",
        "import csv\n",
        "file_object = open(file_name,mode='w')\n",
        "writer = csv.writer(file_object)\n",
        "\n",
        "# fie operations \n",
        "\n",
        "writer.writerow(record)\n",
        "file_object.close()\n",
        "```\n"
      ]
    },
    {
      "cell_type": "code",
      "metadata": {
        "id": "VMMGDlBPcCAw",
        "outputId": "981dd5fc-8769-43cf-cd79-d0f9cd23eb4f",
        "colab": {
          "base_uri": "https://localhost:8080/",
          "height": 121
        }
      },
      "source": [
        "# 4.14.2.1 Writing to CSV file Using with statement\n",
        "print(records)\n",
        "filename = 'students-copy.txt'\n",
        "file_handler = open(filename,'w',newline='')\n",
        "writer = csv.writer(file_handler,delimiter=';')\n",
        "for record in records:\n",
        "        writer.writerow(record)\n",
        "file_handler.close()\n",
        "print(filename,' - created. \\n')\n",
        "filexists(filename)"
      ],
      "execution_count": 50,
      "outputs": [
        {
          "output_type": "stream",
          "text": [
            "[['Name', 'RollNo', 'Marks'], ['Dev', '101', '90'], ['Priya', '102', '98'], ['Trisha', '103', '76'], ['Pinaki', '104', '84'], ['Shreya', '105', '78'], ['Nisha', '106', '99'], ['Sonam', '107', '66'], ['Diya', '108', '77'], ['Mohan', '109', '88']]\n",
            "students-copy.txt  - created. \n",
            "\n",
            "students-copy.txt  already exists, [Size 145 bytes]\n"
          ],
          "name": "stdout"
        },
        {
          "output_type": "execute_result",
          "data": {
            "text/plain": [
              "True"
            ]
          },
          "metadata": {
            "tags": []
          },
          "execution_count": 50
        }
      ]
    },
    {
      "cell_type": "code",
      "metadata": {
        "id": "JR7KKccscCAy",
        "outputId": "c19610f6-06d9-4b3c-bfcf-78be948e80b6",
        "colab": {
          "base_uri": "https://localhost:8080/",
          "height": 121
        }
      },
      "source": [
        "# 4.14.2.1 Writing to CSV file Using with statement\n",
        "print(records)\n",
        "filename = 'students-copy.txt'\n",
        "with open(filename,'w',newline='') as file_handler:\n",
        "    writer = csv.writer(file_handler,delimiter=',')\n",
        "    for record in records:\n",
        "        writer.writerow(record)\n",
        "    print(filename,' - created. \\n')\n",
        "filexists(filename)"
      ],
      "execution_count": 51,
      "outputs": [
        {
          "output_type": "stream",
          "text": [
            "[['Name', 'RollNo', 'Marks'], ['Dev', '101', '90'], ['Priya', '102', '98'], ['Trisha', '103', '76'], ['Pinaki', '104', '84'], ['Shreya', '105', '78'], ['Nisha', '106', '99'], ['Sonam', '107', '66'], ['Diya', '108', '77'], ['Mohan', '109', '88']]\n",
            "students-copy.txt  - created. \n",
            "\n",
            "students-copy.txt  already exists, [Size 145 bytes]\n"
          ],
          "name": "stdout"
        },
        {
          "output_type": "execute_result",
          "data": {
            "text/plain": [
              "True"
            ]
          },
          "metadata": {
            "tags": []
          },
          "execution_count": 51
        }
      ]
    }
  ]
}