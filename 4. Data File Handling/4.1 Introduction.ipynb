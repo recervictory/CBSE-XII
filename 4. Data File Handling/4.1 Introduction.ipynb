{
  "nbformat": 4,
  "nbformat_minor": 0,
  "metadata": {
    "language_info": {
      "codemirror_mode": {
        "name": "ipython",
        "version": 3
      },
      "file_extension": ".py",
      "mimetype": "text/x-python",
      "name": "python",
      "nbconvert_exporter": "python",
      "pygments_lexer": "ipython3",
      "version": "3.7.4-final"
    },
    "orig_nbformat": 2,
    "kernelspec": {
      "name": "Python 3.7.4 64-bit ('base': conda)",
      "display_name": "Python 3.7.4 64-bit ('base': conda)",
      "metadata": {
        "interpreter": {
          "hash": "7dae6437c12b1d87f00e0e10a4bd22be66a3b8ec05fb1161d95372f28c39fa9e"
        }
      }
    },
    "colab": {
      "name": "4.1 Introduction.ipynb",
      "provenance": [],
      "include_colab_link": true
    }
  },
  "cells": [
    {
      "cell_type": "markdown",
      "metadata": {
        "id": "view-in-github",
        "colab_type": "text"
      },
      "source": [
        "<a href=\"https://colab.research.google.com/github/recervictory/CBSE-XII/blob/master/4.%20Data%20File%20Handling/4.1%20Introduction.ipynb\" target=\"_parent\"><img src=\"https://colab.research.google.com/assets/colab-badge.svg\" alt=\"Open In Colab\"/></a>"
      ]
    },
    {
      "source": [
        "# 0.0 Importing Essential Libraries [Run this part of code]"
      ],
      "cell_type": "markdown",
      "metadata": {}
    },
    {
      "cell_type": "code",
      "execution_count": 3,
      "metadata": {
        "tags": []
      },
      "outputs": [
        {
          "output_type": "stream",
          "name": "stdout",
          "text": [
            "zen.txt  already exists, [Size 856 bytes]\nstudent.csv  already exists, [Size 135 bytes]\n\n**Everything Fine! System is Ready...**\n"
          ]
        }
      ],
      "source": [
        "\n",
        "import os\n",
        "import urllib.request as download\n",
        "\n",
        "def filexists(file_name):\n",
        "    '''Check if file exists and show file size'''\n",
        "    if(os.path.exists(file_name)):\n",
        "        print(file_name, \" already exists, [Size\", os.path.getsize(file_name),\"bytes]\")\n",
        "        return True\n",
        "    else:\n",
        "        print(file_name, \"- File Does not exist!\")\n",
        "        return False\n",
        "\n",
        "def displayfile(file_name):\n",
        "    '''Display data of a file if file exits'''\n",
        "    if(os.path.exists(file_name)):\n",
        "        fh = open(file_name,'r')\n",
        "        data = fh.read()\n",
        "        print(\"\\n\")\n",
        "        print(file_name,\" - Output: \\n\")\n",
        "        print(data)\n",
        "        fh.close\n",
        "    else:\n",
        "        print(file_name, \"- File Does not exist!\")\n",
        "\n",
        "download.urlretrieve('https://raw.githubusercontent.com/recervictory/public/master/CBSE-XII/data/zen.txt', 'zen.txt')\n",
        "download.urlretrieve('https://raw.githubusercontent.com/recervictory/public/master/CBSE-XII/data/student.csv','student.csv')\n",
        "if(filexists('zen.txt') and filexists('student.csv')):\n",
        "    print('\\n**Everything Fine! System is Ready...**')\n",
        "else:\n",
        "    print('Something is Wrong! Call V!')"
      ]
    },
    {
      "cell_type": "markdown",
      "metadata": {
        "id": "qf2fMf-sQsnY"
      },
      "source": [
        "# Chapter 4: Data File handling \n",
        "![Enigma Machine](https://raw.githubusercontent.com/recervictory/public/master/CBSE-XII/images/0401_enigmaMachine.jpg)"
      ]
    },
    {
      "cell_type": "markdown",
      "metadata": {
        "id": "bKkavim5QsnZ"
      },
      "source": [
        "## 4.1: Introduction\n",
        "- Computer Program needs to process different types for files.\n",
        "- These files stored information or data in the permanent location in the Computer and serve different purpose in computer application\n",
        "    - For Word Processer, we use Document files(*.doc/,*.docx).\n",
        "    - Database program has its own types of file system (*.db).\n",
        "    - Complier program use source files to generate executable file.\n",
        "- Programs that are used in day-to-day business operations rely extensively on files. \n"
      ]
    },
    {
      "cell_type": "markdown",
      "metadata": {
        "id": "zxwN2U3_QsnZ"
      },
      "source": [
        "<div class=\"alert alert-block alert-info\">\n",
        "<h3>Info:</h3>\n",
        "<p style=\"color:lime; font-weight:bold\">A file in itself is a bunch of bytes stored on some storage devie like hard-disk, pen-drive. It  a document or the data stored on a permanent storage device which can be read,written or rewritten according to requirement. In other words, data is packaged up on the storagedevice as data structures called Files.</p> \n",
        "<div>"
      ]
    },
    {
      "cell_type": "markdown",
      "metadata": {
        "id": "hLCHcZDHQsna"
      },
      "source": [
        "## 4.2: Data Files\n",
        "A data files are the files that store data pretraining to a specific application, for later use. The data files can be stored in two ways :\n",
        "- Text Files\n",
        "- Binary Files\n",
        "***\n",
        "1. **Text Files**: A text files stores information in *ASCII or UniCode* characters. In the text files, each lines is terminated,(delimited) with a special characters known known as **EOF(End of Line)** character. In the text files, some internal translations take places when this EOL character is read or written. In Python, by default, this EOL character is newline character ('\\n') or carriage-return, newline combination('\\r\\n').\n",
        "2. **Binary Files**: A binary files is just that contains information in same format in which the information is held in memory. i.e., the files content that return to you is raw format (with no translations or specific encoding). In binary files, there is no delimited for lines. Also no translations occurs in binary files. As a result, binary files are faster and easier for a program to read and write in compare with a text files. As long as the people or need to be ported to different type of system, binary files are the best way to store program.\n",
        "\n",
        "    ![Binary File Example](https://raw.githubusercontent.com/recervictory/public/master/CBSE-XII/images/0402_binary_file.png)\n",
        "***"
      ]
    },
    {
      "cell_type": "markdown",
      "metadata": {
        "id": "D6kENaETQsna"
      },
      "source": [
        "## 4.3 Data File Operations\n",
        "In python file data file operations a strict rule needed to be follow. **After performing desirable operation, it needs to be close so that resources that are tied with the file are freed**.\n",
        "Thus, python file handling takes place in the following order:\n",
        "\n",
        "    1. Opening a file.\n",
        "    2. Performing operation (read, write, etc.) or processing data.\n",
        "    3. Closing the File."
      ]
    },
    {
      "cell_type": "markdown",
      "metadata": {
        "id": "w5ILHFHrQsnb"
      },
      "source": [
        "## 4.4 Opening and Closing Files\n",
        "To handle data files in Python, we need to have a `file variable or file object or file handle`. Object can be created by using `open()` function and `file()` function.  To work with file we need to open it. This is done by using the build in `open()` function.\n",
        "***\n",
        "- **Opening a File -- open():** When we want to read or write from storage devices, we must first open the file. When we open a file, the file must stored on the same folder  that we are start the python. `open()` function takes the **name** of the file (i.e data.txt) as first argument. The second argument indicates the **mode of accessing** the file. This is an optional parameter the default mode is **read mode** or `\"r\"`.\n",
        "    - **Modes for Opening a File :**\n",
        "      - Read (`\"r\"`): to read file,\n",
        "      - Write(`\"w\"`): to write to the file,\n",
        "      - append(`\"a\"`): to write a file in append mode (write at the end of file)\n",
        "\n",
        "    ![File Modes](https://raw.githubusercontent.com/recervictory/public/master/CBSE-XII/images/0403_fileModesPython.png)\n",
        "- **Syntax:**\n",
        "    > file_object = open(file_name,access_mode)\n",
        "- **Example:**\n",
        "    > file_handler = open(\"zen.txt\",mode=\"r\")\n",
        "***\n",
        "\n",
        "<div class=\"alert alert-block alert-danger\">\n",
        "<h3>Important:</h3>\n",
        "<p style=\"color:tomato;font-weight:bold\">When opening a file in read, the given file name must exit in the folder, otherwise Python raise <span style=\"color:lime; font-weight:bold\">`FileNotFoundError`</span> .</p> \n",
        "<div>"
      ]
    },
    {
      "cell_type": "code",
      "metadata": {
        "tags": [],
        "id": "z9MgvaEoQsnc",
        "outputId": "28715aae-43a2-4ab4-819b-c4fe5de41590"
      },
      "source": [
        "file_handler = open(\"zen.txt\",mode=\"r\") # Opening a file name \"zen.txt\" in Read mode\n",
        "print(file_handler) "
      ],
      "execution_count": null,
      "outputs": []
    },
    {
      "source": [
        "***\n",
        "- **Closing a File -- close():** The close me method of a file object flushes any unwritten information and closes the file object, after  which no more writing can be done. Python automatically closes a file references when  the references object of a file reassigned to another file. It is good practice to use close method to close a file. A `close()` function breaks the link of the file object and on the disk. After Closing a file (using `close()`), no tasks can be performed with on that file through the file object.\n",
        "- **Syntax:**\n",
        "    > file_object.close()\n",
        "- **Example:**\n",
        "    > file_handler.close()\n",
        "***"
      ],
      "cell_type": "markdown",
      "metadata": {}
    },
    {
      "cell_type": "code",
      "execution_count": null,
      "metadata": {},
      "outputs": [],
      "source": [
        "file_handler.close() # this will close the file handler object."
      ]
    },
    {
      "source": [
        "***\n",
        "**Important properties of File Object :**\n",
        "After opening a file through the `file handler` object, various details releated to file can be retrieve using associated properties/methods.\n",
        "- `.name` : Name of the opened file.\n",
        "- `.mode` : Mode in which the file get opened.\n",
        "- `.closed` : return *Boolean value*, which indicates weather a file closed or not.\n",
        "- `.readable()` : return *Boolean value*, which indicate, weather a file is readable or not.\n",
        "***"
      ],
      "cell_type": "markdown",
      "metadata": {}
    },
    {
      "cell_type": "code",
      "execution_count": null,
      "metadata": {
        "tags": []
      },
      "outputs": [],
      "source": [
        "# Show various properties of a file\n",
        "file_handler = open('zen.txt','r')\n",
        "\n",
        "print(\"File Name :\", file_handler.name)\n",
        "print(\"File Mode :\", file_handler.mode)\n",
        "print(\"Is file Readable :\", file_handler.readable())\n",
        "print(\"Is file Closed :\", file_handler.closed)\n",
        "\n",
        "file_handler.close() # Close the file\n",
        "print(\"\\nIs file Closed :\", file_handler.closed)"
      ]
    },
    {
      "source": [
        "### **Exercise 1:** *Create a python function `handlerProperties` that takes a file object and if file is not closed yet 1. print the file name, file mode and with suitable  message 2. print if file is readable  'Readable' else ' Not readable' and show  or not*.\n",
        "\n",
        "{Time: 10 min}"
      ],
      "cell_type": "markdown",
      "metadata": {}
    },
    {
      "source": [
        "# Exercise 1: \n",
        "# Create a python function handlerProperties that takes a file object\n",
        "# and print the file name, file mode and with suitable message and if file is readable \n",
        "# print 'Readable' else ' Not readable' and show if file is closed or not.\n",
        "\n",
        "file_handler = open('zen.txt','r+') # creating a file_object\n",
        "\n",
        "# Creating handlerProperties\n",
        "def handlerProperties(fh):\n",
        "    '''Show importnat properties of file Object.'''\n",
        "    if(not fh.closed):\n",
        "        print(\"Name :\", fh.name)\n",
        "        print(\"File Mode :\", fh.mode)\n",
        "        if(fh.readable()):\n",
        "            print(\"File is Readable.\")\n",
        "        else:\n",
        "            print(\"Not Readable.\")\n",
        "    else:\n",
        "        print('\\n**The file is Closed**')\n",
        "# Calling the Function\n",
        "handlerProperties(file_handler)\n",
        "\n",
        "#Closing the file:\n",
        "file_handler.close()\n",
        "\n",
        "# Calling the Function\n",
        "handlerProperties(file_handler)"
      ],
      "cell_type": "code",
      "metadata": {
        "tags": []
      },
      "execution_count": null,
      "outputs": []
    },
    {
      "source": [
        "## 4.5 Reading From a File\n",
        "Python provides various methods for reading data from files. We can read data *by character or by lines* using following `read` methods:\n",
        "***\n",
        "- `.read()` : To read the entire data from the file as string(`str`); starts reading from the `cursor` up to the **end of file** (EOF).\n",
        "- **Syntax:**\n",
        "> file_object.read()\n",
        "- `.read(n)` :To read 'n' number of characters from the file, starting from the `cursor`; if file holds fewer than 'n' characters, it will read until **end of file** (EOF).\n",
        "- **Syntax:**\n",
        "> file_object.read(n) # n must be a int type\n",
        "- `.readline()`: To read *only one line* at time from the file; starts reading from the `cursor` up to the **end of line** (EOL).\n",
        "- **Syntax:**\n",
        "> file_object.readline()\n",
        "- `.readlines()`: To read all the file into a `list`; starts reading from the `cursor` up to the end of file (EOF) and returns a list of lines.\n",
        "- **Syntax:**\n",
        "> file_object.readlines()\n",
        "***"
      ],
      "cell_type": "markdown",
      "metadata": {}
    },
    {
      "cell_type": "code",
      "execution_count": null,
      "metadata": {
        "tags": []
      },
      "outputs": [],
      "source": [
        "# Code 4.5.1 .read() method\n",
        "file_handler = open('zen.txt','r') # open file in read mode\n",
        "\n",
        "zen = file_handler.read() # Read all the data \n",
        "print(\"Data Type :\",type(zen),end=\"\\n\\n\")\n",
        "\n",
        "print(zen)\n",
        "file_handler.close() # this will close the file handler object."
      ]
    },
    {
      "cell_type": "code",
      "execution_count": null,
      "metadata": {
        "tags": []
      },
      "outputs": [],
      "source": [
        "# Code 4.5.2 .read(n) method\n",
        "file_handler = open('zen.txt','r') # open file in read mode\n",
        "zen = file_handler.read(32) # Read all the data [change the value n in the read(n)]\n",
        "print(\"Data Type :\",type(zen),end=\"\\n\\n\")\n",
        "\n",
        "print(zen)\n",
        "file_handler.close() # this will close the file handler object."
      ]
    },
    {
      "cell_type": "code",
      "execution_count": null,
      "metadata": {
        "tags": []
      },
      "outputs": [],
      "source": [
        "# Code 4.5.3 .readline() method\n",
        "file_handler = open('zen.txt','r') # open file in read mode\n",
        "zen = file_handler.readline() # Read all the data [change the value n in the read(n)]\n",
        "print(\"Data Type :\",type(zen),end=\"\\n\\n\")\n",
        "\n",
        "print(zen)\n",
        "file_handler.close() # this will close the file handler object."
      ]
    },
    {
      "source": [
        "## 4.6 Removing Whitespaces After Reading a File\n",
        "The `.read()`, `.readline()` and `.readline()` method read leading and trailing whitespaces (i.e., spaces, tabs or newline characters), to remove this whitespaces following string `.strip()` methods are used.\n",
        "- `.strip()` : removes the given character from both side.\n",
        "- `.rstrip()` : removes the given character from trailing end (i.e., right side).\n",
        "- `.lstrip()` : removes the given character from lead end (i.e., left side).\n",
        "\n",
        "<div class=\"alert alert-block alert-info\">\n",
        "<h3>Info:</h3>\n",
        "<p style=\"color:lime;\">For reading an entire file using <span style=\"color:tomato; font-weight:bold\">.readline().</span> method we have to loop over <span style=\"color:tomato; font-weight:bold\">file object</span>. This is efficient and fast way of reading file. But printing using readline causes new problem as two line break to solve this issue we use <span style=\"color:tomato; font-weight:bold\">.strip() </span> string method.</p> \n",
        "<div>"
      ],
      "cell_type": "markdown",
      "metadata": {}
    },
    {
      "source": [
        "# Code 4.5.3I .readlines() method\n",
        "file_handler = open('zen.txt','r') # open file in read mode\n",
        "for line in file_handler:\n",
        "    print(line) # Use print(line.strip()) instead of print(line) or use print(line, end=\"\")"
      ],
      "cell_type": "code",
      "metadata": {
        "tags": []
      },
      "execution_count": null,
      "outputs": []
    },
    {
      "cell_type": "code",
      "execution_count": null,
      "metadata": {
        "tags": []
      },
      "outputs": [],
      "source": [
        "# Code 4.5.4 .readlines() method\n",
        "file_handler = open('zen.txt','r') # open file in read mode\n",
        "zen = file_handler.readlines() # Read all the data [change the value n in the read(n)]\n",
        "print(\"Data Type :\",type(zen),end=\"\\n\\n\")\n",
        "\n",
        "print(zen)\n",
        "file_handler.close() # this will close the file handler object."
      ]
    },
    {
      "source": [
        "## 4.7 Writing to File\n",
        "We can write character data into a file by using following two methods:\n",
        "***\n",
        "- `.write()` : This method take `string` as parameter and writes write it in the file. To include **end of line** (EOL) character, we will have to add `\\n` character to the end of `string`. \n",
        "- **Syntax:**\n",
        "    > file_object.write(str + \"\\n\") \n",
        "\n",
        "- `.writelines()` : For writing a `string` in `list` of lines we use `.writelines()` methods; other data types like `list`,`tuple`, etc. can't be used for writing into the files. Also to be noted that `.writelines()` method does not add add any **end of line** (EOL) character, we will have to add `\\n` character to the end of `string`. \n",
        "- **Syntax:**\n",
        "    > file_object.writelines(list) \n",
        "***\n",
        "<div class=\"alert alert-block alert-danger\">\n",
        "<h3>Important:</h3>\n",
        "<p style=\"color:tomato;font-weight:bold\">Write method takes `string` as an argument, for storing a other data types like numeric values,we first need to <span style=\"color:lime; font-weight:bold\">convert it to string </span>before writing to a file.</p> \n",
        "<div>"
      ],
      "cell_type": "markdown",
      "metadata": {}
    },
    {
      "cell_type": "code",
      "execution_count": null,
      "metadata": {
        "tags": []
      },
      "outputs": [],
      "source": [
        "# 4.7.1: Program to write data to a file using .write() method\n",
        "filexists('poem.txt')\n",
        "file_handler = open('poem.txt','w') # open file in write mode\n",
        "filexists('poem.txt')\n",
        "\n",
        "file_handler.write('The Road Not Taken\\n')\n",
        "file_handler.write('BY ROBERT FROST\\n')\n",
        "file_handler.write('\\n')\n",
        "file_handler.write('Two roads diverged in a yellow wood,\\n')\n",
        "file_handler.write('And sorry I could not travel both\\n')\n",
        "file_handler.write('And be one traveler, long I stood\\n')\n",
        "file_handler.write('And looked down one as far as I could\\n')\n",
        "file_handler.write('To where it bent in the undergrowth;\\n')\n",
        "\n",
        "file_handler.close() # this will close the file handler object.\n",
        "filexists('poem.txt')\n",
        "displayfile('poem.txt')"
      ]
    },
    {
      "cell_type": "code",
      "execution_count": null,
      "metadata": {
        "tags": []
      },
      "outputs": [],
      "source": [
        "# 4.7.2: Program to write student deatils\n",
        "file_handler = open('song.txt','w') # open file in write mode\n",
        "\n",
        "# Student Details from the user\n",
        "to = \"Bela Bose\"\n",
        "phoneno = 2441139\n",
        "message = \"Chakrita Ami Pey Gechi Belo Suncho\"\n",
        "by = \"Anjan Dutt\"\n",
        " \n",
        "\n",
        "# Writing to File\n",
        "file_handler.write(to + \"\\n\")\n",
        "#file_handler.write(phoneno) # resolve the TypeError: write() argument must be str, not int\n",
        "file_handler.write(message)\n",
        "file_handler.write(by)\n",
        " \n",
        "file_handler.close() # this will close the file handler object.\n",
        "displayfile('song.txt')"
      ]
    },
    {
      "cell_type": "code",
      "execution_count": null,
      "metadata": {
        "tags": []
      },
      "outputs": [],
      "source": [
        "# 4.7.3: Program to write data to a file using .writelines() method\n",
        "file_handler = open('alphabet.txt','w') # open file in write mode\n",
        "\n",
        "alphabet = list(map(lambda x: chr(x) + \" = \" + chr(x+32) + \"\\n\", range(65, 91)))\n",
        "#print(alphabet)\n",
        "file_handler.writelines(alphabet)\n",
        "\n",
        "file_handler.close() # this will close the file handler object.\n",
        "displayfile('alphabet.txt')"
      ]
    },
    {
      "source": [
        "## 4.8 Appending to File\n",
        "Append means 'to add to'; so if we want to add more data to a file which already has some data in it, we will be appending data. In such a case, use the access_mode `a`, which means:\n",
        "**Opening for writing, and if it exists, then append data to the end of the file.**\n",
        "In Python, we can use the `a` mode to open an output file in append mode. This means that:\n",
        "- If the file already exists, it will not be overwritten. If the file does not exist,it will be created.\n",
        "- When data is written to the file, it will be written at the end of the file's current contents.\n",
        "- **Syntax:**\n",
        "     > file_object = open(file_name,'a')\n",
        "- **Example:**\n",
        "     >file_handler = open(\"data.txt\",'a')\n",
        "\n",
        "We can write character data into a file in **append mode** by using following two methods:\n",
        "***\n",
        "- `.write()` : This method take `string` as parameter and writes write it in the file. To include **end of line** (EOL) character, we will have to add `\\n` character to the end of `string`. \n",
        "- **Syntax:**\n",
        "    > file_object.write(str + \"\\n\") \n",
        "\n",
        "- `.writelines()` : For writing a `string` in `list` of lines we use `.writelines()` methods; other data types like `list`,`tuple`, etc. can't be used for writing into the files. Also to be noted that `.writelines()` method does not add add any **end of line** (EOL) character, we will have to add `\\n` character to the end of `string`. \n",
        "- **Syntax:**\n",
        "    > file_object.writelines(list) \n",
        "***"
      ],
      "cell_type": "markdown",
      "metadata": {}
    },
    {
      "cell_type": "code",
      "execution_count": null,
      "metadata": {
        "tags": []
      },
      "outputs": [],
      "source": [
        "# 4.8.1: Program to append data to a file using .write() method\n",
        "filexists('poem.txt')\n",
        "file_handler = open('poem.txt','a') # open file in Append mode\n",
        "\n",
        "# Using File write method\n",
        "file_handler.write('Then took the other, as just as fair,\\n')\n",
        "file_handler.write('And having perhaps the better claim,\\n')\n",
        "file_handler.write('Because it was grassy and wanted wear;\\n')\n",
        "file_handler.write('Though as for that the passing there\\n')\n",
        "file_handler.write('Had worn them really about the same,\\n')\n",
        "\n",
        "# Using File WriteLines method\n",
        "file_handler.writelines([\n",
        "'And both that morning equally lay\\n',\n",
        "'In leaves no step had trodden black.\\n',\n",
        "'Oh, I kept the first for another day!\\n',\n",
        "'Yet knowing how way leads on to way,\\n',\n",
        "'I doubted if I should ever come back.\\n',\n",
        "])\n",
        "# creating list with string poem lines\n",
        "poemlines = [\n",
        "'I shall be telling this with a sigh\\n'\n",
        "'Somewhere ages and ages hence:\\n'\n",
        "'Two roads diverged in a wood, and I—\\n'\n",
        "'I took the one less traveled by,\\n'\n",
        "'And that has made all the difference.\\n'\n",
        "]\n",
        "file_handler.writelines(poemlines)\n",
        "\n",
        "file_handler.close() # this will close the file handler object.\n",
        "\n",
        "displayfile('poem.txt')\n",
        "filexists('poem.txt')"
      ]
    },
    {
      "source": [
        "## 4.9 File Handling using 'with' Statement [Important]\n",
        "Apart form using `open()` for file creation methods, `with` statement can also be used for some purpose. We can use this statement to group file operation statement within a block. Using `with` statement unsure that all resources allocated to the file object get deallocated automatically once we stop using the file.\n",
        "\n",
        "- **Syntax:**\n",
        "    ```\n",
        "    with open(file_name,mode) as file_object:\n",
        "        file manipulation statements\n",
        "    ```\n",
        "- **Example:**\n",
        "    ```\n",
        "    with open(\"data.txt\",\"w\") as file_handler:\n",
        "        filehandler.write(\"Some text\")\n",
        "    ```"
      ],
      "cell_type": "markdown",
      "metadata": {}
    },
    {
      "cell_type": "code",
      "execution_count": null,
      "metadata": {
        "tags": []
      },
      "outputs": [],
      "source": [
        "# 4.9.1: Reading file using with statemet\n",
        "with open(\"zen.txt\",'r') as file_handler:\n",
        "   zen = file_handler.read()\n",
        "   print(zen)\n",
        "#check if file is closed or not\n",
        "handlerProperties(file_handler)"
      ]
    },
    {
      "cell_type": "code",
      "execution_count": null,
      "metadata": {
        "tags": []
      },
      "outputs": [],
      "source": [
        "# 4.9.1: Writing file using with statemet\n",
        "with open(\"quotation.txt\",'a') as file_handler:\n",
        "   file_handler.write(\"Good Programmers Are Lazy and Dumb.\\n\")\n",
        "#check if file is closed or not\n",
        "handlerProperties(file_handler)\n",
        "\n",
        "displayfile('quotation.txt')"
      ]
    },
    {
      "source": [
        "### **Exercise 2:** *Create a python function that take two arguments(source,destination) and copy content from source to destination file*.\n",
        "\n",
        "{Time: 15 min}"
      ],
      "cell_type": "markdown",
      "metadata": {}
    },
    {
      "cell_type": "code",
      "execution_count": null,
      "metadata": {
        "tags": []
      },
      "outputs": [],
      "source": [
        "# Your Excercise code should be here\n",
        "def fileCopy(source,dest=None):\n",
        "    dest = (\"copy-\" + source) if dest is None else dest\n",
        "    sfh = open(source,'r')\n",
        "    dfh = open(dest, 'w')\n",
        "\n",
        "    line = sfh.readline()\n",
        "    while line:\n",
        "        dfh.write(line)\n",
        "        line = sfh.readline()\n",
        "    sfh.close\n",
        "    dfh.close"
      ]
    },
    {
      "cell_type": "code",
      "execution_count": null,
      "metadata": {
        "tags": []
      },
      "outputs": [],
      "source": [
        "fileCopy(\"poem.txt\")"
      ]
    },
    {
      "source": [
        "## 4.9 Binary Files Operations\n",
        "In python, you can use binary files to not only data but also store the data structures (list or dictionary) also. This is particularly useful for storing python data structures as their original structures. To retrieve data structures from a binary file we need a special python module called `pickle`. By using word **`Pickling`** we refers to a process of covering the python data structure to byte stream before writing to a file. While reading the contents of the file, a reverse process called **`UnPickling`** is used to convert the byte stream to the original data structure.\n",
        "As we previously know that methods provided for reading/writing a file with `string` data types. So when we want to work with the binary file format, conversion of data at the time of reading/writing is required. Pickle module can be used to store any kind of object maintaining their original data structure format.\n",
        "***\n",
        "Before using the module, first we need to `import pickle` in our python environment. The pickle module provides two main function - \n",
        "- `pickle.load()` : to read the `python object` from a binary `file Object`.\n",
        "  - **Syntax:**\n",
        "     > pickle.load(python_object,file_object)\n",
        "  - **Example:**\n",
        "     > pickle.load(student_list,file_handler)\n",
        "\n",
        "- `pickle.dump()` : to write the `python object` to a binary `file Object`.\n",
        "  - **Syntax:**\n",
        "     > pickle.dump(file_object)\n",
        "  - **Example:**\n",
        "     > pickle.dump(file_handler)\n",
        "***\n",
        "Python Object: list, dictionary etc."
      ],
      "cell_type": "markdown",
      "metadata": {}
    },
    {
      "cell_type": "code",
      "execution_count": null,
      "metadata": {
        "tags": []
      },
      "outputs": [],
      "source": [
        "# 4.9.1: Writing to Binary File\n",
        "\n",
        "# Complex Data Structure\n",
        "einstein = {\n",
        "    'name' : 'Albert Einstein',\n",
        "    'born' : '14 March 1879',\n",
        "    'Known for' : ['General relativity','Special relativity','Photoelectric effect'],\n",
        "    'Fields' : ('Physics', 'philosophy'),\n",
        "    'Awards' : {\n",
        "        1920 : 'Barnard Medal',\n",
        "        1921 : 'Nobel Prize in Physics'\n",
        "    }\n",
        "}\n",
        "\n",
        "import pickle # importing pickle\n",
        "\n",
        "# Opening binary file in writing mode\n",
        "file_handler = open('physicist.dat','wb')\n",
        "\n",
        "pickle.dump(einstein, file_handler)\n",
        "file_handler.close()\n",
        "\n",
        "del(einstein)\n",
        "filexists('physicist.dat')"
      ]
    },
    {
      "cell_type": "code",
      "execution_count": null,
      "metadata": {
        "tags": []
      },
      "outputs": [],
      "source": [
        "# 4.9.2: Reading From Binary File\n",
        "\n",
        "import pickle # importing pickle\n",
        "\n",
        "file_handler = open('physicist.dat','rb')\n",
        "einstein = pickle.load(file_handler)\n",
        "file_handler.close()\n",
        "\n",
        "print(\"Data Type: \", type(einstein))\n",
        "for key in einstein:\n",
        "    print(key,type(einstein[key]),einstein[key], sep='  | ')"
      ]
    },
    {
      "source": [
        "### Example 1:"
      ],
      "cell_type": "markdown",
      "metadata": {}
    },
    {
      "cell_type": "code",
      "execution_count": null,
      "metadata": {
        "tags": []
      },
      "outputs": [],
      "source": [
        "# 4.9.3: Reading From Binary File\n",
        "import pickle\n",
        "file_handler = open('student.dat','ab')\n",
        "\n",
        "records = {} # Record as dict\n",
        "\n",
        "# Insert students data\n",
        "while True:\n",
        "    # Input from user\n",
        "    roll_no = int(input(\"Enter student Roll No. :\"))\n",
        "    name = input(\"Enter student Name :\")\n",
        "    marks = int(input(\"Enter student Total No. :\"))\n",
        "    \n",
        "    # Adding to data Structure\n",
        "    entry = (roll_no, name, marks)\n",
        "    records[roll_no] = entry\n",
        "    # Another Entry\n",
        "    ch = input(\"Do you want to enter another student data (Y/N) :\")\n",
        "    if ch.upper() == 'N' : break \n",
        "\n",
        "# Store the Record to storage file\n",
        "pickle.dump(records, file_handler)\n",
        "\n",
        "# close and del all variable\n",
        "file_handler.close()\n",
        "del(records,entry)\n"
      ]
    },
    {
      "cell_type": "code",
      "execution_count": null,
      "metadata": {
        "tags": []
      },
      "outputs": [],
      "source": [
        "import pickle\n",
        "# Check filexists\n",
        "filexists('student.dat')\n",
        "# Display Student Data\n",
        "file_handler = open('student.dat','rb')\n",
        "records = pickle.load(file_handler)\n",
        "#records = pickle.load(file_handler)\n",
        "\n",
        "print('Roll_No','Name','Marks',sep='\\t')\n",
        "for entry in records:\n",
        "    roll_no, name, marks = records[entry]\n",
        "    print(roll_no, name, marks,sep='\\t')\n",
        "file_handler.close()"
      ]
    },
    {
      "source": [
        "### Important : An EOFError is raised when a function do not read any data before encountering the end of their input stream. The file methods like read() return an empty string at the end of the file."
      ],
      "cell_type": "markdown",
      "metadata": {}
    },
    {
      "cell_type": "code",
      "execution_count": null,
      "metadata": {
        "tags": []
      },
      "outputs": [],
      "source": [
        "# 4.9.3: EOFError - Reading From empty binary file\n",
        "import pickle\n",
        "with open('test.dat','rb') as fh:\n",
        "    data = pickle.load(fh)"
      ]
    },
    {
      "cell_type": "code",
      "execution_count": null,
      "metadata": {
        "tags": []
      },
      "outputs": [],
      "source": [
        "# 4.9.3: EOFError - Reading From empty binary file [solved]\n",
        "import pickle\n",
        "with open('test.dat','rb') as fh:\n",
        "    try:\n",
        "        data = pickle.load(fh)\n",
        "    except EOFError as error:\n",
        "        print(\"EOFError :\", error)"
      ]
    },
    {
      "source": [
        "### **Exercise 3:** *Create a python function that insert/appned a record in a binary file 'student.dat' in appned mode and display the data on screen*.\n",
        "Reading From Binary File\n",
        "{Time: 15 min}"
      ],
      "cell_type": "markdown",
      "metadata": {}
    },
    {
      "cell_type": "code",
      "execution_count": null,
      "metadata": {},
      "outputs": [],
      "source": [
        "## Your Excercise code should be here\n",
        "import pickle\n",
        "\n",
        "def insert(roll_no,name,marks):\n",
        "    entry = (roll_no,name,marks)\n",
        "    with open('student.db','wb') as file_handler:\n",
        "        pickle.dump(entry,file_handler)\n",
        "        print('> 1 Entry Added to Database')\n",
        "\n",
        "def display(file_name):\n",
        "    fh = open(file_name,'rb')\n",
        "    try:\n",
        "        while True:\n",
        "            entry = pickle.load(fh)\n",
        "            print(entry)\n",
        "    except EOFError:\n",
        "        pass\n",
        "    fh.close()"
      ]
    },
    {
      "cell_type": "code",
      "execution_count": null,
      "metadata": {
        "tags": []
      },
      "outputs": [],
      "source": [
        "insert(1,'Victor',88)\n",
        "insert(2,'Jiya',65)\n",
        "insert(3,'Dev',57)"
      ]
    },
    {
      "cell_type": "code",
      "execution_count": null,
      "metadata": {
        "tags": []
      },
      "outputs": [],
      "source": [
        "display('student.db')"
      ]
    },
    {
      "source": [
        "## 4.10 File Modes:\n",
        "The access mode of second parameter of `open()` function the main mode either read(`r`), write(`w`) or append(`a`). These three modes can further derived into following table by the different modes of utilization.\n",
        "***\n",
        "1. Reading Mode:\n",
        "   - `r` : Opens a file for reading only. The file pointer is placed at the beginning of the file. This is the default mode. If the specified file does not exist, it will raise `FileNotFoundError`.\n",
        "   - `rb` : Opens a file for reading only in binary format. The file pointer is placed at the end of the file.\n",
        "   - `r+` : Opens a file in both reading and writing. The file pointer is placed at the beginning of the file.\n",
        "   - `rb+` : Opens a file in both reading and writing in binary format. The file pointer is placed at the at beginning of the file.\n",
        "2. Writing Mode:\n",
        "   - `w` : Opening a file for writing only.If File is already exist then Overwrite the all data of the file. If the file does not exist, it will create a new file for writing.\n",
        "   - `wb` : Opening a file for writing only in binary mode. If File is already exist then Overwrite the all data of the file. If the file does not exist a new binary file will be created for writing.\n",
        "   - `w+` : Open a file for both reading and writing. Overwrite the all data of the file. If the file does not exist create a new file for writing.\n",
        "   - `wb+`: Open a file for both reading and writing in binary mode. If File is already exist then Overwrite the all data of the file. If the file does not exist create a new binary file for writing.\n",
        "3. Append Mode:\n",
        "   - `a` : Opens a file appending new data in *text format*. The file pointer is at the end of the file if the file exists (append mode).If the file does not exist it create a new file for writing.\n",
        "   - `ab`: Opens a file appending new data in *binary formal*. The file pointer is at the end of the file if the file exists. If the file does not exist create a new binary file for writing.\n",
        "   - `a+`: Opens a file for both reading and appending. The file pointer is placed at the end of the file. If the file does not exist create a new binary file for reading and writing.\n",
        "   - `ab+`: Opens a file appending and reading new data in *binary formal*. The file pointer is at the end of the file if the file exists. If the file does not exist create a new binary file for writing.\n",
        "***"
      ],
      "cell_type": "markdown",
      "metadata": {}
    },
    {
      "source": [
        "## 4.11 Relative and Absolute Paths:\n",
        "Every running program has a `current directory`, which is the default directory for most operations. For example, while opening a file in any access mode Python first looks for the file in current directory if the path is not specified.\n",
        "The `os` module provides function for working with files and directories (**'os' stands for operating system.**). `os.getcwd()` returns the name of the current directory.\n",
        "```\n",
        "import os\n",
        "print(os.getcwd())\n",
        "```\n",
        "*A **relative path** starts from the current directory, where as an **absolute path** starts from the top most directory of the file system.*"
      ],
      "cell_type": "markdown",
      "metadata": {}
    },
    {
      "cell_type": "code",
      "execution_count": null,
      "metadata": {
        "tags": []
      },
      "outputs": [],
      "source": [
        "# 4.11 Relative and Absolute Paths:\n",
        "import os\n",
        "cwd = os.getcwd() # cwd stands for Current Working Directory\n",
        "print(cwd)"
      ]
    },
    {
      "cell_type": "code",
      "execution_count": null,
      "metadata": {
        "tags": []
      },
      "outputs": [],
      "source": [
        "# 4.11 Working with Relative and Absolute Paths:\n",
        "os.mkdir('data') # this will create a folder/directory in cwd\n",
        "\n",
        "#Program to write data to a file using .writelines() method\n",
        "file_handler = open('./data/alphabet.txt','w') # open file in write mode\n",
        "\n",
        "alphabet = list(map(lambda x: chr(x) + \" = \" + chr(x+32) + \"\\n\", range(65, 91)))\n",
        "#print(alphabet)\n",
        "file_handler.writelines(alphabet)\n",
        "\n",
        "file_handler.close() # this will close the file handler object.\n",
        "displayfile('./data/alphabet.txt')\n"
      ]
    },
    {
      "cell_type": "code",
      "execution_count": null,
      "metadata": {},
      "outputs": [],
      "source": [
        "# Remove directory\n",
        "os.remove('./data/alphabet.txt')\n",
        "os.rmdir('data')"
      ]
    },
    {
      "source": [
        "## 4.12: Standard File Stream\n",
        "The way a File object(s) perform a action with a data file; the standard I/O devices is also work in a similar way to perform using  Standard I/O stream object. We don not require to explicitly use I/O stream objects, as high-level function for performing input/output through keyboard/monitoring already available, such as `eval()`, `input()` and `print()` statements.\n",
        "The standard streams available in Python are:\n",
        "- **Standard Input Stream** (`sys.stdin`): When a stream reads from standard input.\n",
        "- **Standard Output Stream** (`sys.stdout`): Data written to standard output typically appears on your screen, but can be linked to another program with pipe.\n",
        "- **Standard Error Stream** (`sys.stderr`): Error messages are written to standard error."
      ],
      "cell_type": "markdown",
      "metadata": {}
    },
    {
      "cell_type": "code",
      "execution_count": null,
      "metadata": {
        "tags": []
      },
      "outputs": [],
      "source": [
        "import sys\n",
        "with open('zen.txt') as fh:\n",
        "    line = fh.readline()\n",
        "    sys.stdout.write(line)"
      ]
    },
    {
      "source": [
        "## 4.12 Accessing Specific Position of Files Using TELL() and SEEK()\n",
        "Till now we only can access a file either from start or from end. But files in Python allow specific location access using Built-in methods `seek()` and `tell()`.\n",
        "***\n",
        "- `.seek()` method : used to change the position of position of the `cursor` (file pointer) to a given special location. File pointer is work in a similar way to cursor, which define from where data has to be read or written in the file. Python file method `seek()` takes two arguments **offset and from_where**. The reference point is defined by second argument(**from where**). It can have any of the following three values-\n",
        "  - `0` : set reference point at the beginning of file (**default**).\n",
        "  - `1` : set reference point at the current position.\n",
        "  - `2` : set reference point at the end of the file.\n",
        "- **Syntax:**\n",
        "    > file_handler.seek(offset,from_where)\n",
        "- **Example:**\n",
        "  - from beginning of file, move 10 bytes forward.\n",
        "    > file_handler.seek(10)\n",
        "  - from current position, move 10 bytes backward.\n",
        "    > file_handler.seek(-10,1)\n",
        "  - from end of file, move 10 bytes backward.\n",
        "    > file_handler.seek(-10,2)\n",
        "    ### Important : `seek()` negative offset support only on the python 3.X opened in binary mode.\n",
        "\n",
        "- `.tell()` method : this method returns the current position of the file pointer `cursor` within the file.\n",
        "- **Syntax:**\n",
        "    > file_handler.tell()\n",
        "***\n"
      ],
      "cell_type": "markdown",
      "metadata": {}
    },
    {
      "cell_type": "code",
      "execution_count": null,
      "metadata": {
        "tags": []
      },
      "outputs": [],
      "source": [
        "# 4.12.1: Program to undersatnd seek and tell method\n",
        "\n",
        "file_handler = open('zen.txt','r') # change the access mode to append see what happen\n",
        "\n",
        "print(\"Current Cursor position : \",file_handler.tell())\n",
        "zen = file_handler.read() # Read all document\n",
        "print(\"Current Cursor position : \",file_handler.tell())\n",
        "file_handler.seek(0) # Move the cursor at beginning of the file\n",
        "print(\"Current Cursor position : \",file_handler.tell())\n",
        "\n",
        "print(\"---------------------------------------\")\n",
        "line = file_handler.readline()\n",
        "while line:\n",
        "    print(line.strip(),\" \",file_handler.tell())\n",
        "    line = file_handler.readline()\n",
        "#closing the file\n",
        "file_handler.close()"
      ]
    },
    {
      "source": [
        "## 4.13 Introduction to CSV\n",
        "Comma separated values (CSV) file is a simple flat in a **human readable** format which extensively used to store tabular data, in a spreadsheet or database. A CSV file stores data (text and numbers) in plain text format. Files in the CSV format can be import to and exported from various program that stores data in tabular format, like MS Excel or Open Office Calc.\n",
        "CSV uses `comma` as a delimiter to separate values stored in files. \n",
        "***\n",
        "The structure of CSV files is as follows:\n",
        "- Each line in a file is known as `data/record`.\n",
        "- Each record consists of one or more fields, separated by `commas`.\n",
        "- The tabular data stored as `text` format in a CSV file.\n",
        "***\n",
        "### Advantage of CSV:\n",
        "- Human readable and editable text format.\n",
        "- Smaller in size.\n",
        "- Faster to handle.\n",
        "- Easily import and export onto other database and spreadsheet.\n",
        "- Simple to implement and parse.\n",
        "- Widely used and processed by all most all existing applications.\n",
        "***"
      ],
      "cell_type": "markdown",
      "metadata": {}
    },
    {
      "source": [
        "## 4.14 CSV File Handling \n",
        "For working with CSV files we need to a built in python module called **CSV**. It is used to read and write tabular data in CSV format. Therefore, to perform read and write operations with CSV files, we must import **CSV Module**.The other operations with CSV files are similar to basic file operations we discussed earlier.\n",
        "\n",
        "**Syntax:**\n",
        "> import csv\n",
        "\n",
        "### 4.14.1 Reading from a CSV File\n",
        "Reading from a CSV file is done using reader object. The CSV file is  opened as a text file with Python's built-in `open()` function, which returns a file object. This is create a special type of object to access the CSV file (**reader object**), using the `reader()` method.\n",
        "\n",
        "The **reader object** is an iterable that gives us access to each line of the CSV file as a list of fields. You can also use `next()` directory on it to read the next line of the file, or you can treat it like a list in a for loop to read all lines of the file (as list of the file's fields).\n",
        "In general, the separator character is called a delimiter, and the comma is not the only one used. Other than comma, popular delimiters include the tab (\\t), colon(:) and semicolon(;) characters.\n",
        "**Syntax:**\n",
        "```\n",
        "import csv\n",
        "file_object = open(file_name,mode='r')\n",
        "csv_reader = csv.reader(file_object)\n",
        "# fie operations \n",
        "file_object.close()\n",
        "```"
      ],
      "cell_type": "markdown",
      "metadata": {}
    },
    {
      "source": [
        "# 4.14.1 Reading From CSV file\n",
        "import csv \n",
        "file_handler = open('student.csv','r')\n",
        "csv_reader = csv.reader(file_handler)\n",
        "print(\"Reader Class Type: \",type(csv_reader),\"\\n\")\n",
        "for row in csv_reader:\n",
        "    print(row,type(row))\n",
        "\n",
        "file_handler.close()"
      ],
      "cell_type": "code",
      "metadata": {},
      "execution_count": 10,
      "outputs": [
        {
          "output_type": "stream",
          "name": "stdout",
          "text": [
            "Reader Class Type:  <class '_csv.reader'> \n\n['Name', 'RollNo', 'Marks'] <class 'list'>\n['Dev', '101', '90'] <class 'list'>\n['Priya', '102', '98'] <class 'list'>\n['Trisha', '103', '76'] <class 'list'>\n['Pinaki', '104', '84'] <class 'list'>\n['Shreya', '105', '78'] <class 'list'>\n['Nisha', '106', '99'] <class 'list'>\n['Sonam', '107', '66'] <class 'list'>\n['Diya', '108', '77'] <class 'list'>\n['Mohan', '109', '88'] <class 'list'>\n"
          ]
        }
      ]
    },
    {
      "cell_type": "code",
      "execution_count": null,
      "metadata": {},
      "outputs": [],
      "source": []
    }
  ]
}