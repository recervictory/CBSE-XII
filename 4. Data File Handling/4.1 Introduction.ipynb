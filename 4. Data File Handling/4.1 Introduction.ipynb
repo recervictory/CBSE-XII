{
  "nbformat": 4,
  "nbformat_minor": 0,
  "metadata": {
    "language_info": {
      "codemirror_mode": {
        "name": "ipython",
        "version": 3
      },
      "file_extension": ".py",
      "mimetype": "text/x-python",
      "name": "python",
      "nbconvert_exporter": "python",
      "pygments_lexer": "ipython3",
      "version": "3.8.6-final"
    },
    "orig_nbformat": 2,
    "kernelspec": {
      "name": "Python 3.8.6 64-bit",
      "display_name": "Python 3.8.6 64-bit",
      "metadata": {
        "interpreter": {
          "hash": "2db524e06e9f5f4ffedc911c917cb75e12dbc923643829bf417064a77eb14d37"
        }
      }
    },
    "colab": {
      "name": "4.1 Introduction.ipynb",
      "provenance": [],
      "include_colab_link": true
    }
  },
  "cells": [
    {
      "cell_type": "markdown",
      "metadata": {
        "id": "view-in-github",
        "colab_type": "text"
      },
      "source": [
        "<a href=\"https://colab.research.google.com/github/recervictory/CBSE-XII/blob/master/4.%20Data%20File%20Handling/4.1%20Introduction.ipynb\" target=\"_parent\"><img src=\"https://colab.research.google.com/assets/colab-badge.svg\" alt=\"Open In Colab\"/></a>"
      ]
    },
    {
      "cell_type": "markdown",
      "metadata": {
        "id": "qf2fMf-sQsnY"
      },
      "source": [
        "# Chapter 4: Data File handling "
      ]
    },
    {
      "cell_type": "markdown",
      "metadata": {
        "id": "bKkavim5QsnZ"
      },
      "source": [
        "## 4.1: Introduction\n",
        "- Computer Program needs to process different types for files.\n",
        "- These files stored information or data in the permanent location in the Computer and serve different purpose in computer application\n",
        "    - For Word Processer, we use Document files(*.doc/,*.docx).\n",
        "    - Database program has its own types of file system (*.db).\n",
        "    - Complier program use source files to generate executable file.\n",
        "- Programs that are used in day-to-day business operations rely extensively on files. \n"
      ]
    },
    {
      "cell_type": "markdown",
      "metadata": {
        "id": "zxwN2U3_QsnZ"
      },
      "source": [
        "<div class=\"alert alert-block alert-info\">\n",
        "<h3>Info:</h3>\n",
        "<p style=\"color:lime; font-weight:bold\">A file in itself is a bunch of bytes stored on some storage devie like hard-disk, pen-drive. It  a document or the data stored on a permanent storage device which can be read,written or rewritten according to requirement. In other words, data is packaged up on the storagedevice as data structures called Files.</p> \n",
        "<div>"
      ]
    },
    {
      "cell_type": "markdown",
      "metadata": {
        "id": "hLCHcZDHQsna"
      },
      "source": [
        "## 4.2: Data Files\n",
        "A data files are the files that store data pretraining to a specific application, for later use. The data files can be stored in two ways :\n",
        "- Text Files\n",
        "- Binary Files\n",
        "***\n",
        "1. **Text Files**: A text files stores information in *ASCII or UniCode* characters. In the text files, each lines is terminated,(delimited) with a special characters known known as **EOF(End of Line)** character. In the text files, some internal translations take places when this EOL character is read or written. In Python, by default, this EOL character is newline character ('\\n') or carriage-return, newline combination('\\r\\n').\n",
        "2. **Binary Files**: A binary files is just that contains information in same format in which the information is held in memory. i.e., the files content that return to you is raw format (with no translations or specific encoding). In binary files, there is no delimited for lines. Also no translations occurs in binary files. As a result, binary files are faster and easier for a program to read and write in compare with a text files. As long as the people or need to be ported to different type of system, binary files are the best way to store program.\n",
        "***"
      ]
    },
    {
      "cell_type": "markdown",
      "metadata": {
        "id": "D6kENaETQsna"
      },
      "source": [
        "## 4.3 Data File Operations\n",
        "In python file data file operations a strict rule needed to be follow. **After performing desirable operation, it needs to be close so that resources that are tied with the file are freed**.\n",
        "Thus, python file handling takes place in the following order:\n",
        "\n",
        "    1. Opening a file.\n",
        "    2. Performing operation (read, write, etc.) or processing data.\n",
        "    3. Closing the File."
      ]
    },
    {
      "cell_type": "markdown",
      "metadata": {
        "id": "w5ILHFHrQsnb"
      },
      "source": [
        "## 4.4 Opening and Closing Files\n",
        "To handle data files in Python, we need to have a `file variable or file object or file handle`. Object can be created by using `open()` function and `file()` function.  To work with file we need to open it. This is done by using the build in `open()` function.\n",
        "***\n",
        "- **Opening a File -- open():** When we want to read or write from storage devices, we must first open the file. When we open a file, the file must stored on the same folder  that we are start the python. `open()` function takes the **name** of the file (i.e data.txt) as first argument. The second argument indicates the **mode of accessing** the file. This is an optional parameter the default mode is **read mode** or `\"r\"`.\n",
        "    - **Modes for Opening a File :**\n",
        "      - Read (`\"r\"`): to read file,\n",
        "      - Write(`\"w\"`): to write to the file,\n",
        "      - append(`\"a\"`): to write a file in append mode (write at the end of file)\n",
        "- **Syntax:**\n",
        "    > file_object = open(file_name,access_mode)\n",
        "- **Example:**\n",
        "    > file_handler = open(\"zen.txt\",mode=\"r\")\n",
        "***"
      ]
    },
    {
      "cell_type": "code",
      "metadata": {
        "tags": [],
        "id": "z9MgvaEoQsnc",
        "outputId": "28715aae-43a2-4ab4-819b-c4fe5de41590"
      },
      "source": [
        "file_handler = open(\"zen.txt\",mode=\"r\") # Opening a file name \"zen.txt\" in Read mode\n",
        "print(file_handler) "
      ],
      "execution_count": null,
      "outputs": [
        {
          "output_type": "stream",
          "text": [
            "<_io.TextIOWrapper name='zen.txt' mode='r' encoding='cp1252'>\n"
          ],
          "name": "stdout"
        }
      ]
    },
    {
      "cell_type": "markdown",
      "metadata": {
        "id": "j9Xj3pUfQsnf"
      },
      "source": [
        "<div class=\"alert alert-block alert-danger\">\n",
        "<h3>Important:</h3>\n",
        "<p style=\"color:tomato;font-weight:bold\">When opening a file in read, the given file name must exit in the folder, otherwise Python raise `FileNotFoundError`.</p> \n",
        "<div>"
      ]
    }
  ]
}