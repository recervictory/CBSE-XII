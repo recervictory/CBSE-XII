{
 "metadata": {
  "language_info": {
   "codemirror_mode": {
    "name": "ipython",
    "version": 3
   },
   "file_extension": ".py",
   "mimetype": "text/x-python",
   "name": "python",
   "nbconvert_exporter": "python",
   "pygments_lexer": "ipython3",
   "version": 3
  },
  "orig_nbformat": 2
 },
 "nbformat": 4,
 "nbformat_minor": 2,
 "cells": [
  {
   "source": [
    "## 4.1 : Introduction\n",
    "- Computer Program needs to process different types for files.\n",
    "- These files stored information or data in the permanent location in the Computer and serve different purpose in computer application\n",
    "    - For Word Processer, we use Document files(*.doc/,*.docx).\n",
    "    - Database program has its own types of file system (*.db).\n",
    "    - Complier program use source files to generate executable file.\n",
    "- Programs that are used in day-to-day business operations rely extensively on files. \n",
    "\n",
    "<div class=\"alert alert-block alert-warning\">\n",
    "A file in itself is a bunch of bytes stored on some storage devie like hard-disk, pen-drive. It  a document or the data stored on a permanent storage device which can be read,written or rewritten according to requirement. In other words, data is packaged up on the storagedevice as data structures called Files. \n",
    "<div>"
   ],
   "cell_type": "markdown",
   "metadata": {}
  }
 ]
}