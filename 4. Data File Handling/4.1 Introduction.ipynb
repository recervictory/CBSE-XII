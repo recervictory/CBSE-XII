{
 "metadata": {
  "language_info": {
   "codemirror_mode": {
    "name": "ipython",
    "version": 3
   },
   "file_extension": ".py",
   "mimetype": "text/x-python",
   "name": "python",
   "nbconvert_exporter": "python",
   "pygments_lexer": "ipython3",
   "version": 3
  },
  "orig_nbformat": 2
 },
 "nbformat": 4,
 "nbformat_minor": 2,
 "cells": [
  {
   "source": [
    "# 4.1 : Introduction\n",
    "- Computer Program needs to process different types for files.\n",
    "- These files stored information or data in the permanent location in the Computer and serve different purpose in computer application\n",
    "    - For Word Processer, we use Document files(*.doc/,*.docx).\n",
    "    - Database program has its own types of file system (*.db).\n",
    "    - Complier program use source files to generate executable file.\n",
    "- Programs that are used in day-to-day business operations rely extensively on files. \n",
    "\n",
    "<div class=\"alert alert-block alert-info\">\n",
    "A file in itself is a bunch of bytes stored on some storage devie like hard-disk, pen-drive. It  a document or the data stored on a permanent storage device which can be read,written or rewritten according to requirement. In other words, data is packaged up on the storagedevice as data structures called Files. \n",
    "<div>\n"
   ],
   "cell_type": "markdown",
   "metadata": {}
  },
  {
   "source": [
    "# 4.2 : Data Files\n",
    "A data files are the files that store data pretraining to a specific application, for later use. The data files can be stored in two ways :\n",
    "- Text Files\n",
    "- Binary Files\n",
    "***\n",
    "1. **Text Files**: A text files stores information in *ASCII or UniCode* characters. In the text files, each lines is terminated,(delimited) with a special characters known known as **EOF(End of Line)** character. In the text files, some internal translations take places when this EOL character is read or written. In Python, by default, this EOL character is newline character ('\\n') or carriage-return, newline combination('\\r\\n').\n",
    "2. **Binary Files**: A binary files is just that contains information in same format in which the information is held in memory. i.e., the files content that return to you is raw format (with no translations or specific encoding). In binary files, there is no delimited for lines. Also no translations occurs in binary files. As a result, binary files are faster and easier for a program to read and write in compare with a text files. As long as the people or need to be ported to different type of system, binary files are the best way to store program.\n",
    "***\n",
    "![Binary File Example](./images/binary_file.png)"
   ],
   "cell_type": "markdown",
   "metadata": {}
  },
  {
   "source": [
    "# 4.4 : File Modes in Python\n"
   ],
   "cell_type": "markdown",
   "metadata": {}
  },
  {
   "source": [
    "                                                                                                                                      |"
   ],
   "cell_type": "markdown",
   "metadata": {}
  },
  {
   "cell_type": "code",
   "execution_count": null,
   "metadata": {},
   "outputs": [],
   "source": []
  }
 ]
}