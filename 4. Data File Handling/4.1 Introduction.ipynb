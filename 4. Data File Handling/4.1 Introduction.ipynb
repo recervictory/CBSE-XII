{
  "nbformat": 4,
  "nbformat_minor": 0,
  "metadata": {
    "language_info": {
      "codemirror_mode": {
        "name": "ipython",
        "version": 3
      },
      "file_extension": ".py",
      "mimetype": "text/x-python",
      "name": "python",
      "nbconvert_exporter": "python",
      "pygments_lexer": "ipython3",
      "version": "3.7.4-final"
    },
    "orig_nbformat": 2,
    "kernelspec": {
      "name": "python_defaultSpec_1601264437842",
      "display_name": "Python 3.7.4 64-bit ('base': conda)",
      "metadata": {
        "interpreter": {
          "hash": "2db524e06e9f5f4ffedc911c917cb75e12dbc923643829bf417064a77eb14d37"
        }
      }
    },
    "colab": {
      "name": "4.1 Introduction.ipynb",
      "provenance": [],
      "include_colab_link": true
    }
  },
  "cells": [
    {
      "cell_type": "markdown",
      "metadata": {
        "id": "view-in-github",
        "colab_type": "text"
      },
      "source": [
        "<a href=\"https://colab.research.google.com/github/recervictory/CBSE-XII/blob/master/4.%20Data%20File%20Handling/4.1%20Introduction.ipynb\" target=\"_parent\"><img src=\"https://colab.research.google.com/assets/colab-badge.svg\" alt=\"Open In Colab\"/></a>"
      ]
    },
    {
      "cell_type": "markdown",
      "metadata": {
        "id": "qf2fMf-sQsnY"
      },
      "source": [
        "# Chapter 4: Data File handling "
      ]
    },
    {
      "cell_type": "markdown",
      "metadata": {
        "id": "bKkavim5QsnZ"
      },
      "source": [
        "## 4.1: Introduction\n",
        "- Computer Program needs to process different types for files.\n",
        "- These files stored information or data in the permanent location in the Computer and serve different purpose in computer application\n",
        "    - For Word Processer, we use Document files(*.doc/,*.docx).\n",
        "    - Database program has its own types of file system (*.db).\n",
        "    - Complier program use source files to generate executable file.\n",
        "- Programs that are used in day-to-day business operations rely extensively on files. \n"
      ]
    },
    {
      "cell_type": "markdown",
      "metadata": {
        "id": "zxwN2U3_QsnZ"
      },
      "source": [
        "<div class=\"alert alert-block alert-info\">\n",
        "<h3>Info:</h3>\n",
        "<p style=\"color:lime; font-weight:bold\">A file in itself is a bunch of bytes stored on some storage devie like hard-disk, pen-drive. It  a document or the data stored on a permanent storage device which can be read,written or rewritten according to requirement. In other words, data is packaged up on the storagedevice as data structures called Files.</p> \n",
        "<div>"
      ]
    },
    {
      "cell_type": "markdown",
      "metadata": {
        "id": "hLCHcZDHQsna"
      },
      "source": [
        "## 4.2: Data Files\n",
        "A data files are the files that store data pretraining to a specific application, for later use. The data files can be stored in two ways :\n",
        "- Text Files\n",
        "- Binary Files\n",
        "***\n",
        "1. **Text Files**: A text files stores information in *ASCII or UniCode* characters. In the text files, each lines is terminated,(delimited) with a special characters known known as **EOF(End of Line)** character. In the text files, some internal translations take places when this EOL character is read or written. In Python, by default, this EOL character is newline character ('\\n') or carriage-return, newline combination('\\r\\n').\n",
        "2. **Binary Files**: A binary files is just that contains information in same format in which the information is held in memory. i.e., the files content that return to you is raw format (with no translations or specific encoding). In binary files, there is no delimited for lines. Also no translations occurs in binary files. As a result, binary files are faster and easier for a program to read and write in compare with a text files. As long as the people or need to be ported to different type of system, binary files are the best way to store program.\n",
        "***"
      ]
    },
    {
      "cell_type": "markdown",
      "metadata": {
        "id": "D6kENaETQsna"
      },
      "source": [
        "## 4.3 Data File Operations\n",
        "In python file data file operations a strict rule needed to be follow. **After performing desirable operation, it needs to be close so that resources that are tied with the file are freed**.\n",
        "Thus, python file handling takes place in the following order:\n",
        "\n",
        "    1. Opening a file.\n",
        "    2. Performing operation (read, write, etc.) or processing data.\n",
        "    3. Closing the File."
      ]
    },
    {
      "cell_type": "markdown",
      "metadata": {
        "id": "w5ILHFHrQsnb"
      },
      "source": [
        "## 4.4 Opening and Closing Files\n",
        "To handle data files in Python, we need to have a `file variable or file object or file handle`. Object can be created by using `open()` function and `file()` function.  To work with file we need to open it. This is done by using the build in `open()` function.\n",
        "***\n",
        "- **Opening a File -- open():** When we want to read or write from storage devices, we must first open the file. When we open a file, the file must stored on the same folder  that we are start the python. `open()` function takes the **name** of the file (i.e data.txt) as first argument. The second argument indicates the **mode of accessing** the file. This is an optional parameter the default mode is **read mode** or `\"r\"`.\n",
        "    - **Modes for Opening a File :**\n",
        "      - Read (`\"r\"`): to read file,\n",
        "      - Write(`\"w\"`): to write to the file,\n",
        "      - append(`\"a\"`): to write a file in append mode (write at the end of file)\n",
        "- **Syntax:**\n",
        "    > file_object = open(file_name,access_mode)\n",
        "- **Example:**\n",
        "    > file_handler = open(\"zen.txt\",mode=\"r\")\n",
        "***\n",
        "\n",
        "<div class=\"alert alert-block alert-danger\">\n",
        "<h3>Important:</h3>\n",
        "<p style=\"color:tomato;font-weight:bold\">When opening a file in read, the given file name must exit in the folder, otherwise Python raise <span style=\"color:lime; font-weight:bold\">`FileNotFoundError`</span> .</p> \n",
        "<div>"
      ]
    },
    {
      "cell_type": "code",
      "metadata": {
        "tags": [],
        "id": "z9MgvaEoQsnc",
        "outputId": "28715aae-43a2-4ab4-819b-c4fe5de41590"
      },
      "source": [
        "file_handler = open(\"zen.txt\",mode=\"r\") # Opening a file name \"zen.txt\" in Read mode\n",
        "print(file_handler) "
      ],
      "execution_count": null,
      "outputs": []
    },
    {
      "source": [
        "***\n",
        "- **Closing a File -- close():** The close me method of a file object flushes any unwritten information and closes the file object, after  which no more writing can be done. Python automatically closes a file references when  the references object of a file reassigned to another file. It is good practice to use close method to close a file. A `close()` function breaks the link of the file object and on the disk. After Closing a file (using `close()`), no tasks can be performed with on that file through the file object.\n",
        "- **Syntax:**\n",
        "    > file_object.close()\n",
        "- **Example:**\n",
        "    > file_handler.close()\n",
        "***"
      ],
      "cell_type": "markdown",
      "metadata": {}
    },
    {
      "cell_type": "code",
      "execution_count": null,
      "metadata": {},
      "outputs": [],
      "source": [
        "file_handler.close() # this will close the file handler object."
      ]
    },
    {
      "source": [
        "***\n",
        "**Important properties of File Object :**\n",
        "After opening a file through the `file handler` object, various details releated to file can be retrieve using associated properties/methods.\n",
        "- `.name` : Name of the opened file.\n",
        "- `.mode` : Mode in which the file get opened.\n",
        "- `.closed` : return *Boolean value*, which indicates weather a file closed or not.\n",
        "- `.readable()` : return *Boolean value*, which indicate, weather a file is readable or not.\n",
        "***"
      ],
      "cell_type": "markdown",
      "metadata": {}
    },
    {
      "cell_type": "code",
      "execution_count": null,
      "metadata": {
        "tags": []
      },
      "outputs": [],
      "source": [
        "# Show various properties of a file\n",
        "file_handler = open('zen.txt','r')\n",
        "\n",
        "print(\"File Name :\", file_handler.name)\n",
        "print(\"File Mode :\", file_handler.mode)\n",
        "print(\"Is file Readable :\", file_handler.readable())\n",
        "print(\"Is file Closed :\", file_handler.closed)\n",
        "\n",
        "file_handler.close() # Close the file\n",
        "print(\"\\nIs file Closed :\", file_handler.closed)"
      ]
    },
    {
      "source": [
        "**Exercise 1:** *Create a python function `handlerProperties` that takes a file object and if file is not closed yet 1. print the file name, file mode and with suitable  message 2. print if file is readable  'Readable' else ' Not readable' and show  or not*.\n",
        "\n",
        "{Time: 10 min}"
      ],
      "cell_type": "markdown",
      "metadata": {}
    },
    {
      "source": [
        "# Exercise 1: \n",
        "# Create a python function handlerProperties that takes a file object\n",
        "# and print the file name, file mode and with suitable message and if file is readable \n",
        "# print 'Readable' else ' Not readable' and show if file is closed or not.\n",
        "\n",
        "file_handler = open('zen.txt','r+') # creating a file_object\n",
        "\n",
        "# Creating handlerProperties\n",
        "def handlerProperties(fh):\n",
        "    if(not fh.closed):\n",
        "        print(\"Name :\", fh.name)\n",
        "        print(\"File Mode :\", fh.mode)\n",
        "        if(fh.readable()):\n",
        "            print(\"File is Readable.\")\n",
        "        else:\n",
        "            print(\"Not Readable.\")\n",
        "    else:\n",
        "        print('**The file is Closed**')\n",
        "\n",
        "# Calling the Function\n",
        "handlerProperties(file_handler)\n",
        "\n",
        "#Closing the file:\n",
        "file_handler.close()\n",
        "\n",
        "# Calling the Function\n",
        "handlerProperties(file_handler)"
      ],
      "cell_type": "code",
      "metadata": {
        "tags": []
      },
      "execution_count": null,
      "outputs": []
    },
    {
      "source": [
        "## 4.5 Reading From a File\n",
        "Python provides various methods for reading data from files. We can read data *by character or by lines* using following `read` methods:\n",
        "***\n",
        "- `.read()` : To read the entire data from the file as string(`str`); starts reading from the `cursor` up to the **end of file** (EOF).\n",
        "- **Syntax:**\n",
        "> file_object.read()\n",
        "- `.read(n)` :To read 'n' number of characters from the file, starting from the `cursor`; if file holds fewer than 'n' characters, it will read until **end of file** (EOF).\n",
        "- **Syntax:**\n",
        "> file_object.read(n) # n must be a int type\n",
        "- `.readline()`: To read *only one line* at time from the file; starts reading from the `cursor` up to the **end of line** (EOL).\n",
        "- **Syntax:**\n",
        "> file_object.readline()\n",
        "- `.readlines()`: To read all the file into a `list`; starts reading from the `cursor` up to the end of file (EOF) and returns a list of lines.\n",
        "- **Syntax:**\n",
        "> file_object.readlines()\n",
        "***"
      ],
      "cell_type": "markdown",
      "metadata": {}
    },
    {
      "cell_type": "code",
      "execution_count": null,
      "metadata": {
        "tags": []
      },
      "outputs": [],
      "source": [
        "# Code 4.5.1 .read() method\n",
        "file_handler = open('zen.txt','r') # open file in read mode\n",
        "\n",
        "zen = file_handler.read() # Read all the data \n",
        "print(\"Data Type :\",type(zen),end=\"\\n\\n\")\n",
        "\n",
        "print(zen)\n",
        "file_handler.close() # this will close the file handler object."
      ]
    },
    {
      "cell_type": "code",
      "execution_count": null,
      "metadata": {
        "tags": []
      },
      "outputs": [],
      "source": [
        "# Code 4.5.2 .read(n) method\n",
        "file_handler = open('zen.txt','r') # open file in read mode\n",
        "zen = file_handler.read(32) # Read all the data [change the value n in the read(n)]\n",
        "print(\"Data Type :\",type(zen),end=\"\\n\\n\")\n",
        "\n",
        "print(zen)\n",
        "file_handler.close() # this will close the file handler object."
      ]
    },
    {
      "cell_type": "code",
      "execution_count": null,
      "metadata": {
        "tags": []
      },
      "outputs": [],
      "source": [
        "# Code 4.5.3 .readline() method\n",
        "file_handler = open('zen.txt','r') # open file in read mode\n",
        "zen = file_handler.readline() # Read all the data [change the value n in the read(n)]\n",
        "print(\"Data Type :\",type(zen),end=\"\\n\\n\")\n",
        "\n",
        "print(zen)\n",
        "file_handler.close() # this will close the file handler object."
      ]
    },
    {
      "source": [
        "## 4.6 Removing Whitespaces After Reading a File\n",
        "The `.read()`, `.readline()` and `.readline()` method read leading and trailing whitespaces (i.e., spaces, tabs or newline characters), to remove this whitespaces following string `.strip()` methods are used.\n",
        "- `.strip()` : removes the given character from both side.\n",
        "- `.rstrip()` : removes the given character from trailing end (i.e., right side).\n",
        "- `.lstrip()` : removes the given character from lead end (i.e., left side).\n",
        "\n",
        "<div class=\"alert alert-block alert-info\">\n",
        "<h3>Info:</h3>\n",
        "<p style=\"color:lime;\">For reading an entire file using <span style=\"color:tomato; font-weight:bold\">.readline().</span> method we have to loop over <span style=\"color:tomato; font-weight:bold\">file object</span>. This is efficient and fast way of reading file. But printing using readline causes new problem as two line break to solve this issue we use <span style=\"color:tomato; font-weight:bold\">.strip() </span> string method.</p> \n",
        "<div>"
      ],
      "cell_type": "markdown",
      "metadata": {}
    },
    {
      "source": [
        "# Code 4.5.3I .readlines() method\n",
        "file_handler = open('zen.txt','r') # open file in read mode\n",
        "for line in file_handler:\n",
        "    print(line) # Use print(line.strip()) instead of print(line) or use print(line, end=\"\")"
      ],
      "cell_type": "code",
      "metadata": {
        "tags": []
      },
      "execution_count": null,
      "outputs": []
    },
    {
      "cell_type": "code",
      "execution_count": null,
      "metadata": {
        "tags": []
      },
      "outputs": [],
      "source": [
        "# Code 4.5.4 .readlines() method\n",
        "file_handler = open('zen.txt','r') # open file in read mode\n",
        "zen = file_handler.readlines() # Read all the data [change the value n in the read(n)]\n",
        "print(\"Data Type :\",type(zen),end=\"\\n\\n\")\n",
        "\n",
        "print(zen)\n",
        "file_handler.close() # this will close the file handler object."
      ]
    },
    {
      "source": [
        "## 4.7 Writing to File\n",
        "We can write character data into a file by using following two methods:\n",
        "***\n",
        "- `.write()` : This method take `string` as parameter and writes write it in the file. To include **end of line** (EOL) character, we will have to add `\\n` character to the end of `string`. \n",
        "- **Syntax:**\n",
        "    > file_object.write(str + \"\\n\") \n",
        "\n",
        "- `.writelines()` : For writing a `string` in `list` of lines we use `.writelines()` methods; other data types like `list`,`tuple`, etc. can't be used for writing into the files. Also to be noted that `.writelines()` method does not add add any **end of line** (EOL) character, we will have to add `\\n` character to the end of `string`. \n",
        "- **Syntax:**\n",
        "    > file_object.writelines(list) \n",
        "***\n",
        "<div class=\"alert alert-block alert-danger\">\n",
        "<h3>Important:</h3>\n",
        "<p style=\"color:tomato;font-weight:bold\">Write method takes `string` as an argument, for storing a other data types like numeric values,we first need to <span style=\"color:lime; font-weight:bold\">convert it to string </span>before writing to a file.</p> \n",
        "<div>"
      ],
      "cell_type": "markdown",
      "metadata": {}
    },
    {
      "cell_type": "code",
      "execution_count": 32,
      "metadata": {},
      "outputs": [],
      "source": [
        "# 4.7.1 Program to write data to a file using .write method\n",
        "file_handler = open('poem.txt','w') # open file in write mode\n",
        "\n",
        "file_handler.write('The Road Not Taken\\n')\n",
        "file_handler.write('BY ROBERT FROST\\n')\n",
        "file_handler.write('\\n')\n",
        "file_handler.write('Two roads diverged in a yellow wood,\\n')\n",
        "file_handler.write('And sorry I could not travel both\\n')\n",
        "file_handler.write('And be one traveler, long I stood\\n')\n",
        "file_handler.write('And looked down one as far as I could\\n')\n",
        "file_handler.write('To where it bent in the undergrowth;')\n",
        "\n",
        "file_handler.close() # this will close the file handler object."
      ]
    },
    {
      "cell_type": "code",
      "execution_count": null,
      "metadata": {},
      "outputs": [],
      "source": []
    }
  ]
}