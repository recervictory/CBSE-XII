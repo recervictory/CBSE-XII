{
  "nbformat": 4,
  "nbformat_minor": 0,
  "metadata": {
    "language_info": {
      "codemirror_mode": {
        "name": "ipython",
        "version": 3
      },
      "file_extension": ".py",
      "mimetype": "text/x-python",
      "name": "python",
      "nbconvert_exporter": "python",
      "pygments_lexer": "ipython3",
      "version": "3.7.4-final"
    },
    "orig_nbformat": 2,
    "kernelspec": {
      "name": "Python 3.7.4 64-bit ('base': conda)",
      "display_name": "Python 3.7.4 64-bit ('base': conda)",
      "metadata": {
        "interpreter": {
          "hash": "7dae6437c12b1d87f00e0e10a4bd22be66a3b8ec05fb1161d95372f28c39fa9e"
        }
      }
    },
    "colab": {
      "name": "4.1 Introduction.ipynb",
      "provenance": [],
      "include_colab_link": true
    }
  },
  "cells": [
    {
      "cell_type": "markdown",
      "metadata": {
        "id": "view-in-github",
        "colab_type": "text"
      },
      "source": [
        "<a href=\"https://colab.research.google.com/github/recervictory/CBSE-XII/blob/master/4.%20Data%20File%20Handling/C0401_Data_File_Hadling-Student_Copy.ipynb\" target=\"_parent\"><img src=\"https://colab.research.google.com/assets/colab-badge.svg\" alt=\"Open In Colab\"/></a>"
      ]
    },
    {
      "cell_type": "markdown",
      "metadata": {
        "id": "dQDIzEffDV4F"
      },
      "source": [
        "# 0.0 Importing Essential Libraries [Run this part of code]"
      ]
    },
    {
      "cell_type": "code",
      "metadata": {
        "tags": [],
        "id": "CMqrwttxDV4I"
      },
      "source": [
        "\n",
        "import os\n",
        "import urllib.request as download\n",
        "\n",
        "def filexists(file_name):\n",
        "    '''Check if file exists and show file size'''\n",
        "    if(os.path.exists(file_name)):\n",
        "        print(file_name, \" already exists, [Size\", os.path.getsize(file_name),\"bytes]\")\n",
        "        return True\n",
        "    else:\n",
        "        print(file_name, \"- File Does not exist!\")\n",
        "        return False\n",
        "\n",
        "def displayfile(file_name):\n",
        "    '''Display data of a file if file exits'''\n",
        "    if(os.path.exists(file_name)):\n",
        "        fh = open(file_name,'r')\n",
        "        data = fh.read()\n",
        "        print(\"\\n\")\n",
        "        print(file_name,\" - Output: \\n\")\n",
        "        print(data)\n",
        "        fh.close\n",
        "    else:\n",
        "        print(file_name, \"- File Does not exist!\")\n",
        "\n",
        "download.urlretrieve('https://raw.githubusercontent.com/recervictory/public/master/CBSE-XII/data/zen.txt', 'zen.txt')\n",
        "\n",
        "if(filexists('zen.txt')):\n",
        "    print('**Everything Fine! System is Ready...')\n",
        "else:\n",
        "    print('Something is Wrong! Call V!')"
      ],
      "execution_count": 1,
      "outputs": [
        {
          "output_type": "error",
          "ename": "URLError",
          "evalue": "<urlopen error [Errno 11001] getaddrinfo failed>",
          "traceback": [
            "\u001b[1;31m---------------------------------------------------------------------------\u001b[0m",
            "\u001b[1;31mgaierror\u001b[0m                                  Traceback (most recent call last)",
            "\u001b[1;32m~\\Anaconda3\\lib\\urllib\\request.py\u001b[0m in \u001b[0;36mdo_open\u001b[1;34m(self, http_class, req, **http_conn_args)\u001b[0m\n\u001b[0;32m   1316\u001b[0m                 h.request(req.get_method(), req.selector, req.data, headers,\n\u001b[1;32m-> 1317\u001b[1;33m                           encode_chunked=req.has_header('Transfer-encoding'))\n\u001b[0m\u001b[0;32m   1318\u001b[0m             \u001b[1;32mexcept\u001b[0m \u001b[0mOSError\u001b[0m \u001b[1;32mas\u001b[0m \u001b[0merr\u001b[0m\u001b[1;33m:\u001b[0m \u001b[1;31m# timeout error\u001b[0m\u001b[1;33m\u001b[0m\u001b[1;33m\u001b[0m\u001b[0m\n",
            "\u001b[1;32m~\\Anaconda3\\lib\\http\\client.py\u001b[0m in \u001b[0;36mrequest\u001b[1;34m(self, method, url, body, headers, encode_chunked)\u001b[0m\n\u001b[0;32m   1243\u001b[0m         \u001b[1;34m\"\"\"Send a complete request to the server.\"\"\"\u001b[0m\u001b[1;33m\u001b[0m\u001b[1;33m\u001b[0m\u001b[0m\n\u001b[1;32m-> 1244\u001b[1;33m         \u001b[0mself\u001b[0m\u001b[1;33m.\u001b[0m\u001b[0m_send_request\u001b[0m\u001b[1;33m(\u001b[0m\u001b[0mmethod\u001b[0m\u001b[1;33m,\u001b[0m \u001b[0murl\u001b[0m\u001b[1;33m,\u001b[0m \u001b[0mbody\u001b[0m\u001b[1;33m,\u001b[0m \u001b[0mheaders\u001b[0m\u001b[1;33m,\u001b[0m \u001b[0mencode_chunked\u001b[0m\u001b[1;33m)\u001b[0m\u001b[1;33m\u001b[0m\u001b[1;33m\u001b[0m\u001b[0m\n\u001b[0m\u001b[0;32m   1245\u001b[0m \u001b[1;33m\u001b[0m\u001b[0m\n",
            "\u001b[1;32m~\\Anaconda3\\lib\\http\\client.py\u001b[0m in \u001b[0;36m_send_request\u001b[1;34m(self, method, url, body, headers, encode_chunked)\u001b[0m\n\u001b[0;32m   1289\u001b[0m             \u001b[0mbody\u001b[0m \u001b[1;33m=\u001b[0m \u001b[0m_encode\u001b[0m\u001b[1;33m(\u001b[0m\u001b[0mbody\u001b[0m\u001b[1;33m,\u001b[0m \u001b[1;34m'body'\u001b[0m\u001b[1;33m)\u001b[0m\u001b[1;33m\u001b[0m\u001b[1;33m\u001b[0m\u001b[0m\n\u001b[1;32m-> 1290\u001b[1;33m         \u001b[0mself\u001b[0m\u001b[1;33m.\u001b[0m\u001b[0mendheaders\u001b[0m\u001b[1;33m(\u001b[0m\u001b[0mbody\u001b[0m\u001b[1;33m,\u001b[0m \u001b[0mencode_chunked\u001b[0m\u001b[1;33m=\u001b[0m\u001b[0mencode_chunked\u001b[0m\u001b[1;33m)\u001b[0m\u001b[1;33m\u001b[0m\u001b[1;33m\u001b[0m\u001b[0m\n\u001b[0m\u001b[0;32m   1291\u001b[0m \u001b[1;33m\u001b[0m\u001b[0m\n",
            "\u001b[1;32m~\\Anaconda3\\lib\\http\\client.py\u001b[0m in \u001b[0;36mendheaders\u001b[1;34m(self, message_body, encode_chunked)\u001b[0m\n\u001b[0;32m   1238\u001b[0m             \u001b[1;32mraise\u001b[0m \u001b[0mCannotSendHeader\u001b[0m\u001b[1;33m(\u001b[0m\u001b[1;33m)\u001b[0m\u001b[1;33m\u001b[0m\u001b[1;33m\u001b[0m\u001b[0m\n\u001b[1;32m-> 1239\u001b[1;33m         \u001b[0mself\u001b[0m\u001b[1;33m.\u001b[0m\u001b[0m_send_output\u001b[0m\u001b[1;33m(\u001b[0m\u001b[0mmessage_body\u001b[0m\u001b[1;33m,\u001b[0m \u001b[0mencode_chunked\u001b[0m\u001b[1;33m=\u001b[0m\u001b[0mencode_chunked\u001b[0m\u001b[1;33m)\u001b[0m\u001b[1;33m\u001b[0m\u001b[1;33m\u001b[0m\u001b[0m\n\u001b[0m\u001b[0;32m   1240\u001b[0m \u001b[1;33m\u001b[0m\u001b[0m\n",
            "\u001b[1;32m~\\Anaconda3\\lib\\http\\client.py\u001b[0m in \u001b[0;36m_send_output\u001b[1;34m(self, message_body, encode_chunked)\u001b[0m\n\u001b[0;32m   1025\u001b[0m         \u001b[1;32mdel\u001b[0m \u001b[0mself\u001b[0m\u001b[1;33m.\u001b[0m\u001b[0m_buffer\u001b[0m\u001b[1;33m[\u001b[0m\u001b[1;33m:\u001b[0m\u001b[1;33m]\u001b[0m\u001b[1;33m\u001b[0m\u001b[1;33m\u001b[0m\u001b[0m\n\u001b[1;32m-> 1026\u001b[1;33m         \u001b[0mself\u001b[0m\u001b[1;33m.\u001b[0m\u001b[0msend\u001b[0m\u001b[1;33m(\u001b[0m\u001b[0mmsg\u001b[0m\u001b[1;33m)\u001b[0m\u001b[1;33m\u001b[0m\u001b[1;33m\u001b[0m\u001b[0m\n\u001b[0m\u001b[0;32m   1027\u001b[0m \u001b[1;33m\u001b[0m\u001b[0m\n",
            "\u001b[1;32m~\\Anaconda3\\lib\\http\\client.py\u001b[0m in \u001b[0;36msend\u001b[1;34m(self, data)\u001b[0m\n\u001b[0;32m    965\u001b[0m             \u001b[1;32mif\u001b[0m \u001b[0mself\u001b[0m\u001b[1;33m.\u001b[0m\u001b[0mauto_open\u001b[0m\u001b[1;33m:\u001b[0m\u001b[1;33m\u001b[0m\u001b[1;33m\u001b[0m\u001b[0m\n\u001b[1;32m--> 966\u001b[1;33m                 \u001b[0mself\u001b[0m\u001b[1;33m.\u001b[0m\u001b[0mconnect\u001b[0m\u001b[1;33m(\u001b[0m\u001b[1;33m)\u001b[0m\u001b[1;33m\u001b[0m\u001b[1;33m\u001b[0m\u001b[0m\n\u001b[0m\u001b[0;32m    967\u001b[0m             \u001b[1;32melse\u001b[0m\u001b[1;33m:\u001b[0m\u001b[1;33m\u001b[0m\u001b[1;33m\u001b[0m\u001b[0m\n",
            "\u001b[1;32m~\\Anaconda3\\lib\\http\\client.py\u001b[0m in \u001b[0;36mconnect\u001b[1;34m(self)\u001b[0m\n\u001b[0;32m   1405\u001b[0m \u001b[1;33m\u001b[0m\u001b[0m\n\u001b[1;32m-> 1406\u001b[1;33m             \u001b[0msuper\u001b[0m\u001b[1;33m(\u001b[0m\u001b[1;33m)\u001b[0m\u001b[1;33m.\u001b[0m\u001b[0mconnect\u001b[0m\u001b[1;33m(\u001b[0m\u001b[1;33m)\u001b[0m\u001b[1;33m\u001b[0m\u001b[1;33m\u001b[0m\u001b[0m\n\u001b[0m\u001b[0;32m   1407\u001b[0m \u001b[1;33m\u001b[0m\u001b[0m\n",
            "\u001b[1;32m~\\Anaconda3\\lib\\http\\client.py\u001b[0m in \u001b[0;36mconnect\u001b[1;34m(self)\u001b[0m\n\u001b[0;32m    937\u001b[0m         self.sock = self._create_connection(\n\u001b[1;32m--> 938\u001b[1;33m             (self.host,self.port), self.timeout, self.source_address)\n\u001b[0m\u001b[0;32m    939\u001b[0m         \u001b[0mself\u001b[0m\u001b[1;33m.\u001b[0m\u001b[0msock\u001b[0m\u001b[1;33m.\u001b[0m\u001b[0msetsockopt\u001b[0m\u001b[1;33m(\u001b[0m\u001b[0msocket\u001b[0m\u001b[1;33m.\u001b[0m\u001b[0mIPPROTO_TCP\u001b[0m\u001b[1;33m,\u001b[0m \u001b[0msocket\u001b[0m\u001b[1;33m.\u001b[0m\u001b[0mTCP_NODELAY\u001b[0m\u001b[1;33m,\u001b[0m \u001b[1;36m1\u001b[0m\u001b[1;33m)\u001b[0m\u001b[1;33m\u001b[0m\u001b[1;33m\u001b[0m\u001b[0m\n",
            "\u001b[1;32m~\\Anaconda3\\lib\\socket.py\u001b[0m in \u001b[0;36mcreate_connection\u001b[1;34m(address, timeout, source_address)\u001b[0m\n\u001b[0;32m    706\u001b[0m     \u001b[0merr\u001b[0m \u001b[1;33m=\u001b[0m \u001b[1;32mNone\u001b[0m\u001b[1;33m\u001b[0m\u001b[1;33m\u001b[0m\u001b[0m\n\u001b[1;32m--> 707\u001b[1;33m     \u001b[1;32mfor\u001b[0m \u001b[0mres\u001b[0m \u001b[1;32min\u001b[0m \u001b[0mgetaddrinfo\u001b[0m\u001b[1;33m(\u001b[0m\u001b[0mhost\u001b[0m\u001b[1;33m,\u001b[0m \u001b[0mport\u001b[0m\u001b[1;33m,\u001b[0m \u001b[1;36m0\u001b[0m\u001b[1;33m,\u001b[0m \u001b[0mSOCK_STREAM\u001b[0m\u001b[1;33m)\u001b[0m\u001b[1;33m:\u001b[0m\u001b[1;33m\u001b[0m\u001b[1;33m\u001b[0m\u001b[0m\n\u001b[0m\u001b[0;32m    708\u001b[0m         \u001b[0maf\u001b[0m\u001b[1;33m,\u001b[0m \u001b[0msocktype\u001b[0m\u001b[1;33m,\u001b[0m \u001b[0mproto\u001b[0m\u001b[1;33m,\u001b[0m \u001b[0mcanonname\u001b[0m\u001b[1;33m,\u001b[0m \u001b[0msa\u001b[0m \u001b[1;33m=\u001b[0m \u001b[0mres\u001b[0m\u001b[1;33m\u001b[0m\u001b[1;33m\u001b[0m\u001b[0m\n",
            "\u001b[1;32m~\\Anaconda3\\lib\\socket.py\u001b[0m in \u001b[0;36mgetaddrinfo\u001b[1;34m(host, port, family, type, proto, flags)\u001b[0m\n\u001b[0;32m    747\u001b[0m     \u001b[0maddrlist\u001b[0m \u001b[1;33m=\u001b[0m \u001b[1;33m[\u001b[0m\u001b[1;33m]\u001b[0m\u001b[1;33m\u001b[0m\u001b[1;33m\u001b[0m\u001b[0m\n\u001b[1;32m--> 748\u001b[1;33m     \u001b[1;32mfor\u001b[0m \u001b[0mres\u001b[0m \u001b[1;32min\u001b[0m \u001b[0m_socket\u001b[0m\u001b[1;33m.\u001b[0m\u001b[0mgetaddrinfo\u001b[0m\u001b[1;33m(\u001b[0m\u001b[0mhost\u001b[0m\u001b[1;33m,\u001b[0m \u001b[0mport\u001b[0m\u001b[1;33m,\u001b[0m \u001b[0mfamily\u001b[0m\u001b[1;33m,\u001b[0m \u001b[0mtype\u001b[0m\u001b[1;33m,\u001b[0m \u001b[0mproto\u001b[0m\u001b[1;33m,\u001b[0m \u001b[0mflags\u001b[0m\u001b[1;33m)\u001b[0m\u001b[1;33m:\u001b[0m\u001b[1;33m\u001b[0m\u001b[1;33m\u001b[0m\u001b[0m\n\u001b[0m\u001b[0;32m    749\u001b[0m         \u001b[0maf\u001b[0m\u001b[1;33m,\u001b[0m \u001b[0msocktype\u001b[0m\u001b[1;33m,\u001b[0m \u001b[0mproto\u001b[0m\u001b[1;33m,\u001b[0m \u001b[0mcanonname\u001b[0m\u001b[1;33m,\u001b[0m \u001b[0msa\u001b[0m \u001b[1;33m=\u001b[0m \u001b[0mres\u001b[0m\u001b[1;33m\u001b[0m\u001b[1;33m\u001b[0m\u001b[0m\n",
            "\u001b[1;31mgaierror\u001b[0m: [Errno 11001] getaddrinfo failed",
            "\nDuring handling of the above exception, another exception occurred:\n",
            "\u001b[1;31mURLError\u001b[0m                                  Traceback (most recent call last)",
            "\u001b[1;32m<ipython-input-1-f9f0b4a861a5>\u001b[0m in \u001b[0;36m<module>\u001b[1;34m\u001b[0m\n\u001b[0;32m     23\u001b[0m         \u001b[0mprint\u001b[0m\u001b[1;33m(\u001b[0m\u001b[0mfile_name\u001b[0m\u001b[1;33m,\u001b[0m \u001b[1;34m\"- File Does not exist!\"\u001b[0m\u001b[1;33m)\u001b[0m\u001b[1;33m\u001b[0m\u001b[1;33m\u001b[0m\u001b[0m\n\u001b[0;32m     24\u001b[0m \u001b[1;33m\u001b[0m\u001b[0m\n\u001b[1;32m---> 25\u001b[1;33m \u001b[0mdownload\u001b[0m\u001b[1;33m.\u001b[0m\u001b[0murlretrieve\u001b[0m\u001b[1;33m(\u001b[0m\u001b[1;34m'https://raw.githubusercontent.com/recervictory/public/master/CBSE-XII/data/zen.txt'\u001b[0m\u001b[1;33m,\u001b[0m \u001b[1;34m'zen.txt'\u001b[0m\u001b[1;33m)\u001b[0m\u001b[1;33m\u001b[0m\u001b[1;33m\u001b[0m\u001b[0m\n\u001b[0m\u001b[0;32m     26\u001b[0m \u001b[1;33m\u001b[0m\u001b[0m\n\u001b[0;32m     27\u001b[0m \u001b[1;32mif\u001b[0m\u001b[1;33m(\u001b[0m\u001b[0mfilexists\u001b[0m\u001b[1;33m(\u001b[0m\u001b[1;34m'zen.txt'\u001b[0m\u001b[1;33m)\u001b[0m\u001b[1;33m)\u001b[0m\u001b[1;33m:\u001b[0m\u001b[1;33m\u001b[0m\u001b[1;33m\u001b[0m\u001b[0m\n",
            "\u001b[1;32m~\\Anaconda3\\lib\\urllib\\request.py\u001b[0m in \u001b[0;36murlretrieve\u001b[1;34m(url, filename, reporthook, data)\u001b[0m\n\u001b[0;32m    245\u001b[0m     \u001b[0murl_type\u001b[0m\u001b[1;33m,\u001b[0m \u001b[0mpath\u001b[0m \u001b[1;33m=\u001b[0m \u001b[0msplittype\u001b[0m\u001b[1;33m(\u001b[0m\u001b[0murl\u001b[0m\u001b[1;33m)\u001b[0m\u001b[1;33m\u001b[0m\u001b[1;33m\u001b[0m\u001b[0m\n\u001b[0;32m    246\u001b[0m \u001b[1;33m\u001b[0m\u001b[0m\n\u001b[1;32m--> 247\u001b[1;33m     \u001b[1;32mwith\u001b[0m \u001b[0mcontextlib\u001b[0m\u001b[1;33m.\u001b[0m\u001b[0mclosing\u001b[0m\u001b[1;33m(\u001b[0m\u001b[0murlopen\u001b[0m\u001b[1;33m(\u001b[0m\u001b[0murl\u001b[0m\u001b[1;33m,\u001b[0m \u001b[0mdata\u001b[0m\u001b[1;33m)\u001b[0m\u001b[1;33m)\u001b[0m \u001b[1;32mas\u001b[0m \u001b[0mfp\u001b[0m\u001b[1;33m:\u001b[0m\u001b[1;33m\u001b[0m\u001b[1;33m\u001b[0m\u001b[0m\n\u001b[0m\u001b[0;32m    248\u001b[0m         \u001b[0mheaders\u001b[0m \u001b[1;33m=\u001b[0m \u001b[0mfp\u001b[0m\u001b[1;33m.\u001b[0m\u001b[0minfo\u001b[0m\u001b[1;33m(\u001b[0m\u001b[1;33m)\u001b[0m\u001b[1;33m\u001b[0m\u001b[1;33m\u001b[0m\u001b[0m\n\u001b[0;32m    249\u001b[0m \u001b[1;33m\u001b[0m\u001b[0m\n",
            "\u001b[1;32m~\\Anaconda3\\lib\\urllib\\request.py\u001b[0m in \u001b[0;36murlopen\u001b[1;34m(url, data, timeout, cafile, capath, cadefault, context)\u001b[0m\n\u001b[0;32m    220\u001b[0m     \u001b[1;32melse\u001b[0m\u001b[1;33m:\u001b[0m\u001b[1;33m\u001b[0m\u001b[1;33m\u001b[0m\u001b[0m\n\u001b[0;32m    221\u001b[0m         \u001b[0mopener\u001b[0m \u001b[1;33m=\u001b[0m \u001b[0m_opener\u001b[0m\u001b[1;33m\u001b[0m\u001b[1;33m\u001b[0m\u001b[0m\n\u001b[1;32m--> 222\u001b[1;33m     \u001b[1;32mreturn\u001b[0m \u001b[0mopener\u001b[0m\u001b[1;33m.\u001b[0m\u001b[0mopen\u001b[0m\u001b[1;33m(\u001b[0m\u001b[0murl\u001b[0m\u001b[1;33m,\u001b[0m \u001b[0mdata\u001b[0m\u001b[1;33m,\u001b[0m \u001b[0mtimeout\u001b[0m\u001b[1;33m)\u001b[0m\u001b[1;33m\u001b[0m\u001b[1;33m\u001b[0m\u001b[0m\n\u001b[0m\u001b[0;32m    223\u001b[0m \u001b[1;33m\u001b[0m\u001b[0m\n\u001b[0;32m    224\u001b[0m \u001b[1;32mdef\u001b[0m \u001b[0minstall_opener\u001b[0m\u001b[1;33m(\u001b[0m\u001b[0mopener\u001b[0m\u001b[1;33m)\u001b[0m\u001b[1;33m:\u001b[0m\u001b[1;33m\u001b[0m\u001b[1;33m\u001b[0m\u001b[0m\n",
            "\u001b[1;32m~\\Anaconda3\\lib\\urllib\\request.py\u001b[0m in \u001b[0;36mopen\u001b[1;34m(self, fullurl, data, timeout)\u001b[0m\n\u001b[0;32m    523\u001b[0m             \u001b[0mreq\u001b[0m \u001b[1;33m=\u001b[0m \u001b[0mmeth\u001b[0m\u001b[1;33m(\u001b[0m\u001b[0mreq\u001b[0m\u001b[1;33m)\u001b[0m\u001b[1;33m\u001b[0m\u001b[1;33m\u001b[0m\u001b[0m\n\u001b[0;32m    524\u001b[0m \u001b[1;33m\u001b[0m\u001b[0m\n\u001b[1;32m--> 525\u001b[1;33m         \u001b[0mresponse\u001b[0m \u001b[1;33m=\u001b[0m \u001b[0mself\u001b[0m\u001b[1;33m.\u001b[0m\u001b[0m_open\u001b[0m\u001b[1;33m(\u001b[0m\u001b[0mreq\u001b[0m\u001b[1;33m,\u001b[0m \u001b[0mdata\u001b[0m\u001b[1;33m)\u001b[0m\u001b[1;33m\u001b[0m\u001b[1;33m\u001b[0m\u001b[0m\n\u001b[0m\u001b[0;32m    526\u001b[0m \u001b[1;33m\u001b[0m\u001b[0m\n\u001b[0;32m    527\u001b[0m         \u001b[1;31m# post-process response\u001b[0m\u001b[1;33m\u001b[0m\u001b[1;33m\u001b[0m\u001b[1;33m\u001b[0m\u001b[0m\n",
            "\u001b[1;32m~\\Anaconda3\\lib\\urllib\\request.py\u001b[0m in \u001b[0;36m_open\u001b[1;34m(self, req, data)\u001b[0m\n\u001b[0;32m    541\u001b[0m         \u001b[0mprotocol\u001b[0m \u001b[1;33m=\u001b[0m \u001b[0mreq\u001b[0m\u001b[1;33m.\u001b[0m\u001b[0mtype\u001b[0m\u001b[1;33m\u001b[0m\u001b[1;33m\u001b[0m\u001b[0m\n\u001b[0;32m    542\u001b[0m         result = self._call_chain(self.handle_open, protocol, protocol +\n\u001b[1;32m--> 543\u001b[1;33m                                   '_open', req)\n\u001b[0m\u001b[0;32m    544\u001b[0m         \u001b[1;32mif\u001b[0m \u001b[0mresult\u001b[0m\u001b[1;33m:\u001b[0m\u001b[1;33m\u001b[0m\u001b[1;33m\u001b[0m\u001b[0m\n\u001b[0;32m    545\u001b[0m             \u001b[1;32mreturn\u001b[0m \u001b[0mresult\u001b[0m\u001b[1;33m\u001b[0m\u001b[1;33m\u001b[0m\u001b[0m\n",
            "\u001b[1;32m~\\Anaconda3\\lib\\urllib\\request.py\u001b[0m in \u001b[0;36m_call_chain\u001b[1;34m(self, chain, kind, meth_name, *args)\u001b[0m\n\u001b[0;32m    501\u001b[0m         \u001b[1;32mfor\u001b[0m \u001b[0mhandler\u001b[0m \u001b[1;32min\u001b[0m \u001b[0mhandlers\u001b[0m\u001b[1;33m:\u001b[0m\u001b[1;33m\u001b[0m\u001b[1;33m\u001b[0m\u001b[0m\n\u001b[0;32m    502\u001b[0m             \u001b[0mfunc\u001b[0m \u001b[1;33m=\u001b[0m \u001b[0mgetattr\u001b[0m\u001b[1;33m(\u001b[0m\u001b[0mhandler\u001b[0m\u001b[1;33m,\u001b[0m \u001b[0mmeth_name\u001b[0m\u001b[1;33m)\u001b[0m\u001b[1;33m\u001b[0m\u001b[1;33m\u001b[0m\u001b[0m\n\u001b[1;32m--> 503\u001b[1;33m             \u001b[0mresult\u001b[0m \u001b[1;33m=\u001b[0m \u001b[0mfunc\u001b[0m\u001b[1;33m(\u001b[0m\u001b[1;33m*\u001b[0m\u001b[0margs\u001b[0m\u001b[1;33m)\u001b[0m\u001b[1;33m\u001b[0m\u001b[1;33m\u001b[0m\u001b[0m\n\u001b[0m\u001b[0;32m    504\u001b[0m             \u001b[1;32mif\u001b[0m \u001b[0mresult\u001b[0m \u001b[1;32mis\u001b[0m \u001b[1;32mnot\u001b[0m \u001b[1;32mNone\u001b[0m\u001b[1;33m:\u001b[0m\u001b[1;33m\u001b[0m\u001b[1;33m\u001b[0m\u001b[0m\n\u001b[0;32m    505\u001b[0m                 \u001b[1;32mreturn\u001b[0m \u001b[0mresult\u001b[0m\u001b[1;33m\u001b[0m\u001b[1;33m\u001b[0m\u001b[0m\n",
            "\u001b[1;32m~\\Anaconda3\\lib\\urllib\\request.py\u001b[0m in \u001b[0;36mhttps_open\u001b[1;34m(self, req)\u001b[0m\n\u001b[0;32m   1358\u001b[0m         \u001b[1;32mdef\u001b[0m \u001b[0mhttps_open\u001b[0m\u001b[1;33m(\u001b[0m\u001b[0mself\u001b[0m\u001b[1;33m,\u001b[0m \u001b[0mreq\u001b[0m\u001b[1;33m)\u001b[0m\u001b[1;33m:\u001b[0m\u001b[1;33m\u001b[0m\u001b[1;33m\u001b[0m\u001b[0m\n\u001b[0;32m   1359\u001b[0m             return self.do_open(http.client.HTTPSConnection, req,\n\u001b[1;32m-> 1360\u001b[1;33m                 context=self._context, check_hostname=self._check_hostname)\n\u001b[0m\u001b[0;32m   1361\u001b[0m \u001b[1;33m\u001b[0m\u001b[0m\n\u001b[0;32m   1362\u001b[0m         \u001b[0mhttps_request\u001b[0m \u001b[1;33m=\u001b[0m \u001b[0mAbstractHTTPHandler\u001b[0m\u001b[1;33m.\u001b[0m\u001b[0mdo_request_\u001b[0m\u001b[1;33m\u001b[0m\u001b[1;33m\u001b[0m\u001b[0m\n",
            "\u001b[1;32m~\\Anaconda3\\lib\\urllib\\request.py\u001b[0m in \u001b[0;36mdo_open\u001b[1;34m(self, http_class, req, **http_conn_args)\u001b[0m\n\u001b[0;32m   1317\u001b[0m                           encode_chunked=req.has_header('Transfer-encoding'))\n\u001b[0;32m   1318\u001b[0m             \u001b[1;32mexcept\u001b[0m \u001b[0mOSError\u001b[0m \u001b[1;32mas\u001b[0m \u001b[0merr\u001b[0m\u001b[1;33m:\u001b[0m \u001b[1;31m# timeout error\u001b[0m\u001b[1;33m\u001b[0m\u001b[1;33m\u001b[0m\u001b[0m\n\u001b[1;32m-> 1319\u001b[1;33m                 \u001b[1;32mraise\u001b[0m \u001b[0mURLError\u001b[0m\u001b[1;33m(\u001b[0m\u001b[0merr\u001b[0m\u001b[1;33m)\u001b[0m\u001b[1;33m\u001b[0m\u001b[1;33m\u001b[0m\u001b[0m\n\u001b[0m\u001b[0;32m   1320\u001b[0m             \u001b[0mr\u001b[0m \u001b[1;33m=\u001b[0m \u001b[0mh\u001b[0m\u001b[1;33m.\u001b[0m\u001b[0mgetresponse\u001b[0m\u001b[1;33m(\u001b[0m\u001b[1;33m)\u001b[0m\u001b[1;33m\u001b[0m\u001b[1;33m\u001b[0m\u001b[0m\n\u001b[0;32m   1321\u001b[0m         \u001b[1;32mexcept\u001b[0m\u001b[1;33m:\u001b[0m\u001b[1;33m\u001b[0m\u001b[1;33m\u001b[0m\u001b[0m\n",
            "\u001b[1;31mURLError\u001b[0m: <urlopen error [Errno 11001] getaddrinfo failed>"
          ]
        }
      ]
    },
    {
      "cell_type": "markdown",
      "metadata": {
        "id": "qf2fMf-sQsnY"
      },
      "source": [
        "# Chapter 4: Data File handling \n",
        "![Enigma Machine](https://raw.githubusercontent.com/recervictory/public/master/CBSE-XII/images/0401_enigmaMachine.jpg)"
      ]
    },
    {
      "cell_type": "markdown",
      "metadata": {
        "id": "bKkavim5QsnZ"
      },
      "source": [
        "## 4.1: Introduction\n",
        "- Computer Program needs to process different types for files.\n",
        "- These files stored information or data in the permanent location in the Computer and serve different purpose in computer application\n",
        "    - For Word Processer, we use Document files(*.doc/,*.docx).\n",
        "    - Database program has its own types of file system (*.db).\n",
        "    - Complier program use source files to generate executable file.\n",
        "- Programs that are used in day-to-day business operations rely extensively on files. \n"
      ]
    },
    {
      "cell_type": "markdown",
      "metadata": {
        "id": "zxwN2U3_QsnZ"
      },
      "source": [
        "<div class=\"alert alert-block alert-info\">\n",
        "<h3>Info:</h3>\n",
        "<p style=\"color:lime; font-weight:bold\">A file in itself is a bunch of bytes stored on some storage devie like hard-disk, pen-drive. It  a document or the data stored on a permanent storage device which can be read,written or rewritten according to requirement. In other words, data is packaged up on the storagedevice as data structures called Files.</p> \n",
        "<div>"
      ]
    },
    {
      "cell_type": "markdown",
      "metadata": {
        "id": "hLCHcZDHQsna"
      },
      "source": [
        "## 4.2: Data Files\n",
        "A data files are the files that store data pretraining to a specific application, for later use. The data files can be stored in two ways :\n",
        "- Text Files\n",
        "- Binary Files\n",
        "***\n",
        "1. **Text Files**: A text files stores information in *ASCII or UniCode* characters. In the text files, each lines is terminated,(delimited) with a special characters known known as **EOF(End of Line)** character. In the text files, some internal translations take places when this EOL character is read or written. In Python, by default, this EOL character is newline character ('\\n') or carriage-return, newline combination('\\r\\n').\n",
        "2. **Binary Files**: A binary files is just that contains information in same format in which the information is held in memory. i.e., the files content that return to you is raw format (with no translations or specific encoding). In binary files, there is no delimited for lines. Also no translations occurs in binary files. As a result, binary files are faster and easier for a program to read and write in compare with a text files. As long as the people or need to be ported to different type of system, binary files are the best way to store program.\n",
        "\n",
        "    ![Binary File Example](https://raw.githubusercontent.com/recervictory/public/master/CBSE-XII/images/0402_binary_file.png)\n",
        "***"
      ]
    },
    {
      "cell_type": "markdown",
      "metadata": {
        "id": "D6kENaETQsna"
      },
      "source": [
        "## 4.3 Data File Operations\n",
        "In python file data file operations a strict rule needed to be follow. **After performing desirable operation, it needs to be close so that resources that are tied with the file are freed**.\n",
        "Thus, python file handling takes place in the following order:\n",
        "\n",
        "    1. Opening a file.\n",
        "    2. Performing operation (read, write, etc.) or processing data.\n",
        "    3. Closing the File."
      ]
    },
    {
      "cell_type": "markdown",
      "metadata": {
        "id": "w5ILHFHrQsnb"
      },
      "source": [
        "## 4.4 Opening and Closing Files\n",
        "To handle data files in Python, we need to have a `file variable or file object or file handle`. Object can be created by using `open()` function and `file()` function.  To work with file we need to open it. This is done by using the build in `open()` function.\n",
        "***\n",
        "- **Opening a File -- open():** When we want to read or write from storage devices, we must first open the file. When we open a file, the file must stored on the same folder  that we are start the python. `open()` function takes the **name** of the file (i.e data.txt) as first argument. The second argument indicates the **mode of accessing** the file. This is an optional parameter the default mode is **read mode** or `\"r\"`.\n",
        "    - **Modes for Opening a File :**\n",
        "      - Read (`\"r\"`): to read file,\n",
        "      - Write(`\"w\"`): to write to the file,\n",
        "      - append(`\"a\"`): to write a file in append mode (write at the end of file)\n",
        "\n",
        "    ![File Modes](https://raw.githubusercontent.com/recervictory/public/master/CBSE-XII/images/0403_fileModesPython.png)\n",
        "- **Syntax:**\n",
        "    > file_object = open(file_name,access_mode)\n",
        "- **Example:**\n",
        "    > file_handler = open(\"zen.txt\",mode=\"r\")\n",
        "***\n",
        "\n",
        "<div class=\"alert alert-block alert-danger\">\n",
        "<h3>Important:</h3>\n",
        "<p style=\"color:tomato;font-weight:bold\">When opening a file in read, the given file name must exit in the folder, otherwise Python raise <span style=\"color:lime; font-weight:bold\">`FileNotFoundError`</span> .</p> \n",
        "<div>"
      ]
    },
    {
      "cell_type": "code",
      "metadata": {
        "tags": [],
        "id": "z9MgvaEoQsnc"
      },
      "source": [
        "file_handler = open(\"zen.txt\",mode=\"r\") # Opening a file name \"zen.txt\" in Read mode\n",
        "print(file_handler) "
      ],
      "execution_count": null,
      "outputs": []
    },
    {
      "cell_type": "markdown",
      "metadata": {
        "id": "zDM7_On5DV4Z"
      },
      "source": [
        "***\n",
        "- **Closing a File -- close():** The close me method of a file object flushes any unwritten information and closes the file object, after  which no more writing can be done. Python automatically closes a file references when  the references object of a file reassigned to another file. It is good practice to use close method to close a file. A `close()` function breaks the link of the file object and on the disk. After Closing a file (using `close()`), no tasks can be performed with on that file through the file object.\n",
        "- **Syntax:**\n",
        "    > file_object.close()\n",
        "- **Example:**\n",
        "    > file_handler.close()\n",
        "***"
      ]
    },
    {
      "cell_type": "code",
      "metadata": {
        "id": "pjSIPWuMDV4a"
      },
      "source": [
        "file_handler.close() # this will close the file handler object."
      ],
      "execution_count": null,
      "outputs": []
    },
    {
      "cell_type": "markdown",
      "metadata": {
        "id": "jlLU5xnVDV4e"
      },
      "source": [
        "***\n",
        "**Important properties of File Object :**\n",
        "After opening a file through the `file handler` object, various details releated to file can be retrieve using associated properties/methods.\n",
        "- `.name` : Name of the opened file.\n",
        "- `.mode` : Mode in which the file get opened.\n",
        "- `.closed` : return *Boolean value*, which indicates weather a file closed or not.\n",
        "- `.readable()` : return *Boolean value*, which indicate, weather a file is readable or not.\n",
        "***"
      ]
    },
    {
      "cell_type": "code",
      "metadata": {
        "tags": [],
        "id": "jWL9_mnYDV4f"
      },
      "source": [
        "# Show various properties of a file\n",
        "file_handler = open('zen.txt','r')\n",
        "\n",
        "print(\"File Name :\", file_handler.name)\n",
        "print(\"File Mode :\", file_handler.mode)\n",
        "print(\"Is file Readable :\", file_handler.readable())\n",
        "print(\"Is file Closed :\", file_handler.closed)\n",
        "\n",
        "file_handler.close() # Close the file\n",
        "print(\"\\nIs file Closed :\", file_handler.closed)"
      ],
      "execution_count": null,
      "outputs": []
    },
    {
      "cell_type": "markdown",
      "metadata": {
        "id": "twz8WVP_DV4k"
      },
      "source": [
        "### **Exercise 1:** *Create a python function `handlerProperties` that takes a file object and if file is not closed yet 1. print the file name, file mode and with suitable  message 2. print if file is readable  'Readable' else ' Not readable' and show  or not*.\n",
        "\n",
        "{Time: 10 min}"
      ]
    },
    {
      "cell_type": "code",
      "metadata": {
        "tags": [],
        "id": "ShWzkVfSDV4l"
      },
      "source": [
        "# Exercise 1: \n",
        "## Your Excercise code should be here\n"
      ],
      "execution_count": null,
      "outputs": []
    },
    {
      "cell_type": "code",
      "metadata": {
        "id": "nY6HwtepDV4r"
      },
      "source": [
        "# ----> Do not change Anything\n",
        "\n",
        "file_handler = open('zen.txt','r+') # creating a file_object\n",
        "# Calling the Function\n",
        "handlerProperties(file_handler)\n",
        "\n",
        "#Closing the file:\n",
        "file_handler.close()\n",
        "\n",
        "# Calling the Function\n",
        "handlerProperties(file_handler)"
      ],
      "execution_count": null,
      "outputs": []
    },
    {
      "cell_type": "markdown",
      "metadata": {
        "id": "1gCUXJkcDV4w"
      },
      "source": [
        "## 4.5 Reading From a File\n",
        "Python provides various methods for reading data from files. We can read data *by character or by lines* using following `read` methods:\n",
        "***\n",
        "- `.read()` : To read the entire data from the file as string(`str`); starts reading from the `cursor` up to the **end of file** (EOF).\n",
        "- **Syntax:**\n",
        "> file_object.read()\n",
        "- `.read(n)` :To read 'n' number of characters from the file, starting from the `cursor`; if file holds fewer than 'n' characters, it will read until **end of file** (EOF).\n",
        "- **Syntax:**\n",
        "> file_object.read(n) # n must be a int type\n",
        "- `.readline()`: To read *only one line* at time from the file; starts reading from the `cursor` up to the **end of line** (EOL).\n",
        "- **Syntax:**\n",
        "> file_object.readline()\n",
        "- `.readlines()`: To read all the file into a `list`; starts reading from the `cursor` up to the end of file (EOF) and returns a list of lines.\n",
        "- **Syntax:**\n",
        "> file_object.readlines()\n",
        "***"
      ]
    },
    {
      "cell_type": "code",
      "metadata": {
        "tags": [],
        "id": "Ekzqka0-DV4x"
      },
      "source": [
        "# Code 4.5.1 .read() method\n",
        "file_handler = open('zen.txt','r') # open file in read mode\n",
        "\n",
        "zen = file_handler.read() # Read all the data \n",
        "print(\"Data Type :\",type(zen),end=\"\\n\\n\")\n",
        "\n",
        "print(zen)\n",
        "file_handler.close() # this will close the file handler object."
      ],
      "execution_count": 2,
      "outputs": [
        {
          "output_type": "stream",
          "name": "stdout",
          "text": [
            "Data Type : <class 'str'>\n\nThe Zen of Python, by Tim Peters\n\nBeautiful is better than ugly.\nExplicit is better than implicit.\nSimple is better than complex.\nComplex is better than complicated.\nFlat is better than nested.\nSparse is better than dense.\nReadability counts.\nSpecial cases aren't special enough to break the rules.\nAlthough practicality beats purity.\nErrors should never pass silently.\nUnless explicitly silenced.\nIn the face of ambiguity, refuse the temptation to guess.\nThere should be one-- and preferably only one --obvious way to do it.\nAlthough that way may not be obvious at first unless you're Dutch.\nNow is better than never.\nAlthough never is often better than *right* now.\nIf the implementation is hard to explain, it's a bad idea.\nIf the implementation is easy to explain, it may be a good idea.\nNamespaces are one honking great idea -- let's do more of those!\n"
          ]
        }
      ]
    },
    {
      "cell_type": "code",
      "metadata": {
        "tags": [],
        "id": "h_IW6DM9DV41"
      },
      "source": [
        "# Code 4.5.2 .read(n) method\n",
        "file_handler = open('zen.txt','r') # open file in read mode\n",
        "zen = file_handler.read(32) # Read all the data [change the value n in the read(n)]\n",
        "print(\"Data Type :\",type(zen),end=\"\\n\\n\")\n",
        "\n",
        "print(zen)\n",
        "file_handler.close() # this will close the file handler object."
      ],
      "execution_count": 3,
      "outputs": [
        {
          "output_type": "stream",
          "name": "stdout",
          "text": [
            "Data Type : <class 'str'>\n\nThe Zen of Python, by Tim Peters\n"
          ]
        }
      ]
    },
    {
      "cell_type": "code",
      "metadata": {
        "tags": [],
        "id": "hdUuZUTRDV45"
      },
      "source": [
        "# Code 4.5.3 .readline() method\n",
        "file_handler = open('zen.txt','r') # open file in read mode\n",
        "zen = file_handler.readline() # Read all the data [change the value n in the read(n)]\n",
        "print(\"Data Type :\",type(zen),end=\"\\n\\n\")\n",
        "\n",
        "print(zen)\n",
        "file_handler.close() # this will close the file handler object."
      ],
      "execution_count": 4,
      "outputs": [
        {
          "output_type": "stream",
          "name": "stdout",
          "text": [
            "Data Type : <class 'str'>\n\nThe Zen of Python, by Tim Peters\n\n"
          ]
        }
      ]
    },
    {
      "cell_type": "markdown",
      "metadata": {
        "id": "QH6HezHmDV4_"
      },
      "source": [
        "## 4.6 Removing Whitespaces After Reading a File\n",
        "The `.read()`, `.readline()` and `.readline()` method read leading and trailing whitespaces (i.e., spaces, tabs or newline characters), to remove this whitespaces following string `.strip()` methods are used.\n",
        "- `.strip()` : removes the given character from both side.\n",
        "- `.rstrip()` : removes the given character from trailing end (i.e., right side).\n",
        "- `.lstrip()` : removes the given character from lead end (i.e., left side).\n",
        "\n",
        "<div class=\"alert alert-block alert-info\">\n",
        "<h3>Info:</h3>\n",
        "<p style=\"color:lime;\">For reading an entire file using <span style=\"color:tomato; font-weight:bold\">.readline().</span> method we have to loop over <span style=\"color:tomato; font-weight:bold\">file object</span>. This is efficient and fast way of reading file. But printing using readline causes new problem as two line break to solve this issue we use <span style=\"color:tomato; font-weight:bold\">.strip() </span> string method.</p> \n",
        "<div>"
      ]
    },
    {
      "cell_type": "code",
      "metadata": {
        "tags": [],
        "id": "gupQGpZJDV5A"
      },
      "source": [
        "# Code 4.5.3I .readlines() method\n",
        "file_handler = open('zen.txt','r') # open file in read mode\n",
        "for line in file_handler:\n",
        "    print(line.strip()) # Use print(line.strip()) instead of print(line) or use print(line, end=\"\")\n",
        "    print(line,end=\"\")"
      ],
      "execution_count": 6,
      "outputs": [
        {
          "output_type": "stream",
          "name": "stdout",
          "text": [
            "The Zen of Python, by Tim Peters\n\nBeautiful is better than ugly.\nExplicit is better than implicit.\nSimple is better than complex.\nComplex is better than complicated.\nFlat is better than nested.\nSparse is better than dense.\nReadability counts.\nSpecial cases aren't special enough to break the rules.\nAlthough practicality beats purity.\nErrors should never pass silently.\nUnless explicitly silenced.\nIn the face of ambiguity, refuse the temptation to guess.\nThere should be one-- and preferably only one --obvious way to do it.\nAlthough that way may not be obvious at first unless you're Dutch.\nNow is better than never.\nAlthough never is often better than *right* now.\nIf the implementation is hard to explain, it's a bad idea.\nIf the implementation is easy to explain, it may be a good idea.\nNamespaces are one honking great idea -- let's do more of those!\n"
          ]
        }
      ]
    },
    {
      "cell_type": "code",
      "metadata": {
        "tags": [],
        "id": "rttAHH0RDV5E"
      },
      "source": [
        "# Code 4.5.4 .readlines() method\n",
        "file_handler = open('zen.txt','r') # open file in read mode\n",
        "zen = file_handler.readlines() # Read all the data [change the value n in the read(n)]\n",
        "print(\"Data Type :\",type(zen),end=\"\\n\\n\")\n",
        "\n",
        "print(zen)\n",
        "file_handler.close() # this will close the file handler object."
      ],
      "execution_count": 7,
      "outputs": [
        {
          "output_type": "stream",
          "name": "stdout",
          "text": [
            "Data Type : <class 'list'>\n\n['The Zen of Python, by Tim Peters\\n', '\\n', 'Beautiful is better than ugly.\\n', 'Explicit is better than implicit.\\n', 'Simple is better than complex.\\n', 'Complex is better than complicated.\\n', 'Flat is better than nested.\\n', 'Sparse is better than dense.\\n', 'Readability counts.\\n', \"Special cases aren't special enough to break the rules.\\n\", 'Although practicality beats purity.\\n', 'Errors should never pass silently.\\n', 'Unless explicitly silenced.\\n', 'In the face of ambiguity, refuse the temptation to guess.\\n', 'There should be one-- and preferably only one --obvious way to do it.\\n', \"Although that way may not be obvious at first unless you're Dutch.\\n\", 'Now is better than never.\\n', 'Although never is often better than *right* now.\\n', \"If the implementation is hard to explain, it's a bad idea.\\n\", 'If the implementation is easy to explain, it may be a good idea.\\n', \"Namespaces are one honking great idea -- let's do more of those!\"]\n"
          ]
        }
      ]
    },
    {
      "cell_type": "markdown",
      "metadata": {
        "id": "iw2MNgglDV5J"
      },
      "source": [
        "## 4.7 Writing to File\n",
        "We can write character data into a file by using following two methods:\n",
        "***\n",
        "- `.write()` : This method take `string` as parameter and writes write it in the file. To include **end of line** (EOL) character, we will have to add `\\n` character to the end of `string`. \n",
        "- **Syntax:**\n",
        "    > file_object.write(str + \"\\n\") \n",
        "\n",
        "- `.writelines()` : For writing a `string` in `list` of lines we use `.writelines()` methods; other data types like `list`,`tuple`, etc. can't be used for writing into the files. Also to be noted that `.writelines()` method does not add add any **end of line** (EOL) character, we will have to add `\\n` character to the end of `string`. \n",
        "- **Syntax:**\n",
        "    > file_object.writelines(list) \n",
        "***\n",
        "<div class=\"alert alert-block alert-danger\">\n",
        "<h3>Important:</h3>\n",
        "<p style=\"color:tomato;font-weight:bold\">Write method takes `string` as an argument, for storing a other data types like numeric values,we first need to <span style=\"color:lime; font-weight:bold\">convert it to string </span>before writing to a file.</p> \n",
        "<div>"
      ]
    },
    {
      "cell_type": "code",
      "metadata": {
        "tags": [],
        "id": "8bYoaXX4DV5K"
      },
      "source": [
        "# 4.7.1: Program to write data to a file using .write() method\n",
        "filexists('poem.txt')\n",
        "file_handler = open('poem.txt','w') # open file in write mode\n",
        "filexists('poem.txt')\n",
        "\n",
        "file_handler.write('The Road Not Taken\\n')\n",
        "file_handler.write('BY ROBERT FROST\\n')\n",
        "file_handler.write('\\n')\n",
        "file_handler.write('Two roads diverged in a yellow wood,\\n')\n",
        "file_handler.write('And sorry I could not travel both\\n')\n",
        "file_handler.write('And be one traveler, long I stood\\n')\n",
        "file_handler.write('And looked down one as far as I could\\n')\n",
        "file_handler.write('To where it bent in the undergrowth;\\n')\n",
        "\n",
        "file_handler.close() # this will close the file handler object.\n",
        "filexists('poem.txt')\n",
        "displayfile('poem.txt')"
      ],
      "execution_count": 8,
      "outputs": [
        {
          "output_type": "stream",
          "name": "stdout",
          "text": [
            "poem.txt - File Does not exist!\npoem.txt  already exists, [Size 0 bytes]\npoem.txt  already exists, [Size 224 bytes]\n\n\npoem.txt  - Output: \n\nThe Road Not Taken\nBY ROBERT FROST\n\nTwo roads diverged in a yellow wood,\nAnd sorry I could not travel both\nAnd be one traveler, long I stood\nAnd looked down one as far as I could\nTo where it bent in the undergrowth;\n\n"
          ]
        }
      ]
    },
    {
      "cell_type": "code",
      "metadata": {
        "tags": [],
        "id": "G7dh96RIDV5O"
      },
      "source": [
        "# 4.7.2: Program to write student deatils\n",
        "file_handler = open('song.txt','w') # open file in write mode\n",
        "\n",
        "# Student Details from the user\n",
        "to = \"Bela Bose\" + \"\"\n",
        "phoneno = 2441139\n",
        "message = \"Chakrita Ami Pey Gechi Belo Suncho\"\n",
        "by = \"Anjan Dutt\"\n",
        " \n",
        "\n",
        "# Writing to File\n",
        "file_handler.write(to + \"\\n\")\n",
        "file_handler.write(phoneno) # resolve the TypeError: write() argument must be str, not int\n",
        "file_handler.write(message)\n",
        "file_handler.write(by)\n",
        " \n",
        "file_handler.close() # this will close the file handler object.\n",
        "displayfile('song.txt')"
      ],
      "execution_count": 9,
      "outputs": [
        {
          "output_type": "stream",
          "name": "stdout",
          "text": [
            "\n\nsong.txt  - Output: \n\nBela Bose\nChakrita Ami Pey Gechi Belo SunchoAnjan Dutt\n"
          ]
        }
      ]
    },
    {
      "cell_type": "code",
      "execution_count": null,
      "metadata": {},
      "outputs": [],
      "source": []
    },
    {
      "cell_type": "code",
      "metadata": {
        "tags": [],
        "id": "PzxZhnAdDV5S"
      },
      "source": [
        "# 4.7.3: Program to write data to a file using .writelines() method\n",
        "file_handler = open('alphabet.txt','w') # open file in write mode\n",
        "\n",
        "alphabet = list(map(lambda x: chr(x) + \" = \" + chr(x+32) + \"\\n\", range(65, 91)))\n",
        "print(alphabet)\n",
        "\n",
        "file_handler.writelines(alphabet)\n",
        "\n",
        "file_handler.close() # this will close the file handler object.\n",
        "displayfile('alphabet.txt')"
      ],
      "execution_count": 11,
      "outputs": [
        {
          "output_type": "stream",
          "name": "stdout",
          "text": [
            "['A = a\\n', 'B = b\\n', 'C = c\\n', 'D = d\\n', 'E = e\\n', 'F = f\\n', 'G = g\\n', 'H = h\\n', 'I = i\\n', 'J = j\\n', 'K = k\\n', 'L = l\\n', 'M = m\\n', 'N = n\\n', 'O = o\\n', 'P = p\\n', 'Q = q\\n', 'R = r\\n', 'S = s\\n', 'T = t\\n', 'U = u\\n', 'V = v\\n', 'W = w\\n', 'X = x\\n', 'Y = y\\n', 'Z = z\\n']\n\n\nalphabet.txt  - Output: \n\nA = a\nB = b\nC = c\nD = d\nE = e\nF = f\nG = g\nH = h\nI = i\nJ = j\nK = k\nL = l\nM = m\nN = n\nO = o\nP = p\nQ = q\nR = r\nS = s\nT = t\nU = u\nV = v\nW = w\nX = x\nY = y\nZ = z\n\n"
          ]
        }
      ]
    },
    {
      "cell_type": "markdown",
      "metadata": {
        "id": "7hfVCgr5DV5X"
      },
      "source": [
        "## 4.8 Appending to File\n",
        "Append means 'to add to'; so if we want to add more data to a file which already has some data in it, we will be appending data. In such a case, use the access_mode `a`, which means:\n",
        "**Opening for writing, and if it exists, then append data to the end of the file.**\n",
        "In Python, we can use the `a` mode to open an output file in append mode. This means that:\n",
        "- If the file already exists, it will not be overwritten. If the file does not exist,it will be created.\n",
        "- When data is written to the file, it will be written at the end of the file's current contents.\n",
        "- **Syntax:**\n",
        "     > file_object = open(file_name,'a')\n",
        "- **Example:**\n",
        "     >file_handler = open(\"data.txt\",'a')\n",
        "\n",
        "We can write character data into a file in **append mode** by using following two methods:\n",
        "***\n",
        "- `.write()` : This method take `string` as parameter and writes write it in the file. To include **end of line** (EOL) character, we will have to add `\\n` character to the end of `string`. \n",
        "- **Syntax:**\n",
        "    > file_object.write(str + \"\\n\") \n",
        "\n",
        "- `.writelines()` : For writing a `string` in `list` of lines we use `.writelines()` methods; other data types like `list`,`tuple`, etc. can't be used for writing into the files. Also to be noted that `.writelines()` method does not add add any **end of line** (EOL) character, we will have to add `\\n` character to the end of `string`. \n",
        "- **Syntax:**\n",
        "    > file_object.writelines(list) \n",
        "***"
      ]
    },
    {
      "cell_type": "code",
      "metadata": {
        "tags": [],
        "id": "qtejc3UlDV5X"
      },
      "source": [
        "# 4.8.1: Program to append data to a file using .write() method\n",
        "filexists('poem.txt')\n",
        "file_handler = open('poem.txt','a') # open file in Append mode\n",
        "filexists('poem.txt')\n",
        "# Using File write method\n",
        "file_handler.write('Then took the other, as just as fair,\\n')\n",
        "file_handler.write('And having perhaps the better claim,\\n')\n",
        "file_handler.write('Because it was grassy and wanted wear;\\n')\n",
        "file_handler.write('Though as for that the passing there\\n')\n",
        "file_handler.write('Had worn them really about the same,\\n')\n",
        "\n",
        "# Using File WriteLines method\n",
        "file_handler.writelines([\n",
        "'And both that morning equally lay\\n',\n",
        "'In leaves no step had trodden black.\\n',\n",
        "'Oh, I kept the first for another day!\\n',\n",
        "'Yet knowing how way leads on to way,\\n',\n",
        "'I doubted if I should ever come back.\\n',\n",
        "])\n",
        "# creating list with string poem lines\n",
        "poemlines = [\n",
        "'I shall be telling this with a sigh\\n'\n",
        "'Somewhere ages and ages hence:\\n'\n",
        "'Two roads diverged in a wood, and I—\\n'\n",
        "'I took the one less traveled by,\\n'\n",
        "'And that has made all the difference.\\n'\n",
        "]\n",
        "file_handler.writelines(poemlines)\n",
        "\n",
        "file_handler.close() # this will close the file handler object.\n",
        "\n",
        "displayfile('poem.txt')\n",
        "filexists('poem.txt')"
      ],
      "execution_count": 12,
      "outputs": [
        {
          "output_type": "stream",
          "name": "stdout",
          "text": [
            "poem.txt  already exists, [Size 224 bytes]\npoem.txt  already exists, [Size 224 bytes]\n\n\npoem.txt  - Output: \n\nThe Road Not Taken\nBY ROBERT FROST\n\nTwo roads diverged in a yellow wood,\nAnd sorry I could not travel both\nAnd be one traveler, long I stood\nAnd looked down one as far as I could\nTo where it bent in the undergrowth;\nThen took the other, as just as fair,\nAnd having perhaps the better claim,\nBecause it was grassy and wanted wear;\nThough as for that the passing there\nHad worn them really about the same,\nAnd both that morning equally lay\nIn leaves no step had trodden black.\nOh, I kept the first for another day!\nYet knowing how way leads on to way,\nI doubted if I should ever come back.\nI shall be telling this with a sigh\nSomewhere ages and ages hence:\nTwo roads diverged in a wood, and I—\nI took the one less traveled by,\nAnd that has made all the difference.\n\npoem.txt  already exists, [Size 786 bytes]\n"
          ]
        },
        {
          "output_type": "execute_result",
          "data": {
            "text/plain": [
              "True"
            ]
          },
          "metadata": {},
          "execution_count": 12
        }
      ]
    },
    {
      "cell_type": "markdown",
      "metadata": {
        "id": "wNZGvBaKDV5c"
      },
      "source": [
        "## 4.9 File Handling using 'with' Statement [Important]\n",
        "Apart form using `open()` for file creation methods, `with` statement can also be used for some purpose. We can use this statement to group file operation statement within a block. Using `with` statement unsure that all resources allocated to the file object get deallocated automatically once we stop using the file.\n",
        "\n",
        "- **Syntax:**\n",
        "    ```\n",
        "    with open(file_name,mode) as file_object:\n",
        "        file manipulation statements\n",
        "    ```\n",
        "- **Example:**\n",
        "    ```\n",
        "    with open(\"data.txt\",\"w\") as file_handler:\n",
        "        filehandler.write(\"Some text\")\n",
        "    ```"
      ]
    },
    {
      "cell_type": "code",
      "metadata": {
        "tags": [],
        "id": "_iS3bH4JDV5d"
      },
      "source": [
        "# 4.9.1: Reading file using with statemet\n",
        "with open(\"zen.txt\",'r') as file_handler:\n",
        "   zen = file_handler.read()\n",
        "   print(zen)\n",
        "#check if file is closed or not\n",
        "handlerProperties(file_handler)"
      ],
      "execution_count": 13,
      "outputs": [
        {
          "output_type": "stream",
          "name": "stdout",
          "text": [
            "The Zen of Python, by Tim Peters\n\nBeautiful is better than ugly.\nExplicit is better than implicit.\nSimple is better than complex.\nComplex is better than complicated.\nFlat is better than nested.\nSparse is better than dense.\nReadability counts.\nSpecial cases aren't special enough to break the rules.\nAlthough practicality beats purity.\nErrors should never pass silently.\nUnless explicitly silenced.\nIn the face of ambiguity, refuse the temptation to guess.\nThere should be one-- and preferably only one --obvious way to do it.\nAlthough that way may not be obvious at first unless you're Dutch.\nNow is better than never.\nAlthough never is often better than *right* now.\nIf the implementation is hard to explain, it's a bad idea.\nIf the implementation is easy to explain, it may be a good idea.\nNamespaces are one honking great idea -- let's do more of those!\n"
          ]
        },
        {
          "output_type": "error",
          "ename": "NameError",
          "evalue": "name 'handlerProperties' is not defined",
          "traceback": [
            "\u001b[1;31m---------------------------------------------------------------------------\u001b[0m",
            "\u001b[1;31mNameError\u001b[0m                                 Traceback (most recent call last)",
            "\u001b[1;32m<ipython-input-13-78a047f0d7b9>\u001b[0m in \u001b[0;36m<module>\u001b[1;34m\u001b[0m\n\u001b[0;32m      4\u001b[0m    \u001b[0mprint\u001b[0m\u001b[1;33m(\u001b[0m\u001b[0mzen\u001b[0m\u001b[1;33m)\u001b[0m\u001b[1;33m\u001b[0m\u001b[1;33m\u001b[0m\u001b[0m\n\u001b[0;32m      5\u001b[0m \u001b[1;31m#check if file is closed or not\u001b[0m\u001b[1;33m\u001b[0m\u001b[1;33m\u001b[0m\u001b[1;33m\u001b[0m\u001b[0m\n\u001b[1;32m----> 6\u001b[1;33m \u001b[0mhandlerProperties\u001b[0m\u001b[1;33m(\u001b[0m\u001b[0mfile_handler\u001b[0m\u001b[1;33m)\u001b[0m\u001b[1;33m\u001b[0m\u001b[1;33m\u001b[0m\u001b[0m\n\u001b[0m",
            "\u001b[1;31mNameError\u001b[0m: name 'handlerProperties' is not defined"
          ]
        }
      ]
    },
    {
      "cell_type": "code",
      "metadata": {
        "tags": [],
        "id": "0_JKp9QjDV5h"
      },
      "source": [
        "# 4.9.1: Writing file using with statemet\n",
        "with open(\"quotation.txt\",'a') as file_handler:\n",
        "   file_handler.write(\"Good Programmers Are Lazy and Dumb.\\n\")\n",
        "#check if file is closed or not\n",
        "handlerProperties(file_handler)\n",
        "\n",
        "displayfile('quotation.txt')"
      ],
      "execution_count": 14,
      "outputs": [
        {
          "output_type": "error",
          "ename": "NameError",
          "evalue": "name 'handlerProperties' is not defined",
          "traceback": [
            "\u001b[1;31m---------------------------------------------------------------------------\u001b[0m",
            "\u001b[1;31mNameError\u001b[0m                                 Traceback (most recent call last)",
            "\u001b[1;32m<ipython-input-14-dba025d64b7a>\u001b[0m in \u001b[0;36m<module>\u001b[1;34m\u001b[0m\n\u001b[0;32m      3\u001b[0m    \u001b[0mfile_handler\u001b[0m\u001b[1;33m.\u001b[0m\u001b[0mwrite\u001b[0m\u001b[1;33m(\u001b[0m\u001b[1;34m\"Good Programmers Are Lazy and Dumb.\\n\"\u001b[0m\u001b[1;33m)\u001b[0m\u001b[1;33m\u001b[0m\u001b[1;33m\u001b[0m\u001b[0m\n\u001b[0;32m      4\u001b[0m \u001b[1;31m#check if file is closed or not\u001b[0m\u001b[1;33m\u001b[0m\u001b[1;33m\u001b[0m\u001b[1;33m\u001b[0m\u001b[0m\n\u001b[1;32m----> 5\u001b[1;33m \u001b[0mhandlerProperties\u001b[0m\u001b[1;33m(\u001b[0m\u001b[0mfile_handler\u001b[0m\u001b[1;33m)\u001b[0m\u001b[1;33m\u001b[0m\u001b[1;33m\u001b[0m\u001b[0m\n\u001b[0m\u001b[0;32m      6\u001b[0m \u001b[1;33m\u001b[0m\u001b[0m\n\u001b[0;32m      7\u001b[0m \u001b[0mdisplayfile\u001b[0m\u001b[1;33m(\u001b[0m\u001b[1;34m'quotation.txt'\u001b[0m\u001b[1;33m)\u001b[0m\u001b[1;33m\u001b[0m\u001b[1;33m\u001b[0m\u001b[0m\n",
            "\u001b[1;31mNameError\u001b[0m: name 'handlerProperties' is not defined"
          ]
        }
      ]
    },
    {
      "cell_type": "markdown",
      "metadata": {
        "id": "XZKfcRN3DV5l"
      },
      "source": [
        "### **Exercise 2:** *Create a python function that take two arguments(source,destination) and copy content from source to destination file*.\n",
        "\n",
        "{Time: 15 min}"
      ]
    },
    {
      "cell_type": "code",
      "metadata": {
        "tags": [],
        "id": "yzYA4toaDV5m"
      },
      "source": [
        "# Exercise 2: \n",
        "## Your Excercise code should be here\n"
      ],
      "execution_count": null,
      "outputs": []
    },
    {
      "cell_type": "code",
      "metadata": {
        "tags": [],
        "id": "e0_0uRC-DV5q"
      },
      "source": [
        "# ----> Do not change Anything\n",
        "fileCopy(\"poem.txt\",\"copy.txt\")"
      ],
      "execution_count": null,
      "outputs": []
    }
  ]
}