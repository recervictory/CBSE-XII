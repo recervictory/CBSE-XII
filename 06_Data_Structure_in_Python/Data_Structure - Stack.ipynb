{
 "metadata": {
  "language_info": {
   "codemirror_mode": {
    "name": "ipython",
    "version": 3
   },
   "file_extension": ".py",
   "mimetype": "text/x-python",
   "name": "python",
   "nbconvert_exporter": "python",
   "pygments_lexer": "ipython3",
   "version": "3.7.4-final"
  },
  "orig_nbformat": 2,
  "kernelspec": {
   "name": "python3",
   "display_name": "Python 3",
   "language": "python"
  }
 },
 "nbformat": 4,
 "nbformat_minor": 2,
 "cells": [
  {
   "source": [
    "## Introduction\n",
    "Every programming language provides salient features of data structures. **A data structure is more precisely defined as a way of storing, organizing and retrieving data in a computer so that it can be used most efficiently to give optimal performance.** There are several types of data structures which are designed and used for different kinds of applications.\n",
    "\n",
    "An important sequential linear data structure, *lists*, which are ordered sequence of items. When we intend to refer to or access a specific value in the sequence/list, it is done using index value or subscript and is accessed from the 0th position till last_index - 1.\n",
    "\n",
    "Python **lists are dynamic in nature**, i.e., they can grow/increase and shrink/decrease in size/ number of items as and when required. They are also heterogeneous, which means we can store elements of multiple datatypes in a single list. In this chapter, we shall further discuss two data structures- **Stacks and Queues** -and their implementation in Python using lists.\n",
    "\n",
    "```\n",
    "A Data Structure is a named group of data of different data types which is stored in a specific way and can be processed as a\n",
    "single unit. A data structure has well-defined operations, behaviour and properties.\n",
    "```"
   ],
   "cell_type": "markdown",
   "metadata": {}
  },
  {
   "source": [
    "## Stack\n",
    "A Stack is a linear/sequence structure in which insertion and deletion can take place only at one end, i.e., Stack's top. Because of this, Stack is called **LIFO (last in, first out) data structure**. LIFO means the element Stack: Last in, first out inserted last would be the first to be deleted. \n",
    "\n",
    "For example, a pile of books, a stack of coins, where you can remove only the top book or the coin placed at the top.\n",
    "\n",
    "### Stack performs two major operations, viz. PUSH and POP\n",
    "1. When an element is added on top of the Stack, it is called PUSH operation.\n",
    "2. When an element is removed from the top of the Stack, it is called POP operation ation.\n",
    "\n",
    "To perform the above two major operations, we need to declare a variable that noin top of the Stack, i.e., \"TOP\", and acts as a storage location or a container to store elements of the Stack.\n",
    "\n",
    "\n",
    "The two Stack operations are performed through the \"top\"-elements are inserted as well as deleted from the top only. The Stack is a dynamic data structure as it grows (with an increase in the number of elements) or shrinks (with a decrease in the number of elements). \n",
    "\n",
    "A static data structure, on the other hand, is one that has a fixed size. Stacks are fundamentally important as they can be used to reverse the order of items o elements. The order of insertion is the reverse of the order of removal. Fig. 6.3 shows the Python data object Stack created in the original order and traversed/deleted in the reverse order.\n"
   ],
   "cell_type": "markdown",
   "metadata": {}
  },
  {
   "source": [
    "## IMPLEMENTATION OF STACK USING LIST\n",
    "The implementation of Stack using list in Python is the easiest of all programming languages. It offers a convenient set of methods to operate lists as Stacks. The basic operations perfor on the Stack are:\n",
    "\n",
    "1. Creating a Stack\n",
    "2. PUSH Operation/Adding Elements to a Stack\n",
    "3. Checking for Empty Stack\n",
    "4. Pop Operation/Deleting Elements from a Stack\n",
    "5. Traversal/Displaying a Stack.\n"
   ],
   "cell_type": "markdown",
   "metadata": {}
  },
  {
   "source": [
    "## Creating a Stack\n"
   ],
   "cell_type": "markdown",
   "metadata": {}
  },
  {
   "cell_type": "code",
   "execution_count": null,
   "metadata": {},
   "outputs": [],
   "source": [
    "def isEmpty(lst):\n",
    "    return lst == []\n",
    "\n",
    "def push(element, lst):\n",
    "    return lst.append(element)\n",
    "\n",
    "def traversal(lst):\n",
    "    return lst[::-1]"
   ]
  },
  {
   "cell_type": "code",
   "execution_count": null,
   "metadata": {},
   "outputs": [],
   "source": [
    "stack = []\n",
    "while True:\n",
    "    print(\"Stack Implementation\")\n",
    "    print(\"1. Push\",\"2. Pop\",\"3. Traversal\",\"4. Exit\",\"Choice ( 1- 4) :\",sep=\"\\n\")\n",
    "    ch = int(input(\"Your Choice : \"))\n",
    "    print(\"\\n\")\n",
    "    if ch == 1:\n",
    "        element = input(\"Enter A number: \")\n",
    "        push(element, stack)\n",
    "    if ch == 2:\n",
    "        if isEmpty(stack):\n",
    "            print(\"Empty\")\n",
    "        else:\n",
    "            print(stack.pop())\n",
    "    if ch == 3:\n",
    "        if isEmpty(stack):\n",
    "            print(\"Empty\")\n",
    "        else:\n",
    "            print(traversal(stack))\n",
    "    if ch == 4:\n",
    "        break\n"
   ]
  },
  {
   "cell_type": "code",
   "execution_count": null,
   "metadata": {},
   "outputs": [],
   "source": []
  }
 ]
}