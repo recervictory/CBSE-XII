{
 "metadata": {
  "language_info": {
   "codemirror_mode": {
    "name": "ipython",
    "version": 3
   },
   "file_extension": ".py",
   "mimetype": "text/x-python",
   "name": "python",
   "nbconvert_exporter": "python",
   "pygments_lexer": "ipython3",
   "version": "3.7.4-final"
  },
  "orig_nbformat": 2,
  "kernelspec": {
   "name": "Python 3.7.4 64-bit ('recer': virtualenv)",
   "display_name": "Python 3.7.4 64-bit ('recer': virtualenv)",
   "metadata": {
    "interpreter": {
     "hash": "7dae6437c12b1d87f00e0e10a4bd22be66a3b8ec05fb1161d95372f28c39fa9e"
    }
   }
  }
 },
 "nbformat": 4,
 "nbformat_minor": 2,
 "cells": [
  {
   "source": [
    "# Importing important Library\n",
    "#!pip install ipython-sql\n",
    "import sqlite3\n",
    "# Then load the SQL module:\n",
    "%load_ext sql\n",
    "#connection string to connect to the database\n",
    "%sql sqlite://"
   ],
   "cell_type": "code",
   "metadata": {
    "tags": []
   },
   "execution_count": 1,
   "outputs": []
  },
  {
   "cell_type": "code",
   "execution_count": 2,
   "metadata": {
    "tags": []
   },
   "outputs": [
    {
     "output_type": "stream",
     "name": "stdout",
     "text": " * sqlite://\nDone.\nDone.\n"
    },
    {
     "output_type": "execute_result",
     "data": {
      "text/plain": "[]"
     },
     "metadata": {},
     "execution_count": 2
    }
   ],
   "source": [
    "%%sql\n",
    "-- This create the table name personal\n",
    "CREATE TABLE personal (\n",
    "    Empno integer NOT NULL UNIQUE,\n",
    "    Name varchar(255) NOT NULL,\n",
    "    DoB date CHECK (Dob > '1960-01-12'),\n",
    "    Nativeplace varchar(255),\n",
    "    Hobby varchar(255) NOT NULL\n",
    ");\n",
    "\n",
    "-- This create the table name job\n",
    "CREATE TABLE job (\n",
    "    sno integer NOT NULL UNIQUE,\n",
    "    Area varchar(255) NOT NULL,\n",
    "    App_date date,\n",
    "    Salary integer CHECK (Salary BETWEEN 4000 AND 10000),\n",
    "    Retd_date date,\n",
    "    Dept varchar(255) NOT NULL\n",
    ");"
   ]
  },
  {
   "cell_type": "code",
   "execution_count": 3,
   "metadata": {
    "tags": []
   },
   "outputs": [
    {
     "output_type": "stream",
     "name": "stdout",
     "text": " * sqlite://\n1 rows affected.\n1 rows affected.\n1 rows affected.\n1 rows affected.\n1 rows affected.\n1 rows affected.\n1 rows affected.\n1 rows affected.\n1 rows affected.\n1 rows affected.\n1 rows affected.\n1 rows affected.\n"
    },
    {
     "output_type": "execute_result",
     "data": {
      "text/plain": "[]"
     },
     "metadata": {},
     "execution_count": 3
    }
   ],
   "source": [
    "%%sql\n",
    "INSERT into personal values(123,'Amit','1965-01-23','Delhi','Music');\n",
    "INSERT into personal values(127,'Manoj','1976-12-12','Mumbai','Writing');\n",
    "INSERT into personal values(124,'Abhai','1975-08-11','Allahabad','Music');\n",
    "INSERT into personal values(125,'Vinod','1977-04-04','Delhi','Sports');\n",
    "INSERT into personal values(128,'Abhay','1974-10-03','Mumbai','Gardening');\n",
    "INSERT into personal values(129,'Ramesh','1981-10-28','Pune','Sports');\n",
    "\n",
    "INSERT into job values(123,'Agra','2006-01-25',5000,'2026-01-25','Marketing');\n",
    "INSERT into job values(127,'Mathura','2006-01-25',6000,'2026-12-22','Finance');\n",
    "INSERT into job values(124,'Agra','2006-01-25',5500,'2027-08-19','Marketing');\n",
    "INSERT into job values(125,'Delhi','2006-01-25',8500,'2026-04-14','Marketing');\n",
    "INSERT into job values(128,'Pune','2006-01-25',7500,'2026-01-25','Sales');\n",
    "INSERT into job values(129,'Surat','2006-01-25',9000,'2028-03-13','Sales');"
   ]
  },
  {
   "cell_type": "code",
   "execution_count": 4,
   "metadata": {
    "tags": []
   },
   "outputs": [
    {
     "output_type": "stream",
     "name": "stdout",
     "text": " * sqlite://\nDone.\n"
    },
    {
     "output_type": "execute_result",
     "data": {
      "text/plain": "[(123, 'Amit', '1965-01-23', 'Delhi', 'Music'),\n (127, 'Manoj', '1976-12-12', 'Mumbai', 'Writing'),\n (124, 'Abhai', '1975-08-11', 'Allahabad', 'Music'),\n (125, 'Vinod', '1977-04-04', 'Delhi', 'Sports'),\n (128, 'Abhay', '1974-10-03', 'Mumbai', 'Gardening'),\n (129, 'Ramesh', '1981-10-28', 'Pune', 'Sports')]",
      "text/html": "<table>\n    <tr>\n        <th>Empno</th>\n        <th>Name</th>\n        <th>DoB</th>\n        <th>Nativeplace</th>\n        <th>Hobby</th>\n    </tr>\n    <tr>\n        <td>123</td>\n        <td>Amit</td>\n        <td>1965-01-23</td>\n        <td>Delhi</td>\n        <td>Music</td>\n    </tr>\n    <tr>\n        <td>127</td>\n        <td>Manoj</td>\n        <td>1976-12-12</td>\n        <td>Mumbai</td>\n        <td>Writing</td>\n    </tr>\n    <tr>\n        <td>124</td>\n        <td>Abhai</td>\n        <td>1975-08-11</td>\n        <td>Allahabad</td>\n        <td>Music</td>\n    </tr>\n    <tr>\n        <td>125</td>\n        <td>Vinod</td>\n        <td>1977-04-04</td>\n        <td>Delhi</td>\n        <td>Sports</td>\n    </tr>\n    <tr>\n        <td>128</td>\n        <td>Abhay</td>\n        <td>1974-10-03</td>\n        <td>Mumbai</td>\n        <td>Gardening</td>\n    </tr>\n    <tr>\n        <td>129</td>\n        <td>Ramesh</td>\n        <td>1981-10-28</td>\n        <td>Pune</td>\n        <td>Sports</td>\n    </tr>\n</table>"
     },
     "metadata": {},
     "execution_count": 4
    }
   ],
   "source": [
    "%%sql\n",
    "SELECT * FROM personal;"
   ]
  },
  {
   "cell_type": "code",
   "execution_count": 5,
   "metadata": {
    "tags": []
   },
   "outputs": [
    {
     "output_type": "stream",
     "name": "stdout",
     "text": " * sqlite://\nDone.\n"
    },
    {
     "output_type": "execute_result",
     "data": {
      "text/plain": "[(123, 'Agra', '2006-01-25', 5000, '2026-01-25', 'Marketing'),\n (127, 'Mathura', '2006-01-25', 6000, '2026-12-22', 'Finance'),\n (124, 'Agra', '2006-01-25', 5500, '2027-08-19', 'Marketing'),\n (125, 'Delhi', '2006-01-25', 8500, '2026-04-14', 'Marketing'),\n (128, 'Pune', '2006-01-25', 7500, '2026-01-25', 'Sales'),\n (129, 'Surat', '2006-01-25', 9000, '2028-03-13', 'Sales')]",
      "text/html": "<table>\n    <tr>\n        <th>sno</th>\n        <th>Area</th>\n        <th>App_date</th>\n        <th>Salary</th>\n        <th>Retd_date</th>\n        <th>Dept</th>\n    </tr>\n    <tr>\n        <td>123</td>\n        <td>Agra</td>\n        <td>2006-01-25</td>\n        <td>5000</td>\n        <td>2026-01-25</td>\n        <td>Marketing</td>\n    </tr>\n    <tr>\n        <td>127</td>\n        <td>Mathura</td>\n        <td>2006-01-25</td>\n        <td>6000</td>\n        <td>2026-12-22</td>\n        <td>Finance</td>\n    </tr>\n    <tr>\n        <td>124</td>\n        <td>Agra</td>\n        <td>2006-01-25</td>\n        <td>5500</td>\n        <td>2027-08-19</td>\n        <td>Marketing</td>\n    </tr>\n    <tr>\n        <td>125</td>\n        <td>Delhi</td>\n        <td>2006-01-25</td>\n        <td>8500</td>\n        <td>2026-04-14</td>\n        <td>Marketing</td>\n    </tr>\n    <tr>\n        <td>128</td>\n        <td>Pune</td>\n        <td>2006-01-25</td>\n        <td>7500</td>\n        <td>2026-01-25</td>\n        <td>Sales</td>\n    </tr>\n    <tr>\n        <td>129</td>\n        <td>Surat</td>\n        <td>2006-01-25</td>\n        <td>9000</td>\n        <td>2028-03-13</td>\n        <td>Sales</td>\n    </tr>\n</table>"
     },
     "metadata": {},
     "execution_count": 5
    }
   ],
   "source": [
    "%%sql\n",
    "SELECT * FROM job;"
   ]
  },
  {
   "source": [
    "## 1. Show number of employee area wise"
   ],
   "cell_type": "markdown",
   "metadata": {}
  },
  {
   "cell_type": "code",
   "execution_count": 6,
   "metadata": {
    "tags": []
   },
   "outputs": [
    {
     "output_type": "stream",
     "name": "stdout",
     "text": " * sqlite://\nDone.\n"
    },
    {
     "output_type": "execute_result",
     "data": {
      "text/plain": "[('Agra', 2), ('Delhi', 1), ('Mathura', 1), ('Pune', 1), ('Surat', 1)]",
      "text/html": "<table>\n    <tr>\n        <th>Area</th>\n        <th>Number of Employee</th>\n    </tr>\n    <tr>\n        <td>Agra</td>\n        <td>2</td>\n    </tr>\n    <tr>\n        <td>Delhi</td>\n        <td>1</td>\n    </tr>\n    <tr>\n        <td>Mathura</td>\n        <td>1</td>\n    </tr>\n    <tr>\n        <td>Pune</td>\n        <td>1</td>\n    </tr>\n    <tr>\n        <td>Surat</td>\n        <td>1</td>\n    </tr>\n</table>"
     },
     "metadata": {},
     "execution_count": 6
    }
   ],
   "source": [
    "%%sql\n",
    "SELECT Area,COUNT(*) AS \"Number of Employee\"\n",
    "FROM job\n",
    "GROUP BY Area;"
   ]
  },
  {
   "source": [
    "## 2. Show the hobbies and native places of those whose name pronounces as 'Abhay'."
   ],
   "cell_type": "markdown",
   "metadata": {}
  },
  {
   "cell_type": "code",
   "execution_count": 7,
   "metadata": {
    "tags": []
   },
   "outputs": [
    {
     "output_type": "stream",
     "name": "stdout",
     "text": " * sqlite://\nDone.\n"
    },
    {
     "output_type": "execute_result",
     "data": {
      "text/plain": "[('Gardening', 'Mumbai')]",
      "text/html": "<table>\n    <tr>\n        <th>Hobby</th>\n        <th>Nativeplace</th>\n    </tr>\n    <tr>\n        <td>Gardening</td>\n        <td>Mumbai</td>\n    </tr>\n</table>"
     },
     "metadata": {},
     "execution_count": 7
    }
   ],
   "source": [
    "%%sql\n",
    "SELECT Hobby,Nativeplace\n",
    "FROM personal\n",
    "WHERE Name = 'Abhay';"
   ]
  },
  {
   "source": [
    "## 3. Increase salary of the employees by 5% of their present salary with hobby as Music"
   ],
   "cell_type": "markdown",
   "metadata": {}
  },
  {
   "cell_type": "code",
   "execution_count": 8,
   "metadata": {
    "tags": []
   },
   "outputs": [
    {
     "output_type": "stream",
     "name": "stdout",
     "text": " * sqlite://\n2 rows affected.\n"
    },
    {
     "output_type": "execute_result",
     "data": {
      "text/plain": "[]"
     },
     "metadata": {},
     "execution_count": 8
    }
   ],
   "source": [
    "%%sql\n",
    "UPDATE job\n",
    "SET \n",
    "    Salary = Salary * 1.05\n",
    "WHERE \n",
    "    sno IN ( SELECT Empno\n",
    "            FROM personal\n",
    "            WHERE Hobby = \"Music\"\n",
    "    );"
   ]
  },
  {
   "cell_type": "code",
   "execution_count": 9,
   "metadata": {
    "tags": []
   },
   "outputs": [
    {
     "output_type": "stream",
     "name": "stdout",
     "text": " * sqlite://\nDone.\n"
    },
    {
     "output_type": "execute_result",
     "data": {
      "text/plain": "[(123, 'Agra', '2006-01-25', 5250, '2026-01-25', 'Marketing'),\n (127, 'Mathura', '2006-01-25', 6000, '2026-12-22', 'Finance'),\n (124, 'Agra', '2006-01-25', 5775, '2027-08-19', 'Marketing'),\n (125, 'Delhi', '2006-01-25', 8500, '2026-04-14', 'Marketing'),\n (128, 'Pune', '2006-01-25', 7500, '2026-01-25', 'Sales'),\n (129, 'Surat', '2006-01-25', 9000, '2028-03-13', 'Sales')]",
      "text/html": "<table>\n    <tr>\n        <th>sno</th>\n        <th>Area</th>\n        <th>App_date</th>\n        <th>Salary</th>\n        <th>Retd_date</th>\n        <th>Dept</th>\n    </tr>\n    <tr>\n        <td>123</td>\n        <td>Agra</td>\n        <td>2006-01-25</td>\n        <td>5250</td>\n        <td>2026-01-25</td>\n        <td>Marketing</td>\n    </tr>\n    <tr>\n        <td>127</td>\n        <td>Mathura</td>\n        <td>2006-01-25</td>\n        <td>6000</td>\n        <td>2026-12-22</td>\n        <td>Finance</td>\n    </tr>\n    <tr>\n        <td>124</td>\n        <td>Agra</td>\n        <td>2006-01-25</td>\n        <td>5775</td>\n        <td>2027-08-19</td>\n        <td>Marketing</td>\n    </tr>\n    <tr>\n        <td>125</td>\n        <td>Delhi</td>\n        <td>2006-01-25</td>\n        <td>8500</td>\n        <td>2026-04-14</td>\n        <td>Marketing</td>\n    </tr>\n    <tr>\n        <td>128</td>\n        <td>Pune</td>\n        <td>2006-01-25</td>\n        <td>7500</td>\n        <td>2026-01-25</td>\n        <td>Sales</td>\n    </tr>\n    <tr>\n        <td>129</td>\n        <td>Surat</td>\n        <td>2006-01-25</td>\n        <td>9000</td>\n        <td>2028-03-13</td>\n        <td>Sales</td>\n    </tr>\n</table>"
     },
     "metadata": {},
     "execution_count": 9
    }
   ],
   "source": [
    "%%sql\n",
    "SELECT * FROM job;"
   ]
  },
  {
   "source": [
    "## 4.Show the hobby of which there are 2 or more employees"
   ],
   "cell_type": "markdown",
   "metadata": {}
  },
  {
   "cell_type": "code",
   "execution_count": 14,
   "metadata": {
    "tags": []
   },
   "outputs": [
    {
     "output_type": "stream",
     "name": "stdout",
     "text": " * sqlite://\nDone.\n"
    },
    {
     "output_type": "execute_result",
     "data": {
      "text/plain": "[('Music', 2), ('Sports', 2)]",
      "text/html": "<table>\n    <tr>\n        <th>Hobby</th>\n        <th>Number of Empolyee</th>\n    </tr>\n    <tr>\n        <td>Music</td>\n        <td>2</td>\n    </tr>\n    <tr>\n        <td>Sports</td>\n        <td>2</td>\n    </tr>\n</table>"
     },
     "metadata": {},
     "execution_count": 14
    }
   ],
   "source": [
    "%%sql\n",
    "SELECT Hobby, count(*) As 'Number of Empolyee'\n",
    "FROM Personal\n",
    "GROUP BY Hobby\n",
    "HAVING count(Hobby) >= 2;"
   ]
  },
  {
   "source": [
    "## 5. Show the appointment date & native place of those whose name starts with 'A or ends with 'd'"
   ],
   "cell_type": "markdown",
   "metadata": {}
  },
  {
   "cell_type": "code",
   "execution_count": null,
   "metadata": {},
   "outputs": [],
   "source": []
  }
 ]
}