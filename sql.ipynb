{
 "metadata": {
  "language_info": {
   "codemirror_mode": {
    "name": "ipython",
    "version": 3
   },
   "file_extension": ".py",
   "mimetype": "text/x-python",
   "name": "python",
   "nbconvert_exporter": "python",
   "pygments_lexer": "ipython3",
   "version": "3.7.4-final"
  },
  "orig_nbformat": 2,
  "kernelspec": {
   "name": "python3",
   "display_name": "Python 3",
   "language": "python"
  }
 },
 "nbformat": 4,
 "nbformat_minor": 2,
 "cells": [
  {
   "source": [
    "## Write a small python program to retrive all record from the table with attributes(title,isbn)."
   ],
   "cell_type": "markdown",
   "metadata": {}
  },
  {
   "cell_type": "code",
   "execution_count": 8,
   "metadata": {},
   "outputs": [
    {
     "output_type": "stream",
     "name": "stdout",
     "text": [
      "cbse_emp\ncoursera\nhtm\ninformation_schema\nmisc\nmusic\nmydb\nmysql\noffice\nperformance_schema\nphpmyadmin\nroster\nschool\nshop\ntest\nuniversity_db\n"
     ]
    }
   ],
   "source": [
    "import mysql.connector\n",
    "db = mysql.connector.connect(host=\"localhost\",user=\"root\",password=\"\")\n",
    "cursor = db.cursor()\n",
    "cursor.execute('SHOW DATABASES')\n",
    "for databases in cursor:\n",
    "    print(databases[0])"
   ]
  },
  {
   "cell_type": "code",
   "execution_count": 10,
   "metadata": {},
   "outputs": [
    {
     "output_type": "stream",
     "name": "stdout",
     "text": [
      "cbse_emp\ncoursera\nhtm\ninformation_schema\nmisc\nmusic\nmydb\nmysql\noffice\nperformance_schema\nphpmyadmin\nroster\nschool\nschools\nshop\ntest\nuniversity_db\n"
     ]
    }
   ],
   "source": [
    "cursor.execute('CREATE DATABASE schools')\n",
    "cursor.execute('SHOW DATABASES')\n",
    "for databases in cursor:\n",
    "    print(databases[0])"
   ]
  },
  {
   "cell_type": "code",
   "execution_count": 12,
   "metadata": {},
   "outputs": [
    {
     "output_type": "stream",
     "name": "stdout",
     "text": [
      "cbse_emp\ncoursera\nhtm\ninformation_schema\nmisc\nmusic\nmydb\nmysql\noffice\nperformance_schema\nphpmyadmin\nroster\nschool\nschools\nshop\ntest\nuniversity_db\n"
     ]
    }
   ],
   "source": [
    "db = mysql.connector.connect(host=\"localhost\",user=\"root\",password=\"\",database='schools')\n",
    "cursor = db.cursor()\n",
    "cursor.execute('SHOW DATABASES')\n",
    "for databases in cursor:\n",
    "    print(databases[0])"
   ]
  },
  {
   "cell_type": "code",
   "execution_count": 13,
   "metadata": {},
   "outputs": [],
   "source": [
    "sql = 'CREATE TABLE books(title VARCHAR(30),isbn INT(10) PRIMARY KEY)'\n",
    "cursor.execute(sql)"
   ]
  },
  {
   "cell_type": "code",
   "execution_count": 20,
   "metadata": {},
   "outputs": [],
   "source": [
    "sql = 'INSERT INTO books VALUES(\"Chader Pahar\",\"13429\"),(\"kOLKATA\",\"1309\"),(\"pI\",\"13729\")'\n",
    "cursor.execute(sql)\n",
    "db.commit()"
   ]
  },
  {
   "cell_type": "code",
   "execution_count": 27,
   "metadata": {},
   "outputs": [
    {
     "output_type": "stream",
     "name": "stdout",
     "text": [
      "('kOLKATA', 1309)\n"
     ]
    }
   ],
   "source": [
    "sql = 'SELECT * FROM books WHERE isbn'\n",
    "cursor.execute(sql)\n",
    "rs=cursor.fetchall()\n",
    "for row in rs:\n",
    "    print (row)"
   ]
  },
  {
   "cell_type": "code",
   "execution_count": null,
   "metadata": {},
   "outputs": [],
   "source": []
  }
 ]
}