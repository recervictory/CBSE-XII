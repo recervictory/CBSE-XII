{
 "metadata": {
  "language_info": {
   "codemirror_mode": {
    "name": "ipython",
    "version": 3
   },
   "file_extension": ".py",
   "mimetype": "text/x-python",
   "name": "python",
   "nbconvert_exporter": "python",
   "pygments_lexer": "ipython3",
   "version": "3.7.4-final"
  },
  "orig_nbformat": 2,
  "kernelspec": {
   "name": "python3",
   "display_name": "Python 3.7.4 64-bit ('base': conda)",
   "metadata": {
    "interpreter": {
     "hash": "7dae6437c12b1d87f00e0e10a4bd22be66a3b8ec05fb1161d95372f28c39fa9e"
    }
   }
  }
 },
 "nbformat": 4,
 "nbformat_minor": 2,
 "cells": [
  {
   "source": [
    "# Importing important Library\n",
    "#!pip install ipython-sql\n",
    "import sqlite3\n",
    "# Then load the SQL module:\n",
    "%load_ext sql\n",
    "#connection string to connect to the database\n",
    "%sql sqlite://"
   ],
   "cell_type": "code",
   "metadata": {
    "tags": []
   },
   "execution_count": 1,
   "outputs": []
  },
  {
   "cell_type": "code",
   "execution_count": 2,
   "metadata": {
    "tags": []
   },
   "outputs": [
    {
     "output_type": "stream",
     "name": "stdout",
     "text": [
      " * sqlite://\nDone.\nDone.\n"
     ]
    },
    {
     "output_type": "execute_result",
     "data": {
      "text/plain": [
       "[]"
      ]
     },
     "metadata": {},
     "execution_count": 2
    }
   ],
   "source": [
    "%%sql\n",
    "-- This create the table name personal\n",
    "CREATE TABLE personal (\n",
    "    Empno integer NOT NULL UNIQUE,\n",
    "    Name varchar(255) NOT NULL,\n",
    "    DoB date CHECK (Dob > '1960-01-12'),\n",
    "    Nativeplace varchar(255),\n",
    "    Hobby varchar(255) NOT NULL\n",
    ");\n",
    "\n",
    "-- This create the table name job\n",
    "CREATE TABLE job (\n",
    "    sno integer NOT NULL UNIQUE,\n",
    "    Area varchar(255) NOT NULL,\n",
    "    App_date date,\n",
    "    Salary integer CHECK (Salary BETWEEN 4000 AND 10000),\n",
    "    Retd_date date,\n",
    "    Dept varchar(255) NOT NULL\n",
    ");"
   ]
  },
  {
   "cell_type": "code",
   "execution_count": 3,
   "metadata": {
    "tags": []
   },
   "outputs": [
    {
     "output_type": "stream",
     "name": "stdout",
     "text": [
      " * sqlite://\n1 rows affected.\n1 rows affected.\n1 rows affected.\n1 rows affected.\n1 rows affected.\n1 rows affected.\n1 rows affected.\n1 rows affected.\n1 rows affected.\n1 rows affected.\n1 rows affected.\n1 rows affected.\n"
     ]
    },
    {
     "output_type": "execute_result",
     "data": {
      "text/plain": [
       "[]"
      ]
     },
     "metadata": {},
     "execution_count": 3
    }
   ],
   "source": [
    "%%sql\n",
    "INSERT into personal values(123,'Amit','1965-01-23','Delhi','Music');\n",
    "INSERT into personal values(127,'Manoj','1976-12-12','Mumbai','Writing');\n",
    "INSERT into personal values(124,'Abhai','1975-08-11','Allahabad','Music');\n",
    "INSERT into personal values(125,'Vinod','1977-04-04','Delhi','Sports');\n",
    "INSERT into personal values(128,'Abhay','1974-10-03','Mumbai','Gardening');\n",
    "INSERT into personal values(129,'Ramesh','1981-10-28','Pune','Sports');\n",
    "\n",
    "INSERT into job values(123,'Agra','2006-01-25',5000,'2026-01-25','Marketing');\n",
    "INSERT into job values(127,'Mathura','2006-12-22',6000,'2026-12-22','Finance');\n",
    "INSERT into job values(124,'Agra','2007-08-19',5500,'2027-08-19','Marketing');\n",
    "INSERT into job values(125,'Delhi','2004-04-14',8500,'2026-04-14','Marketing');\n",
    "INSERT into job values(128,'Pune','2008-03-13',7500,'2026-01-25','Sales');\n",
    "INSERT into job values(129,'Surat','2005-01-20',9000,'2028-03-13','Sales');"
   ]
  },
  {
   "cell_type": "code",
   "execution_count": 7,
   "metadata": {
    "tags": []
   },
   "outputs": [
    {
     "output_type": "stream",
     "name": "stderr",
     "text": [
      "UsageError: Cell magic `%%sql%%sql` not found.\n"
     ]
    }
   ],
   "source": [
    "%%sql%%sql\n",
    "SELECT * FROM personal;"
   ]
  },
  {
   "cell_type": "code",
   "execution_count": 5,
   "metadata": {
    "tags": []
   },
   "outputs": [
    {
     "output_type": "stream",
     "name": "stdout",
     "text": " * sqlite://\nDone.\n"
    },
    {
     "output_type": "execute_result",
     "data": {
      "text/plain": "[(123, 'Agra', '2006-01-25', 5000, '2026-01-25', 'Marketing'),\n (127, 'Mathura', '2006-12-22', 6000, '2026-12-22', 'Finance'),\n (124, 'Agra', '2007-08-19', 5500, '2027-08-19', 'Marketing'),\n (125, 'Delhi', '2004-04-14', 8500, '2026-04-14', 'Marketing'),\n (128, 'Pune', '2008-03-13', 7500, '2026-01-25', 'Sales'),\n (129, 'Surat', '2005-01-20', 9000, '2028-03-13', 'Sales')]",
      "text/html": "<table>\n    <tr>\n        <th>sno</th>\n        <th>Area</th>\n        <th>App_date</th>\n        <th>Salary</th>\n        <th>Retd_date</th>\n        <th>Dept</th>\n    </tr>\n    <tr>\n        <td>123</td>\n        <td>Agra</td>\n        <td>2006-01-25</td>\n        <td>5000</td>\n        <td>2026-01-25</td>\n        <td>Marketing</td>\n    </tr>\n    <tr>\n        <td>127</td>\n        <td>Mathura</td>\n        <td>2006-12-22</td>\n        <td>6000</td>\n        <td>2026-12-22</td>\n        <td>Finance</td>\n    </tr>\n    <tr>\n        <td>124</td>\n        <td>Agra</td>\n        <td>2007-08-19</td>\n        <td>5500</td>\n        <td>2027-08-19</td>\n        <td>Marketing</td>\n    </tr>\n    <tr>\n        <td>125</td>\n        <td>Delhi</td>\n        <td>2004-04-14</td>\n        <td>8500</td>\n        <td>2026-04-14</td>\n        <td>Marketing</td>\n    </tr>\n    <tr>\n        <td>128</td>\n        <td>Pune</td>\n        <td>2008-03-13</td>\n        <td>7500</td>\n        <td>2026-01-25</td>\n        <td>Sales</td>\n    </tr>\n    <tr>\n        <td>129</td>\n        <td>Surat</td>\n        <td>2005-01-20</td>\n        <td>9000</td>\n        <td>2028-03-13</td>\n        <td>Sales</td>\n    </tr>\n</table>"
     },
     "metadata": {},
     "execution_count": 5
    }
   ],
   "source": [
    "%%sql\n",
    "SELECT * FROM job;"
   ]
  },
  {
   "source": [
    "## 1. Show number of employee area wise"
   ],
   "cell_type": "markdown",
   "metadata": {}
  },
  {
   "cell_type": "code",
   "execution_count": 6,
   "metadata": {
    "tags": []
   },
   "outputs": [
    {
     "output_type": "stream",
     "name": "stdout",
     "text": " * sqlite://\nDone.\n"
    },
    {
     "output_type": "execute_result",
     "data": {
      "text/plain": "[('Agra', 2), ('Delhi', 1), ('Mathura', 1), ('Pune', 1), ('Surat', 1)]",
      "text/html": "<table>\n    <tr>\n        <th>Area</th>\n        <th>Number of Employee</th>\n    </tr>\n    <tr>\n        <td>Agra</td>\n        <td>2</td>\n    </tr>\n    <tr>\n        <td>Delhi</td>\n        <td>1</td>\n    </tr>\n    <tr>\n        <td>Mathura</td>\n        <td>1</td>\n    </tr>\n    <tr>\n        <td>Pune</td>\n        <td>1</td>\n    </tr>\n    <tr>\n        <td>Surat</td>\n        <td>1</td>\n    </tr>\n</table>"
     },
     "metadata": {},
     "execution_count": 6
    }
   ],
   "source": [
    "%%sql\n",
    "SELECT Area, COUNT(*) AS \"Number of Employee\"\n",
    "FROM job\n",
    "GROUP BY Area;"
   ]
  },
  {
   "source": [
    "## 2. Show the hobbies and native places of those whose name pronounces as 'Abhay'."
   ],
   "cell_type": "markdown",
   "metadata": {}
  },
  {
   "cell_type": "code",
   "execution_count": 7,
   "metadata": {
    "tags": []
   },
   "outputs": [
    {
     "output_type": "stream",
     "name": "stdout",
     "text": " * sqlite://\nDone.\n"
    },
    {
     "output_type": "execute_result",
     "data": {
      "text/plain": "[('Gardening', 'Mumbai')]",
      "text/html": "<table>\n    <tr>\n        <th>Hobby</th>\n        <th>Nativeplace</th>\n    </tr>\n    <tr>\n        <td>Gardening</td>\n        <td>Mumbai</td>\n    </tr>\n</table>"
     },
     "metadata": {},
     "execution_count": 7
    }
   ],
   "source": [
    "%%sql\n",
    "SELECT Hobby,Nativeplace\n",
    "FROM personal\n",
    "WHERE Name = 'Abhay';"
   ]
  },
  {
   "source": [
    "## 3. Increase salary of the employees by 5% of their present salary with hobby as Music"
   ],
   "cell_type": "markdown",
   "metadata": {}
  },
  {
   "cell_type": "code",
   "execution_count": 8,
   "metadata": {
    "tags": []
   },
   "outputs": [
    {
     "output_type": "stream",
     "name": "stdout",
     "text": " * sqlite://\n2 rows affected.\n"
    },
    {
     "output_type": "execute_result",
     "data": {
      "text/plain": "[]"
     },
     "metadata": {},
     "execution_count": 8
    }
   ],
   "source": [
    "%%sql\n",
    "UPDATE job\n",
    "SET \n",
    "    Salary = Salary * 1.05\n",
    "WHERE \n",
    "    sno IN ( SELECT Empno\n",
    "            FROM personal\n",
    "            WHERE Hobby = \"Music\"\n",
    "    );"
   ]
  },
  {
   "cell_type": "code",
   "execution_count": 9,
   "metadata": {
    "tags": []
   },
   "outputs": [
    {
     "output_type": "stream",
     "name": "stdout",
     "text": " * sqlite://\nDone.\n"
    },
    {
     "output_type": "execute_result",
     "data": {
      "text/plain": "[(123, 'Agra', '2006-01-25', 5250, '2026-01-25', 'Marketing'),\n (127, 'Mathura', '2006-12-22', 6000, '2026-12-22', 'Finance'),\n (124, 'Agra', '2007-08-19', 5775, '2027-08-19', 'Marketing'),\n (125, 'Delhi', '2004-04-14', 8500, '2026-04-14', 'Marketing'),\n (128, 'Pune', '2008-03-13', 7500, '2026-01-25', 'Sales'),\n (129, 'Surat', '2005-01-20', 9000, '2028-03-13', 'Sales')]",
      "text/html": "<table>\n    <tr>\n        <th>sno</th>\n        <th>Area</th>\n        <th>App_date</th>\n        <th>Salary</th>\n        <th>Retd_date</th>\n        <th>Dept</th>\n    </tr>\n    <tr>\n        <td>123</td>\n        <td>Agra</td>\n        <td>2006-01-25</td>\n        <td>5250</td>\n        <td>2026-01-25</td>\n        <td>Marketing</td>\n    </tr>\n    <tr>\n        <td>127</td>\n        <td>Mathura</td>\n        <td>2006-12-22</td>\n        <td>6000</td>\n        <td>2026-12-22</td>\n        <td>Finance</td>\n    </tr>\n    <tr>\n        <td>124</td>\n        <td>Agra</td>\n        <td>2007-08-19</td>\n        <td>5775</td>\n        <td>2027-08-19</td>\n        <td>Marketing</td>\n    </tr>\n    <tr>\n        <td>125</td>\n        <td>Delhi</td>\n        <td>2004-04-14</td>\n        <td>8500</td>\n        <td>2026-04-14</td>\n        <td>Marketing</td>\n    </tr>\n    <tr>\n        <td>128</td>\n        <td>Pune</td>\n        <td>2008-03-13</td>\n        <td>7500</td>\n        <td>2026-01-25</td>\n        <td>Sales</td>\n    </tr>\n    <tr>\n        <td>129</td>\n        <td>Surat</td>\n        <td>2005-01-20</td>\n        <td>9000</td>\n        <td>2028-03-13</td>\n        <td>Sales</td>\n    </tr>\n</table>"
     },
     "metadata": {},
     "execution_count": 9
    }
   ],
   "source": [
    "%%sql\n",
    "SELECT * FROM job;"
   ]
  },
  {
   "source": [
    "## 4.Show the hobby of which there are 2 or more employees"
   ],
   "cell_type": "markdown",
   "metadata": {}
  },
  {
   "cell_type": "code",
   "execution_count": 10,
   "metadata": {
    "tags": []
   },
   "outputs": [
    {
     "output_type": "stream",
     "name": "stdout",
     "text": " * sqlite://\nDone.\n"
    },
    {
     "output_type": "execute_result",
     "data": {
      "text/plain": "[('Music', 2), ('Sports', 2)]",
      "text/html": "<table>\n    <tr>\n        <th>Hobby</th>\n        <th>Number of Empolyee</th>\n    </tr>\n    <tr>\n        <td>Music</td>\n        <td>2</td>\n    </tr>\n    <tr>\n        <td>Sports</td>\n        <td>2</td>\n    </tr>\n</table>"
     },
     "metadata": {},
     "execution_count": 10
    }
   ],
   "source": [
    "%%sql\n",
    "SELECT Hobby, COUNT(*) As 'Number of Empolyee'\n",
    "FROM Personal\n",
    "GROUP BY Hobby\n",
    "HAVING COUNT(Hobby) >= 2;"
   ]
  },
  {
   "source": [
    "## 5. Show the appointment date & native place of those whose name starts with 'A' or ends with 'd'"
   ],
   "cell_type": "markdown",
   "metadata": {}
  },
  {
   "cell_type": "code",
   "execution_count": 11,
   "metadata": {
    "tags": []
   },
   "outputs": [
    {
     "output_type": "stream",
     "name": "stdout",
     "text": " * sqlite://\nDone.\n"
    },
    {
     "output_type": "execute_result",
     "data": {
      "text/plain": "[('2006-01-25', 'Delhi'),\n ('2007-08-19', 'Allahabad'),\n ('2008-03-13', 'Mumbai')]",
      "text/html": "<table>\n    <tr>\n        <th>App_date</th>\n        <th>Nativeplace</th>\n    </tr>\n    <tr>\n        <td>2006-01-25</td>\n        <td>Delhi</td>\n    </tr>\n    <tr>\n        <td>2007-08-19</td>\n        <td>Allahabad</td>\n    </tr>\n    <tr>\n        <td>2008-03-13</td>\n        <td>Mumbai</td>\n    </tr>\n</table>"
     },
     "metadata": {},
     "execution_count": 11
    }
   ],
   "source": [
    "%%sql\n",
    "SELECT job.App_date, personal.Nativeplace\n",
    "FROM personal INNER JOIN job\n",
    "ON personal.Empno = job.Sno\n",
    "WHERE Name LIKE 'A%' OR 'd%'"
   ]
  },
  {
   "source": [
    "# 6. Count the number of native places"
   ],
   "cell_type": "markdown",
   "metadata": {}
  },
  {
   "cell_type": "code",
   "execution_count": 12,
   "metadata": {
    "tags": []
   },
   "outputs": [
    {
     "output_type": "stream",
     "name": "stdout",
     "text": " * sqlite://\nDone.\n"
    },
    {
     "output_type": "execute_result",
     "data": {
      "text/plain": "[(6,)]",
      "text/html": "<table>\n    <tr>\n        <th>UNIQUE NATIVE PLACE</th>\n    </tr>\n    <tr>\n        <td>6</td>\n    </tr>\n</table>"
     },
     "metadata": {},
     "execution_count": 12
    }
   ],
   "source": [
    "%%sql \n",
    "SELECT DISTINCT COUNT(Nativeplace) AS 'UNIQUE NATIVE PLACE'\n",
    "FROM personal;"
   ]
  },
  {
   "source": [
    "# 7. Show the average salary of all employees of Agra and Delhi"
   ],
   "cell_type": "markdown",
   "metadata": {}
  },
  {
   "cell_type": "code",
   "execution_count": 13,
   "metadata": {
    "tags": []
   },
   "outputs": [
    {
     "output_type": "stream",
     "name": "stdout",
     "text": " * sqlite://\nDone.\n"
    },
    {
     "output_type": "execute_result",
     "data": {
      "text/plain": "[('Agra', 5512.5), ('Delhi', 8500.0)]",
      "text/html": "<table>\n    <tr>\n        <th>Area</th>\n        <th>Average Salary</th>\n    </tr>\n    <tr>\n        <td>Agra</td>\n        <td>5512.5</td>\n    </tr>\n    <tr>\n        <td>Delhi</td>\n        <td>8500.0</td>\n    </tr>\n</table>"
     },
     "metadata": {},
     "execution_count": 13
    }
   ],
   "source": [
    "%%sql\n",
    "SELECT Area, AVG(Salary) AS 'Average Salary'\n",
    "FROM job\n",
    "GROUP BY AREA\n",
    "HAVING AREA IN ('Agra','Delhi');"
   ]
  },
  {
   "source": [
    "# 8. Show the name of eldest employee"
   ],
   "cell_type": "markdown",
   "metadata": {}
  },
  {
   "cell_type": "code",
   "execution_count": 14,
   "metadata": {
    "tags": []
   },
   "outputs": [
    {
     "output_type": "stream",
     "name": "stdout",
     "text": " * sqlite://\nDone.\n"
    },
    {
     "output_type": "execute_result",
     "data": {
      "text/plain": "[('Amit',)]",
      "text/html": "<table>\n    <tr>\n        <th>Eldest mployee</th>\n    </tr>\n    <tr>\n        <td>Amit</td>\n    </tr>\n</table>"
     },
     "metadata": {},
     "execution_count": 14
    }
   ],
   "source": [
    "%%sql\n",
    "SELECT name AS 'Eldest mployee'\n",
    "FROM personal\n",
    "ORDER BY Dob LIMIT 1;"
   ]
  },
  {
   "source": [
    "## 9. Show the salary expense with suitable column heading of those who shall retire after Jan-2026"
   ],
   "cell_type": "markdown",
   "metadata": {}
  },
  {
   "cell_type": "code",
   "execution_count": 15,
   "metadata": {
    "tags": []
   },
   "outputs": [
    {
     "output_type": "stream",
     "name": "stdout",
     "text": " * sqlite://\nDone.\n"
    },
    {
     "output_type": "execute_result",
     "data": {
      "text/plain": "[(42025,)]",
      "text/html": "<table>\n    <tr>\n        <th>Salary Expense</th>\n    </tr>\n    <tr>\n        <td>42025</td>\n    </tr>\n</table>"
     },
     "metadata": {},
     "execution_count": 15
    }
   ],
   "source": [
    "%%sql\n",
    "SELECT SUM(Salary) AS 'Salary Expense'\n",
    "FROM job\n",
    "WHERE Retd_date\t> '2026-01-01';"
   ]
  },
  {
   "source": [
    "## 10.  Show empno, area, appointment date, department of the employees"
   ],
   "cell_type": "markdown",
   "metadata": {}
  },
  {
   "cell_type": "code",
   "execution_count": 16,
   "metadata": {
    "tags": []
   },
   "outputs": [
    {
     "output_type": "stream",
     "name": "stdout",
     "text": " * sqlite://\nDone.\n"
    },
    {
     "output_type": "execute_result",
     "data": {
      "text/plain": "[(123, 'Agra', '2006-01-25', 'Marketing'),\n (127, 'Mathura', '2006-12-22', 'Finance'),\n (124, 'Agra', '2007-08-19', 'Marketing'),\n (125, 'Delhi', '2004-04-14', 'Marketing'),\n (128, 'Pune', '2008-03-13', 'Sales'),\n (129, 'Surat', '2005-01-20', 'Sales')]",
      "text/html": "<table>\n    <tr>\n        <th>Empno</th>\n        <th>Area</th>\n        <th>App_date</th>\n        <th>Dept</th>\n    </tr>\n    <tr>\n        <td>123</td>\n        <td>Agra</td>\n        <td>2006-01-25</td>\n        <td>Marketing</td>\n    </tr>\n    <tr>\n        <td>127</td>\n        <td>Mathura</td>\n        <td>2006-12-22</td>\n        <td>Finance</td>\n    </tr>\n    <tr>\n        <td>124</td>\n        <td>Agra</td>\n        <td>2007-08-19</td>\n        <td>Marketing</td>\n    </tr>\n    <tr>\n        <td>125</td>\n        <td>Delhi</td>\n        <td>2004-04-14</td>\n        <td>Marketing</td>\n    </tr>\n    <tr>\n        <td>128</td>\n        <td>Pune</td>\n        <td>2008-03-13</td>\n        <td>Sales</td>\n    </tr>\n    <tr>\n        <td>129</td>\n        <td>Surat</td>\n        <td>2005-01-20</td>\n        <td>Sales</td>\n    </tr>\n</table>"
     },
     "metadata": {},
     "execution_count": 16
    }
   ],
   "source": [
    "%%sql \n",
    "SELECT Empno, Area, App_date, Dept\n",
    "FROM personal INNER join JOB\n",
    "ON personal.Empno = job.Sno;"
   ]
  },
  {
   "source": [
    "## 11. Add a new column email in Job table"
   ],
   "cell_type": "markdown",
   "metadata": {}
  },
  {
   "cell_type": "code",
   "execution_count": 17,
   "metadata": {
    "tags": []
   },
   "outputs": [
    {
     "output_type": "stream",
     "name": "stdout",
     "text": " * sqlite://\nDone.\n"
    },
    {
     "output_type": "execute_result",
     "data": {
      "text/plain": "[]"
     },
     "metadata": {},
     "execution_count": 17
    }
   ],
   "source": [
    "%%sql\n",
    "ALTER TABLE Job\n",
    "ADD Email varchar(255);"
   ]
  },
  {
   "cell_type": "code",
   "execution_count": 18,
   "metadata": {
    "tags": []
   },
   "outputs": [
    {
     "output_type": "stream",
     "name": "stdout",
     "text": " * sqlite://\nDone.\n"
    },
    {
     "output_type": "execute_result",
     "data": {
      "text/plain": "[(123, 'Agra', '2006-01-25', 5250, '2026-01-25', 'Marketing', None),\n (127, 'Mathura', '2006-12-22', 6000, '2026-12-22', 'Finance', None),\n (124, 'Agra', '2007-08-19', 5775, '2027-08-19', 'Marketing', None),\n (125, 'Delhi', '2004-04-14', 8500, '2026-04-14', 'Marketing', None),\n (128, 'Pune', '2008-03-13', 7500, '2026-01-25', 'Sales', None),\n (129, 'Surat', '2005-01-20', 9000, '2028-03-13', 'Sales', None)]",
      "text/html": "<table>\n    <tr>\n        <th>sno</th>\n        <th>Area</th>\n        <th>App_date</th>\n        <th>Salary</th>\n        <th>Retd_date</th>\n        <th>Dept</th>\n        <th>Email</th>\n    </tr>\n    <tr>\n        <td>123</td>\n        <td>Agra</td>\n        <td>2006-01-25</td>\n        <td>5250</td>\n        <td>2026-01-25</td>\n        <td>Marketing</td>\n        <td>None</td>\n    </tr>\n    <tr>\n        <td>127</td>\n        <td>Mathura</td>\n        <td>2006-12-22</td>\n        <td>6000</td>\n        <td>2026-12-22</td>\n        <td>Finance</td>\n        <td>None</td>\n    </tr>\n    <tr>\n        <td>124</td>\n        <td>Agra</td>\n        <td>2007-08-19</td>\n        <td>5775</td>\n        <td>2027-08-19</td>\n        <td>Marketing</td>\n        <td>None</td>\n    </tr>\n    <tr>\n        <td>125</td>\n        <td>Delhi</td>\n        <td>2004-04-14</td>\n        <td>8500</td>\n        <td>2026-04-14</td>\n        <td>Marketing</td>\n        <td>None</td>\n    </tr>\n    <tr>\n        <td>128</td>\n        <td>Pune</td>\n        <td>2008-03-13</td>\n        <td>7500</td>\n        <td>2026-01-25</td>\n        <td>Sales</td>\n        <td>None</td>\n    </tr>\n    <tr>\n        <td>129</td>\n        <td>Surat</td>\n        <td>2005-01-20</td>\n        <td>9000</td>\n        <td>2028-03-13</td>\n        <td>Sales</td>\n        <td>None</td>\n    </tr>\n</table>"
     },
     "metadata": {},
     "execution_count": 18
    }
   ],
   "source": [
    "%%sql\n",
    "SELECT * FROM job;"
   ]
  },
  {
   "source": [
    "## 12. Create a view of personal and job details of those who have served less than 15 years"
   ],
   "cell_type": "markdown",
   "metadata": {}
  },
  {
   "cell_type": "code",
   "execution_count": 8,
   "metadata": {
    "tags": []
   },
   "outputs": [
    {
     "output_type": "stream",
     "name": "stdout",
     "text": " * sqlite://\nDone.\n"
    },
    {
     "output_type": "execute_result",
     "data": {
      "text/plain": "[('2004-04-14',), ('2005-01-20',)]",
      "text/html": "<table>\n    <tr>\n        <th>App_date</th>\n    </tr>\n    <tr>\n        <td>2004-04-14</td>\n    </tr>\n    <tr>\n        <td>2005-01-20</td>\n    </tr>\n</table>"
     },
     "metadata": {},
     "execution_count": 8
    }
   ],
   "source": [
    "%%sql\n",
    "SELECT App_date\n",
    "FROM personal INNER JOIN job\n",
    "ON personal.Empno = job.Sno\n",
    "WHERE App_date < date('now','-15 years');"
   ]
  },
  {
   "cell_type": "code",
   "execution_count": 7,
   "metadata": {
    "tags": []
   },
   "outputs": [
    {
     "output_type": "stream",
     "name": "stdout",
     "text": " * sqlite://\n(sqlite3.OperationalError) near \"(\": syntax error\n[SQL: SELECT * FROM job\nWHERE YEAR(CURRENT_DATE()) - YEAR(App_date) < 15;]\n(Background on this error at: http://sqlalche.me/e/e3q8)\n"
    }
   ],
   "source": [
    "%%sql\n",
    "SELECT * FROM personal INNER\n",
    "WHERE YEAR(CURRENT_DATE()) - YEAR(App_date) < 15;"
   ]
  },
  {
   "cell_type": "code",
   "execution_count": null,
   "metadata": {},
   "outputs": [],
   "source": [
    "SELECT * \n",
    "FROM personal INNER JOIN job\n",
    "ON personal.Empno = job.Sno\n",
    "WHERE YEAR(CURRENT_DATE()) - YEAR(App_date) > 15"
   ]
  },
  {
   "source": [],
   "cell_type": "markdown",
   "metadata": {}
  }
 ]
}