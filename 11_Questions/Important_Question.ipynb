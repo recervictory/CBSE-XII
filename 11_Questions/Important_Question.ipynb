{
 "metadata": {
  "language_info": {
   "codemirror_mode": {
    "name": "ipython",
    "version": 3
   },
   "file_extension": ".py",
   "mimetype": "text/x-python",
   "name": "python",
   "nbconvert_exporter": "python",
   "pygments_lexer": "ipython3",
   "version": "3.7.4-final"
  },
  "orig_nbformat": 2,
  "kernelspec": {
   "name": "python3",
   "display_name": "Python 3",
   "language": "python"
  }
 },
 "nbformat": 4,
 "nbformat_minor": 2,
 "cells": [
  {
   "source": [
    "### Q1. Write a function that take a number as a input and print the prime number series till the number:"
   ],
   "cell_type": "markdown",
   "metadata": {}
  },
  {
   "cell_type": "code",
   "execution_count": 1,
   "metadata": {},
   "outputs": [],
   "source": [
    "def isPrime(num):\n",
    "    for i in range(2,num):\n",
    "        if num % i == 0:\n",
    "            return False\n",
    "    return True"
   ]
  },
  {
   "cell_type": "code",
   "execution_count": 2,
   "metadata": {},
   "outputs": [
    {
     "output_type": "execute_result",
     "data": {
      "text/plain": [
       "[2,\n",
       " 3,\n",
       " 5,\n",
       " 7,\n",
       " 11,\n",
       " 13,\n",
       " 17,\n",
       " 19,\n",
       " 23,\n",
       " 29,\n",
       " 31,\n",
       " 37,\n",
       " 41,\n",
       " 43,\n",
       " 47,\n",
       " 53,\n",
       " 59,\n",
       " 61,\n",
       " 67,\n",
       " 71,\n",
       " 73,\n",
       " 79,\n",
       " 83,\n",
       " 89,\n",
       " 97]"
      ]
     },
     "metadata": {},
     "execution_count": 2
    }
   ],
   "source": [
    "def primeSeries(num):\n",
    "    return list(filter(isPrime,range(2,num)))\n",
    "\n",
    "primeSeries(100)"
   ]
  },
  {
   "source": [
    "Q2. "
   ],
   "cell_type": "markdown",
   "metadata": {}
  },
  {
   "cell_type": "code",
   "execution_count": 9,
   "metadata": {},
   "outputs": [
    {
     "output_type": "execute_result",
     "data": {
      "text/plain": [
       "'H*, My n*m* *s V*ct*r.'"
      ]
     },
     "metadata": {},
     "execution_count": 9
    }
   ],
   "source": [
    "def vowelReplace(string):\n",
    "    new = ''\n",
    "    for ch in string:\n",
    "        if ch.lower()  in 'aeiou':\n",
    "            new += '*'\n",
    "        else:\n",
    "            new += ch\n",
    "    return new\n",
    "\n",
    "vowelReplace('Hi, My name is Victor.')"
   ]
  },
  {
   "source": [
    "### Write a function to open the text file ABC.txt and count the number of words that start with ‘the’, like the, their, they, them, these etc"
   ],
   "cell_type": "markdown",
   "metadata": {}
  },
  {
   "source": [],
   "cell_type": "markdown",
   "metadata": {}
  },
  {
   "cell_type": "code",
   "execution_count": 55,
   "metadata": {},
   "outputs": [
    {
     "output_type": "stream",
     "name": "stdout",
     "text": [
      "\\^com\n"
     ]
    },
    {
     "output_type": "execute_result",
     "data": {
      "text/plain": [
       "0"
      ]
     },
     "metadata": {},
     "execution_count": 55
    }
   ],
   "source": [
    "import re\n",
    "\n",
    "def startWith(file,pattern):\n",
    "    with open (file,'r') as fh:\n",
    "        txt = fh.read()\n",
    "        \n",
    "    return len(match)\n",
    "startWith('zen.txt','com')"
   ]
  },
  {
   "cell_type": "code",
   "execution_count": 48,
   "metadata": {},
   "outputs": [
    {
     "output_type": "execute_result",
     "data": {
      "text/plain": [
       "0"
      ]
     },
     "metadata": {},
     "execution_count": 48
    }
   ],
   "source": [
    "startWith('zen.txt','com')"
   ]
  },
  {
   "cell_type": "code",
   "execution_count": 11,
   "metadata": {},
   "outputs": [
    {
     "output_type": "execute_result",
     "data": {
      "text/plain": [
       "['Use']"
      ]
     },
     "metadata": {},
     "execution_count": 11
    }
   ],
   "source": [
    "import re\n",
    "txt = \"Use of python in Machine Learning\"\n",
    "x = re.findall(\"^Use\", txt)\n",
    "x"
   ]
  },
  {
   "source": [
    "### Write a function that take input two list compare each elements and return another list.\n"
   ],
   "cell_type": "markdown",
   "metadata": {}
  },
  {
   "cell_type": "code",
   "execution_count": null,
   "metadata": {},
   "outputs": [],
   "source": [
    "def compare_list(list1,list2):\n",
    "    if len(list1) != len(list2) return 'List'\n",
    "    result = []\n",
    "    for i in range(len(list1)):\n",
    "        if list1[i] == list2[i]:\n",
    "            result.append(True)\n",
    "        else:\n",
    "            result.append(False)\n",
    "    return result\n"
   ]
  },
  {
   "source": [
    "def cumsum(list1):\n",
    "    sum_list = []\n",
    "    csum = \n",
    "    for num in list1:\n",
    "        csum += num\n",
    "        sum_list.append(csum)\n",
    "    return sum_list\n",
    "cumsum([1,2,3,4])"
   ],
   "cell_type": "code",
   "metadata": {},
   "execution_count": 8,
   "outputs": [
    {
     "output_type": "execute_result",
     "data": {
      "text/plain": [
       "[1, 2, 6, 24]"
      ]
     },
     "metadata": {},
     "execution_count": 8
    }
   ]
  },
  {
   "cell_type": "code",
   "execution_count": 20,
   "metadata": {},
   "outputs": [
    {
     "output_type": "execute_result",
     "data": {
      "text/plain": [
       "[1, 2, 6, 24]"
      ]
     },
     "metadata": {},
     "execution_count": 20
    }
   ],
   "source": [
    "def cumsum(list1):\n",
    "    sum_list = []\n",
    "    csum = 1\n",
    "    for i in range(len(list1)):\n",
    "        sum_list.append(mul(list1[:i+1]))\n",
    "    return sum_list\n",
    "cumsum([1,2,3,4])"
   ]
  },
  {
   "cell_type": "code",
   "execution_count": 19,
   "metadata": {},
   "outputs": [],
   "source": [
    "def mul(n):\n",
    "    p = 1\n",
    "    for i in n:\n",
    "        p *=i\n",
    "    return p\n"
   ]
  },
  {
   "cell_type": "code",
   "execution_count": 45,
   "metadata": {},
   "outputs": [
    {
     "output_type": "execute_result",
     "data": {
      "text/plain": [
       "(52, 52)"
      ]
     },
     "metadata": {},
     "execution_count": 45
    }
   ],
   "source": [
    "def largest_two(l):\n",
    "    max1 = l[0]\n",
    "    for i in range(1,len(l)):\n",
    "        if max1 < l[i]:\n",
    "            max1 = l[i]\n",
    "    max2 = l[0]\n",
    "    for i in range(2,len(l)):\n",
    "        if max2  < l[i] and max2 != max1:\n",
    "            max2 = l[i]\n",
    "    return max1 , max2\n",
    "largest_two([1,2,10,4,52,46,6,5,7,7])"
   ]
  },
  {
   "cell_type": "code",
   "execution_count": 44,
   "metadata": {},
   "outputs": [
    {
     "output_type": "execute_result",
     "data": {
      "text/plain": [
       "200"
      ]
     },
     "metadata": {},
     "execution_count": 44
    }
   ],
   "source": [
    "def largest_two(l):\n",
    "    l.sort()\n",
    "    return l[-1] * l[-2]\n",
    "largest_two([1,2,20,4,10,4,6,5,7,7])"
   ]
  },
  {
   "cell_type": "code",
   "execution_count": null,
   "metadata": {},
   "outputs": [],
   "source": []
  }
 ]
}