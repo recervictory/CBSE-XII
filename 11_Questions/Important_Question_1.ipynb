{
 "metadata": {
  "language_info": {
   "codemirror_mode": {
    "name": "ipython",
    "version": 3
   },
   "file_extension": ".py",
   "mimetype": "text/x-python",
   "name": "python",
   "nbconvert_exporter": "python",
   "pygments_lexer": "ipython3",
   "version": "3.7.4-final"
  },
  "orig_nbformat": 2,
  "kernelspec": {
   "name": "python3",
   "display_name": "Python 3.7.4 64-bit ('base': conda)",
   "metadata": {
    "interpreter": {
     "hash": "7dae6437c12b1d87f00e0e10a4bd22be66a3b8ec05fb1161d95372f28c39fa9e"
    }
   }
  }
 },
 "nbformat": 4,
 "nbformat_minor": 2,
 "cells": [
  {
   "source": [
    "## Question 1: Write a python program that accept a string and calculate the number of upper case and lower case letters."
   ],
   "cell_type": "markdown",
   "metadata": {}
  },
  {
   "cell_type": "code",
   "execution_count": 3,
   "metadata": {},
   "outputs": [],
   "source": [
    "# define string counter\n",
    "def strCounter(strings):\n",
    "    upper_case = 0\n",
    "    lower_case = 0\n",
    "    digits = 0\n",
    "    space = 0\n",
    "    for letter in strings:\n",
    "        if letter.isupper():\n",
    "            upper_case += 1\n",
    "        elif letter.islower():\n",
    "            lower_case += 1\n",
    "        elif letter.isdigit():\n",
    "            digits += 1\n",
    "        elif letter.isspace():\n",
    "            space +=1\n",
    "        else:\n",
    "            pass\n",
    "    return upper_case,lower_case,digits,space"
   ]
  },
  {
   "cell_type": "code",
   "execution_count": 5,
   "metadata": {},
   "outputs": [
    {
     "output_type": "execute_result",
     "data": {
      "text/plain": [
       "(4, 38, 4, 10)"
      ]
     },
     "metadata": {},
     "execution_count": 5
    }
   ],
   "source": [
    "# Calling the counter\n",
    "strCounter(\"Hello, This is a test String. My enrollment number is 1243\")"
   ]
  },
  {
   "source": [
    "## Question 2: Write a python program that accept a strings as input and return a strings as lower/upper case."
   ],
   "cell_type": "markdown",
   "metadata": {}
  },
  {
   "cell_type": "code",
   "execution_count": 9,
   "metadata": {},
   "outputs": [],
   "source": [
    "def stringCase(string):\n",
    "    return string.upper(), string.lower()"
   ]
  },
  {
   "cell_type": "code",
   "execution_count": 10,
   "metadata": {},
   "outputs": [
    {
     "output_type": "execute_result",
     "data": {
      "text/plain": [
       "('THIS IS TEST STRING', 'this is test string', 19)"
      ]
     },
     "metadata": {},
     "execution_count": 10
    }
   ],
   "source": [
    "stringCase('This is test string')"
   ]
  },
  {
   "source": [
    "## Question 3: Write a python program that reverse a string."
   ],
   "cell_type": "markdown",
   "metadata": {}
  },
  {
   "cell_type": "code",
   "execution_count": 11,
   "metadata": {},
   "outputs": [
    {
     "output_type": "execute_result",
     "data": {
      "text/plain": [
       "'atakloK olleh'"
      ]
     },
     "metadata": {},
     "execution_count": 11
    }
   ],
   "source": [
    "def reverseString(string):\n",
    "    return string[::-1]\n",
    "reverseString(\"hello Kolkata\")"
   ]
  },
  {
   "cell_type": "code",
   "execution_count": 12,
   "metadata": {},
   "outputs": [],
   "source": [
    "def sentence(string):\n",
    "    return string.split('.')"
   ]
  },
  {
   "cell_type": "code",
   "execution_count": 14,
   "metadata": {},
   "outputs": [
    {
     "output_type": "execute_result",
     "data": {
      "text/plain": [
       "['This is a text', ' I am Victor']"
      ]
     },
     "metadata": {},
     "execution_count": 14
    }
   ],
   "source": [
    "sentence(\"This is a text. I am Victor\")"
   ]
  },
  {
   "cell_type": "code",
   "execution_count": 36,
   "metadata": {},
   "outputs": [
    {
     "output_type": "stream",
     "name": "stdout",
     "text": [
      "T\nI\n0\n"
     ]
    }
   ],
   "source": [
    "def firstLetter(sen):\n",
    "    l = sentence(sen)\n",
    "    for i in l:\n",
    "        print(i[0])\n",
    "\n",
    "firstLetter(\"This is a text.I am Victor.0 have a book\")"
   ]
  },
  {
   "cell_type": "code",
   "execution_count": 8,
   "metadata": {},
   "outputs": [
    {
     "output_type": "execute_result",
     "data": {
      "text/plain": [
       "'Hello, My Name is Victor.\\nThis is a line.\\nMy name is That.\\n'"
      ]
     },
     "metadata": {},
     "execution_count": 8
    }
   ],
   "source": [
    "string = 'Hello, My Name is Victor.\\nThis is a line.\\nMy name is That.\\n'\n",
    "string"
   ]
  },
  {
   "cell_type": "code",
   "execution_count": 37,
   "metadata": {},
   "outputs": [
    {
     "output_type": "execute_result",
     "data": {
      "text/plain": [
       "['My', 'name', 'is', 'Victor']"
      ]
     },
     "metadata": {},
     "execution_count": 37
    }
   ],
   "source": [
    "lst = 'My name is Victor'.split(\" \")\n",
    "lst"
   ]
  },
  {
   "cell_type": "code",
   "execution_count": 21,
   "metadata": {},
   "outputs": [
    {
     "output_type": "execute_result",
     "data": {
      "text/plain": [
       "'This is a String'"
      ]
     },
     "metadata": {},
     "execution_count": 21
    }
   ],
   "source": [
    "\" \".join(lst)"
   ]
  },
  {
   "cell_type": "code",
   "execution_count": 34,
   "metadata": {},
   "outputs": [],
   "source": [
    "def splt(string,sep):\n",
    "    lst = []\n",
    "    last = 0\n",
    "    for s in range(len(string)):\n",
    "        if string[s] == sep:\n",
    "            lst.append(string[last:s])\n",
    "            last = s\n",
    "    lst.append(string[last:])\n",
    "    return lst"
   ]
  },
  {
   "cell_type": "code",
   "execution_count": 35,
   "metadata": {},
   "outputs": [
    {
     "output_type": "execute_result",
     "data": {
      "text/plain": [
       "['My', ' name', ' is', ' Victor']"
      ]
     },
     "metadata": {},
     "execution_count": 35
    }
   ],
   "source": [
    "splt('My name is Victor',' ')"
   ]
  },
  {
   "cell_type": "code",
   "execution_count": 41,
   "metadata": {},
   "outputs": [
    {
     "output_type": "execute_result",
     "data": {
      "text/plain": [
       "[1, 3, 6, 10, 15]"
      ]
     },
     "metadata": {},
     "execution_count": 41
    }
   ],
   "source": [
    "def cumPro(lst):\n",
    "    s = 0\n",
    "    new = []\n",
    "    for e in lst:\n",
    "        s += e\n",
    "        new.append(s)\n",
    "    return new\n",
    "cumPro([1,2,3,4,5])"
   ]
  },
  {
   "cell_type": "code",
   "execution_count": 61,
   "metadata": {},
   "outputs": [],
   "source": [
    "lst = [,1,3,4,4,5,7,2,10,3,4,5]"
   ]
  },
  {
   "cell_type": "code",
   "execution_count": 57,
   "metadata": {},
   "outputs": [],
   "source": [
    "def linearSearch(lst,num):\n",
    "    for index in range(len(lst)):\n",
    "        if num == lst[index]:\n",
    "            return index\n",
    "    return -1"
   ]
  },
  {
   "cell_type": "code",
   "execution_count": 62,
   "metadata": {},
   "outputs": [
    {
     "output_type": "execute_result",
     "data": {
      "text/plain": [
       "2"
      ]
     },
     "metadata": {},
     "execution_count": 62
    }
   ],
   "source": [
    "linearSearch(lst,10)"
   ]
  },
  {
   "cell_type": "code",
   "execution_count": 68,
   "metadata": {},
   "outputs": [
    {
     "output_type": "execute_result",
     "data": {
      "text/plain": [
       "4"
      ]
     },
     "metadata": {},
     "execution_count": 68
    }
   ],
   "source": [
    "def checkRange(lst,min,max):\n",
    "    count = 0\n",
    "    for e in lst:\n",
    "        if min < e and e < max:\n",
    "            count += 1\n",
    "    return count\n",
    "checkRange([1,2,1,3,3,3,4,5,6],2,5)"
   ]
  },
  {
   "cell_type": "code",
   "execution_count": 71,
   "metadata": {},
   "outputs": [
    {
     "output_type": "execute_result",
     "data": {
      "text/plain": [
       "[0.8414709848078965,\n",
       " 0.9092974268256817,\n",
       " 0.1411200080598672,\n",
       " -0.7568024953079282,\n",
       " -0.9589242746631385]"
      ]
     },
     "metadata": {},
     "execution_count": 71
    }
   ],
   "source": [
    "def sqrtList(lst):\n",
    "    import math\n",
    "    new = list()\n",
    "    for e in lst:\n",
    "        new.append(math.sin(e))\n",
    "    return new\n",
    "sqrtList([1,2,3,4,5])"
   ]
  },
  {
   "cell_type": "code",
   "execution_count": null,
   "metadata": {},
   "outputs": [],
   "source": [
    "def pascal_triangle(n):\n",
    "    row = [1]\n",
    "    "
   ]
  },
  {
   "cell_type": "code",
   "execution_count": null,
   "metadata": {},
   "outputs": [],
   "source": [
    "5! = 5 x 4 x 3 x 2 x 1\n",
    "6! = 6 x 5!\n",
    "7! = 7 x 6!\n",
    "n! = n x (n - 1)!"
   ]
  },
  {
   "cell_type": "code",
   "execution_count": 73,
   "metadata": {},
   "outputs": [
    {
     "output_type": "execute_result",
     "data": {
      "text/plain": [
       "120"
      ]
     },
     "metadata": {},
     "execution_count": 73
    }
   ],
   "source": [
    "def factorial(n):\n",
    "    if n == 0:\n",
    "        return 1\n",
    "    else:\n",
    "        return n * factorial(n -1)\n",
    "factorial(5)"
   ]
  },
  {
   "cell_type": "code",
   "execution_count": 74,
   "metadata": {},
   "outputs": [
    {
     "output_type": "execute_result",
     "data": {
      "text/plain": [
       "120"
      ]
     },
     "metadata": {},
     "execution_count": 74
    }
   ],
   "source": [
    "\n",
    "5 * 4 * 3 * 2 * 1 * 1"
   ]
  },
  {
   "cell_type": "code",
   "execution_count": null,
   "metadata": {},
   "outputs": [],
   "source": []
  }
 ]
}